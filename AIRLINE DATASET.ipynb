{
 "cells": [
  {
   "cell_type": "code",
   "execution_count": 1,
   "id": "4ebf1e6f",
   "metadata": {},
   "outputs": [],
   "source": [
    "import numpy as np\n",
    "import pandas as pd\n",
    "import matplotlib.pyplot as plt\n",
    "import seaborn as sns\n",
    "%matplotlib inline\n",
    "import warnings\n",
    "warnings.filterwarnings(\"ignore\")"
   ]
  },
  {
   "cell_type": "code",
   "execution_count": 2,
   "id": "577a6082",
   "metadata": {},
   "outputs": [],
   "source": [
    "sns.set(style = 'darkgrid')"
   ]
  },
  {
   "cell_type": "code",
   "execution_count": 3,
   "id": "b7a0f360",
   "metadata": {},
   "outputs": [],
   "source": [
    "df = pd.read_excel('C:/Users/acer/Downloads/Data_Train.xlsx')"
   ]
  },
  {
   "cell_type": "code",
   "execution_count": 4,
   "id": "16483554",
   "metadata": {},
   "outputs": [
    {
     "data": {
      "text/html": [
       "<div>\n",
       "<style scoped>\n",
       "    .dataframe tbody tr th:only-of-type {\n",
       "        vertical-align: middle;\n",
       "    }\n",
       "\n",
       "    .dataframe tbody tr th {\n",
       "        vertical-align: top;\n",
       "    }\n",
       "\n",
       "    .dataframe thead th {\n",
       "        text-align: right;\n",
       "    }\n",
       "</style>\n",
       "<table border=\"1\" class=\"dataframe\">\n",
       "  <thead>\n",
       "    <tr style=\"text-align: right;\">\n",
       "      <th></th>\n",
       "      <th>Airline</th>\n",
       "      <th>Date_of_Journey</th>\n",
       "      <th>Source</th>\n",
       "      <th>Destination</th>\n",
       "      <th>Route</th>\n",
       "      <th>Dep_Time</th>\n",
       "      <th>Arrival_Time</th>\n",
       "      <th>Duration</th>\n",
       "      <th>Total_Stops</th>\n",
       "      <th>Additional_Info</th>\n",
       "      <th>Price</th>\n",
       "    </tr>\n",
       "  </thead>\n",
       "  <tbody>\n",
       "    <tr>\n",
       "      <th>0</th>\n",
       "      <td>IndiGo</td>\n",
       "      <td>24/03/2019</td>\n",
       "      <td>Banglore</td>\n",
       "      <td>New Delhi</td>\n",
       "      <td>BLR → DEL</td>\n",
       "      <td>22:20</td>\n",
       "      <td>01:10 22 Mar</td>\n",
       "      <td>2h 50m</td>\n",
       "      <td>non-stop</td>\n",
       "      <td>No info</td>\n",
       "      <td>3897</td>\n",
       "    </tr>\n",
       "    <tr>\n",
       "      <th>1</th>\n",
       "      <td>Air India</td>\n",
       "      <td>1/05/2019</td>\n",
       "      <td>Kolkata</td>\n",
       "      <td>Banglore</td>\n",
       "      <td>CCU → IXR → BBI → BLR</td>\n",
       "      <td>05:50</td>\n",
       "      <td>13:15</td>\n",
       "      <td>7h 25m</td>\n",
       "      <td>2 stops</td>\n",
       "      <td>No info</td>\n",
       "      <td>7662</td>\n",
       "    </tr>\n",
       "    <tr>\n",
       "      <th>2</th>\n",
       "      <td>Jet Airways</td>\n",
       "      <td>9/06/2019</td>\n",
       "      <td>Delhi</td>\n",
       "      <td>Cochin</td>\n",
       "      <td>DEL → LKO → BOM → COK</td>\n",
       "      <td>09:25</td>\n",
       "      <td>04:25 10 Jun</td>\n",
       "      <td>19h</td>\n",
       "      <td>2 stops</td>\n",
       "      <td>No info</td>\n",
       "      <td>13882</td>\n",
       "    </tr>\n",
       "    <tr>\n",
       "      <th>3</th>\n",
       "      <td>IndiGo</td>\n",
       "      <td>12/05/2019</td>\n",
       "      <td>Kolkata</td>\n",
       "      <td>Banglore</td>\n",
       "      <td>CCU → NAG → BLR</td>\n",
       "      <td>18:05</td>\n",
       "      <td>23:30</td>\n",
       "      <td>5h 25m</td>\n",
       "      <td>1 stop</td>\n",
       "      <td>No info</td>\n",
       "      <td>6218</td>\n",
       "    </tr>\n",
       "    <tr>\n",
       "      <th>4</th>\n",
       "      <td>IndiGo</td>\n",
       "      <td>01/03/2019</td>\n",
       "      <td>Banglore</td>\n",
       "      <td>New Delhi</td>\n",
       "      <td>BLR → NAG → DEL</td>\n",
       "      <td>16:50</td>\n",
       "      <td>21:35</td>\n",
       "      <td>4h 45m</td>\n",
       "      <td>1 stop</td>\n",
       "      <td>No info</td>\n",
       "      <td>13302</td>\n",
       "    </tr>\n",
       "    <tr>\n",
       "      <th>...</th>\n",
       "      <td>...</td>\n",
       "      <td>...</td>\n",
       "      <td>...</td>\n",
       "      <td>...</td>\n",
       "      <td>...</td>\n",
       "      <td>...</td>\n",
       "      <td>...</td>\n",
       "      <td>...</td>\n",
       "      <td>...</td>\n",
       "      <td>...</td>\n",
       "      <td>...</td>\n",
       "    </tr>\n",
       "    <tr>\n",
       "      <th>10678</th>\n",
       "      <td>Air Asia</td>\n",
       "      <td>9/04/2019</td>\n",
       "      <td>Kolkata</td>\n",
       "      <td>Banglore</td>\n",
       "      <td>CCU → BLR</td>\n",
       "      <td>19:55</td>\n",
       "      <td>22:25</td>\n",
       "      <td>2h 30m</td>\n",
       "      <td>non-stop</td>\n",
       "      <td>No info</td>\n",
       "      <td>4107</td>\n",
       "    </tr>\n",
       "    <tr>\n",
       "      <th>10679</th>\n",
       "      <td>Air India</td>\n",
       "      <td>27/04/2019</td>\n",
       "      <td>Kolkata</td>\n",
       "      <td>Banglore</td>\n",
       "      <td>CCU → BLR</td>\n",
       "      <td>20:45</td>\n",
       "      <td>23:20</td>\n",
       "      <td>2h 35m</td>\n",
       "      <td>non-stop</td>\n",
       "      <td>No info</td>\n",
       "      <td>4145</td>\n",
       "    </tr>\n",
       "    <tr>\n",
       "      <th>10680</th>\n",
       "      <td>Jet Airways</td>\n",
       "      <td>27/04/2019</td>\n",
       "      <td>Banglore</td>\n",
       "      <td>Delhi</td>\n",
       "      <td>BLR → DEL</td>\n",
       "      <td>08:20</td>\n",
       "      <td>11:20</td>\n",
       "      <td>3h</td>\n",
       "      <td>non-stop</td>\n",
       "      <td>No info</td>\n",
       "      <td>7229</td>\n",
       "    </tr>\n",
       "    <tr>\n",
       "      <th>10681</th>\n",
       "      <td>Vistara</td>\n",
       "      <td>01/03/2019</td>\n",
       "      <td>Banglore</td>\n",
       "      <td>New Delhi</td>\n",
       "      <td>BLR → DEL</td>\n",
       "      <td>11:30</td>\n",
       "      <td>14:10</td>\n",
       "      <td>2h 40m</td>\n",
       "      <td>non-stop</td>\n",
       "      <td>No info</td>\n",
       "      <td>12648</td>\n",
       "    </tr>\n",
       "    <tr>\n",
       "      <th>10682</th>\n",
       "      <td>Air India</td>\n",
       "      <td>9/05/2019</td>\n",
       "      <td>Delhi</td>\n",
       "      <td>Cochin</td>\n",
       "      <td>DEL → GOI → BOM → COK</td>\n",
       "      <td>10:55</td>\n",
       "      <td>19:15</td>\n",
       "      <td>8h 20m</td>\n",
       "      <td>2 stops</td>\n",
       "      <td>No info</td>\n",
       "      <td>11753</td>\n",
       "    </tr>\n",
       "  </tbody>\n",
       "</table>\n",
       "<p>10683 rows × 11 columns</p>\n",
       "</div>"
      ],
      "text/plain": [
       "           Airline Date_of_Journey    Source Destination  \\\n",
       "0           IndiGo      24/03/2019  Banglore   New Delhi   \n",
       "1        Air India       1/05/2019   Kolkata    Banglore   \n",
       "2      Jet Airways       9/06/2019     Delhi      Cochin   \n",
       "3           IndiGo      12/05/2019   Kolkata    Banglore   \n",
       "4           IndiGo      01/03/2019  Banglore   New Delhi   \n",
       "...            ...             ...       ...         ...   \n",
       "10678     Air Asia       9/04/2019   Kolkata    Banglore   \n",
       "10679    Air India      27/04/2019   Kolkata    Banglore   \n",
       "10680  Jet Airways      27/04/2019  Banglore       Delhi   \n",
       "10681      Vistara      01/03/2019  Banglore   New Delhi   \n",
       "10682    Air India       9/05/2019     Delhi      Cochin   \n",
       "\n",
       "                       Route Dep_Time  Arrival_Time Duration Total_Stops  \\\n",
       "0                  BLR → DEL    22:20  01:10 22 Mar   2h 50m    non-stop   \n",
       "1      CCU → IXR → BBI → BLR    05:50         13:15   7h 25m     2 stops   \n",
       "2      DEL → LKO → BOM → COK    09:25  04:25 10 Jun      19h     2 stops   \n",
       "3            CCU → NAG → BLR    18:05         23:30   5h 25m      1 stop   \n",
       "4            BLR → NAG → DEL    16:50         21:35   4h 45m      1 stop   \n",
       "...                      ...      ...           ...      ...         ...   \n",
       "10678              CCU → BLR    19:55         22:25   2h 30m    non-stop   \n",
       "10679              CCU → BLR    20:45         23:20   2h 35m    non-stop   \n",
       "10680              BLR → DEL    08:20         11:20       3h    non-stop   \n",
       "10681              BLR → DEL    11:30         14:10   2h 40m    non-stop   \n",
       "10682  DEL → GOI → BOM → COK    10:55         19:15   8h 20m     2 stops   \n",
       "\n",
       "      Additional_Info  Price  \n",
       "0             No info   3897  \n",
       "1             No info   7662  \n",
       "2             No info  13882  \n",
       "3             No info   6218  \n",
       "4             No info  13302  \n",
       "...               ...    ...  \n",
       "10678         No info   4107  \n",
       "10679         No info   4145  \n",
       "10680         No info   7229  \n",
       "10681         No info  12648  \n",
       "10682         No info  11753  \n",
       "\n",
       "[10683 rows x 11 columns]"
      ]
     },
     "execution_count": 4,
     "metadata": {},
     "output_type": "execute_result"
    }
   ],
   "source": [
    "df"
   ]
  },
  {
   "cell_type": "code",
   "execution_count": 5,
   "id": "8ea1b4ca",
   "metadata": {},
   "outputs": [
    {
     "data": {
      "text/plain": [
       "(10683, 11)"
      ]
     },
     "execution_count": 5,
     "metadata": {},
     "output_type": "execute_result"
    }
   ],
   "source": [
    "df.shape"
   ]
  },
  {
   "cell_type": "code",
   "execution_count": 6,
   "id": "32ad8d12",
   "metadata": {},
   "outputs": [
    {
     "name": "stdout",
     "output_type": "stream",
     "text": [
      "<class 'pandas.core.frame.DataFrame'>\n",
      "RangeIndex: 10683 entries, 0 to 10682\n",
      "Data columns (total 11 columns):\n",
      " #   Column           Non-Null Count  Dtype \n",
      "---  ------           --------------  ----- \n",
      " 0   Airline          10683 non-null  object\n",
      " 1   Date_of_Journey  10683 non-null  object\n",
      " 2   Source           10683 non-null  object\n",
      " 3   Destination      10683 non-null  object\n",
      " 4   Route            10682 non-null  object\n",
      " 5   Dep_Time         10683 non-null  object\n",
      " 6   Arrival_Time     10683 non-null  object\n",
      " 7   Duration         10683 non-null  object\n",
      " 8   Total_Stops      10682 non-null  object\n",
      " 9   Additional_Info  10683 non-null  object\n",
      " 10  Price            10683 non-null  int64 \n",
      "dtypes: int64(1), object(10)\n",
      "memory usage: 918.2+ KB\n"
     ]
    }
   ],
   "source": [
    "df.info()"
   ]
  },
  {
   "cell_type": "code",
   "execution_count": 7,
   "id": "8edac45c",
   "metadata": {},
   "outputs": [
    {
     "data": {
      "text/html": [
       "<div>\n",
       "<style scoped>\n",
       "    .dataframe tbody tr th:only-of-type {\n",
       "        vertical-align: middle;\n",
       "    }\n",
       "\n",
       "    .dataframe tbody tr th {\n",
       "        vertical-align: top;\n",
       "    }\n",
       "\n",
       "    .dataframe thead th {\n",
       "        text-align: right;\n",
       "    }\n",
       "</style>\n",
       "<table border=\"1\" class=\"dataframe\">\n",
       "  <thead>\n",
       "    <tr style=\"text-align: right;\">\n",
       "      <th></th>\n",
       "      <th>Price</th>\n",
       "    </tr>\n",
       "  </thead>\n",
       "  <tbody>\n",
       "    <tr>\n",
       "      <th>count</th>\n",
       "      <td>10683.000000</td>\n",
       "    </tr>\n",
       "    <tr>\n",
       "      <th>mean</th>\n",
       "      <td>9087.064121</td>\n",
       "    </tr>\n",
       "    <tr>\n",
       "      <th>std</th>\n",
       "      <td>4611.359167</td>\n",
       "    </tr>\n",
       "    <tr>\n",
       "      <th>min</th>\n",
       "      <td>1759.000000</td>\n",
       "    </tr>\n",
       "    <tr>\n",
       "      <th>25%</th>\n",
       "      <td>5277.000000</td>\n",
       "    </tr>\n",
       "    <tr>\n",
       "      <th>50%</th>\n",
       "      <td>8372.000000</td>\n",
       "    </tr>\n",
       "    <tr>\n",
       "      <th>75%</th>\n",
       "      <td>12373.000000</td>\n",
       "    </tr>\n",
       "    <tr>\n",
       "      <th>max</th>\n",
       "      <td>79512.000000</td>\n",
       "    </tr>\n",
       "  </tbody>\n",
       "</table>\n",
       "</div>"
      ],
      "text/plain": [
       "              Price\n",
       "count  10683.000000\n",
       "mean    9087.064121\n",
       "std     4611.359167\n",
       "min     1759.000000\n",
       "25%     5277.000000\n",
       "50%     8372.000000\n",
       "75%    12373.000000\n",
       "max    79512.000000"
      ]
     },
     "execution_count": 7,
     "metadata": {},
     "output_type": "execute_result"
    }
   ],
   "source": [
    "df.describe()"
   ]
  },
  {
   "cell_type": "code",
   "execution_count": 8,
   "id": "75e4ca00",
   "metadata": {},
   "outputs": [
    {
     "data": {
      "text/html": [
       "<div>\n",
       "<style scoped>\n",
       "    .dataframe tbody tr th:only-of-type {\n",
       "        vertical-align: middle;\n",
       "    }\n",
       "\n",
       "    .dataframe tbody tr th {\n",
       "        vertical-align: top;\n",
       "    }\n",
       "\n",
       "    .dataframe thead th {\n",
       "        text-align: right;\n",
       "    }\n",
       "</style>\n",
       "<table border=\"1\" class=\"dataframe\">\n",
       "  <thead>\n",
       "    <tr style=\"text-align: right;\">\n",
       "      <th></th>\n",
       "      <th>Airline</th>\n",
       "      <th>Date_of_Journey</th>\n",
       "      <th>Source</th>\n",
       "      <th>Destination</th>\n",
       "      <th>Route</th>\n",
       "      <th>Dep_Time</th>\n",
       "      <th>Arrival_Time</th>\n",
       "      <th>Duration</th>\n",
       "      <th>Total_Stops</th>\n",
       "      <th>Additional_Info</th>\n",
       "    </tr>\n",
       "  </thead>\n",
       "  <tbody>\n",
       "    <tr>\n",
       "      <th>count</th>\n",
       "      <td>10683</td>\n",
       "      <td>10683</td>\n",
       "      <td>10683</td>\n",
       "      <td>10683</td>\n",
       "      <td>10682</td>\n",
       "      <td>10683</td>\n",
       "      <td>10683</td>\n",
       "      <td>10683</td>\n",
       "      <td>10682</td>\n",
       "      <td>10683</td>\n",
       "    </tr>\n",
       "    <tr>\n",
       "      <th>unique</th>\n",
       "      <td>12</td>\n",
       "      <td>44</td>\n",
       "      <td>5</td>\n",
       "      <td>6</td>\n",
       "      <td>128</td>\n",
       "      <td>222</td>\n",
       "      <td>1343</td>\n",
       "      <td>368</td>\n",
       "      <td>5</td>\n",
       "      <td>10</td>\n",
       "    </tr>\n",
       "    <tr>\n",
       "      <th>top</th>\n",
       "      <td>Jet Airways</td>\n",
       "      <td>18/05/2019</td>\n",
       "      <td>Delhi</td>\n",
       "      <td>Cochin</td>\n",
       "      <td>DEL → BOM → COK</td>\n",
       "      <td>18:55</td>\n",
       "      <td>19:00</td>\n",
       "      <td>2h 50m</td>\n",
       "      <td>1 stop</td>\n",
       "      <td>No info</td>\n",
       "    </tr>\n",
       "    <tr>\n",
       "      <th>freq</th>\n",
       "      <td>3849</td>\n",
       "      <td>504</td>\n",
       "      <td>4537</td>\n",
       "      <td>4537</td>\n",
       "      <td>2376</td>\n",
       "      <td>233</td>\n",
       "      <td>423</td>\n",
       "      <td>550</td>\n",
       "      <td>5625</td>\n",
       "      <td>8345</td>\n",
       "    </tr>\n",
       "  </tbody>\n",
       "</table>\n",
       "</div>"
      ],
      "text/plain": [
       "            Airline Date_of_Journey Source Destination            Route  \\\n",
       "count         10683           10683  10683       10683            10682   \n",
       "unique           12              44      5           6              128   \n",
       "top     Jet Airways      18/05/2019  Delhi      Cochin  DEL → BOM → COK   \n",
       "freq           3849             504   4537        4537             2376   \n",
       "\n",
       "       Dep_Time Arrival_Time Duration Total_Stops Additional_Info  \n",
       "count     10683        10683    10683       10682           10683  \n",
       "unique      222         1343      368           5              10  \n",
       "top       18:55        19:00   2h 50m      1 stop         No info  \n",
       "freq        233          423      550        5625            8345  "
      ]
     },
     "execution_count": 8,
     "metadata": {},
     "output_type": "execute_result"
    }
   ],
   "source": [
    "df.describe(include=object)"
   ]
  },
  {
   "cell_type": "code",
   "execution_count": 9,
   "id": "a3e6e744",
   "metadata": {},
   "outputs": [
    {
     "data": {
      "text/plain": [
       "Airline            0\n",
       "Date_of_Journey    0\n",
       "Source             0\n",
       "Destination        0\n",
       "Route              1\n",
       "Dep_Time           0\n",
       "Arrival_Time       0\n",
       "Duration           0\n",
       "Total_Stops        1\n",
       "Additional_Info    0\n",
       "Price              0\n",
       "dtype: int64"
      ]
     },
     "execution_count": 9,
     "metadata": {},
     "output_type": "execute_result"
    }
   ],
   "source": [
    "df.isnull().sum()"
   ]
  },
  {
   "cell_type": "code",
   "execution_count": 10,
   "id": "712011eb",
   "metadata": {},
   "outputs": [
    {
     "data": {
      "text/plain": [
       "Index(['Airline', 'Date_of_Journey', 'Source', 'Destination', 'Route',\n",
       "       'Dep_Time', 'Arrival_Time', 'Duration', 'Total_Stops',\n",
       "       'Additional_Info', 'Price'],\n",
       "      dtype='object')"
      ]
     },
     "execution_count": 10,
     "metadata": {},
     "output_type": "execute_result"
    }
   ],
   "source": [
    "df.columns"
   ]
  },
  {
   "cell_type": "code",
   "execution_count": 11,
   "id": "00965b6f",
   "metadata": {},
   "outputs": [
    {
     "data": {
      "text/html": [
       "<div>\n",
       "<style scoped>\n",
       "    .dataframe tbody tr th:only-of-type {\n",
       "        vertical-align: middle;\n",
       "    }\n",
       "\n",
       "    .dataframe tbody tr th {\n",
       "        vertical-align: top;\n",
       "    }\n",
       "\n",
       "    .dataframe thead th {\n",
       "        text-align: right;\n",
       "    }\n",
       "</style>\n",
       "<table border=\"1\" class=\"dataframe\">\n",
       "  <thead>\n",
       "    <tr style=\"text-align: right;\">\n",
       "      <th></th>\n",
       "      <th>max</th>\n",
       "      <th>min</th>\n",
       "    </tr>\n",
       "    <tr>\n",
       "      <th>Airline</th>\n",
       "      <th></th>\n",
       "      <th></th>\n",
       "    </tr>\n",
       "  </thead>\n",
       "  <tbody>\n",
       "    <tr>\n",
       "      <th>Air Asia</th>\n",
       "      <td>13774</td>\n",
       "      <td>3383</td>\n",
       "    </tr>\n",
       "    <tr>\n",
       "      <th>Air India</th>\n",
       "      <td>31945</td>\n",
       "      <td>2050</td>\n",
       "    </tr>\n",
       "    <tr>\n",
       "      <th>GoAir</th>\n",
       "      <td>22794</td>\n",
       "      <td>3398</td>\n",
       "    </tr>\n",
       "    <tr>\n",
       "      <th>IndiGo</th>\n",
       "      <td>22153</td>\n",
       "      <td>2227</td>\n",
       "    </tr>\n",
       "    <tr>\n",
       "      <th>Jet Airways</th>\n",
       "      <td>54826</td>\n",
       "      <td>1840</td>\n",
       "    </tr>\n",
       "    <tr>\n",
       "      <th>Jet Airways Business</th>\n",
       "      <td>79512</td>\n",
       "      <td>46490</td>\n",
       "    </tr>\n",
       "    <tr>\n",
       "      <th>Multiple carriers</th>\n",
       "      <td>36983</td>\n",
       "      <td>5797</td>\n",
       "    </tr>\n",
       "    <tr>\n",
       "      <th>Multiple carriers Premium economy</th>\n",
       "      <td>14629</td>\n",
       "      <td>9845</td>\n",
       "    </tr>\n",
       "    <tr>\n",
       "      <th>SpiceJet</th>\n",
       "      <td>23267</td>\n",
       "      <td>1759</td>\n",
       "    </tr>\n",
       "    <tr>\n",
       "      <th>Trujet</th>\n",
       "      <td>4140</td>\n",
       "      <td>4140</td>\n",
       "    </tr>\n",
       "    <tr>\n",
       "      <th>Vistara</th>\n",
       "      <td>21730</td>\n",
       "      <td>3687</td>\n",
       "    </tr>\n",
       "    <tr>\n",
       "      <th>Vistara Premium economy</th>\n",
       "      <td>11793</td>\n",
       "      <td>5969</td>\n",
       "    </tr>\n",
       "  </tbody>\n",
       "</table>\n",
       "</div>"
      ],
      "text/plain": [
       "                                     max    min\n",
       "Airline                                        \n",
       "Air Asia                           13774   3383\n",
       "Air India                          31945   2050\n",
       "GoAir                              22794   3398\n",
       "IndiGo                             22153   2227\n",
       "Jet Airways                        54826   1840\n",
       "Jet Airways Business               79512  46490\n",
       "Multiple carriers                  36983   5797\n",
       "Multiple carriers Premium economy  14629   9845\n",
       "SpiceJet                           23267   1759\n",
       "Trujet                              4140   4140\n",
       "Vistara                            21730   3687\n",
       "Vistara Premium economy            11793   5969"
      ]
     },
     "execution_count": 11,
     "metadata": {},
     "output_type": "execute_result"
    }
   ],
   "source": [
    "df.groupby(['Airline'])['Price'].agg([max,min])"
   ]
  },
  {
   "cell_type": "code",
   "execution_count": 12,
   "id": "35cd1d52",
   "metadata": {},
   "outputs": [
    {
     "data": {
      "text/plain": [
       "0    DEL → BOM → COK\n",
       "dtype: object"
      ]
     },
     "execution_count": 12,
     "metadata": {},
     "output_type": "execute_result"
    }
   ],
   "source": [
    "df['Route'].mode()"
   ]
  },
  {
   "cell_type": "code",
   "execution_count": 13,
   "id": "e2fb178a",
   "metadata": {},
   "outputs": [],
   "source": [
    "df['Route'] = df['Route'].fillna(df['Route'].mode()[0])  "
   ]
  },
  {
   "cell_type": "code",
   "execution_count": 14,
   "id": "ee8db2f0",
   "metadata": {},
   "outputs": [
    {
     "data": {
      "text/plain": [
       "0    1 stop\n",
       "dtype: object"
      ]
     },
     "execution_count": 14,
     "metadata": {},
     "output_type": "execute_result"
    }
   ],
   "source": [
    "df['Total_Stops'].mode()"
   ]
  },
  {
   "cell_type": "code",
   "execution_count": 15,
   "id": "a1f5ce33",
   "metadata": {},
   "outputs": [],
   "source": [
    "df['Total_Stops'] = df['Total_Stops'].fillna(df['Total_Stops'].mode()[0])"
   ]
  },
  {
   "cell_type": "code",
   "execution_count": 16,
   "id": "d612d107",
   "metadata": {},
   "outputs": [
    {
     "data": {
      "text/plain": [
       "Airline            0\n",
       "Date_of_Journey    0\n",
       "Source             0\n",
       "Destination        0\n",
       "Route              0\n",
       "Dep_Time           0\n",
       "Arrival_Time       0\n",
       "Duration           0\n",
       "Total_Stops        0\n",
       "Additional_Info    0\n",
       "Price              0\n",
       "dtype: int64"
      ]
     },
     "execution_count": 16,
     "metadata": {},
     "output_type": "execute_result"
    }
   ],
   "source": [
    "df.isnull().sum()"
   ]
  },
  {
   "cell_type": "code",
   "execution_count": 17,
   "id": "bbd0c601",
   "metadata": {},
   "outputs": [],
   "source": [
    "df['Date_of_Journey']  = pd.to_datetime(df['Date_of_Journey'])\n",
    "df['Dep_Time'] = pd.to_datetime(df['Dep_Time'])\n",
    "df['Arrival_Time'] = pd.to_datetime(df['Arrival_Time'])"
   ]
  },
  {
   "cell_type": "code",
   "execution_count": 18,
   "id": "07981f2e",
   "metadata": {},
   "outputs": [
    {
     "name": "stdout",
     "output_type": "stream",
     "text": [
      "<class 'pandas.core.frame.DataFrame'>\n",
      "RangeIndex: 10683 entries, 0 to 10682\n",
      "Data columns (total 11 columns):\n",
      " #   Column           Non-Null Count  Dtype         \n",
      "---  ------           --------------  -----         \n",
      " 0   Airline          10683 non-null  object        \n",
      " 1   Date_of_Journey  10683 non-null  datetime64[ns]\n",
      " 2   Source           10683 non-null  object        \n",
      " 3   Destination      10683 non-null  object        \n",
      " 4   Route            10683 non-null  object        \n",
      " 5   Dep_Time         10683 non-null  datetime64[ns]\n",
      " 6   Arrival_Time     10683 non-null  datetime64[ns]\n",
      " 7   Duration         10683 non-null  object        \n",
      " 8   Total_Stops      10683 non-null  object        \n",
      " 9   Additional_Info  10683 non-null  object        \n",
      " 10  Price            10683 non-null  int64         \n",
      "dtypes: datetime64[ns](3), int64(1), object(7)\n",
      "memory usage: 918.2+ KB\n"
     ]
    }
   ],
   "source": [
    "df.info()"
   ]
  },
  {
   "cell_type": "code",
   "execution_count": 19,
   "id": "77dc8301",
   "metadata": {},
   "outputs": [
    {
     "data": {
      "text/plain": [
       "0   2019-05-18\n",
       "dtype: datetime64[ns]"
      ]
     },
     "execution_count": 19,
     "metadata": {},
     "output_type": "execute_result"
    }
   ],
   "source": [
    "df['Date_of_Journey'].mode()"
   ]
  },
  {
   "cell_type": "code",
   "execution_count": 20,
   "id": "f91b60f4",
   "metadata": {},
   "outputs": [
    {
     "data": {
      "text/plain": [
       "0    1 stop\n",
       "dtype: object"
      ]
     },
     "execution_count": 20,
     "metadata": {},
     "output_type": "execute_result"
    }
   ],
   "source": [
    "df['Total_Stops'].mode()"
   ]
  },
  {
   "cell_type": "code",
   "execution_count": 21,
   "id": "1076167b",
   "metadata": {},
   "outputs": [
    {
     "data": {
      "image/png": "[encoded data removed]",
      "text/plain": [
       "<Figure size 432x288 with 1 Axes>"
      ]
     },
     "metadata": {},
     "output_type": "display_data"
    }
   ],
   "source": [
    "#This Histogram shows the no.of stopages of flights\n",
    "plt.title('No. of fligths Stopage')\n",
    "plt.hist(df['Total_Stops'])\n",
    "plt.xlabel('Stopages')\n",
    "plt.ylabel('No.of Flights')\n",
    "plt.show()"
   ]
  },
  {
   "cell_type": "code",
   "execution_count": 22,
   "id": "607399cc",
   "metadata": {},
   "outputs": [
    {
     "data": {
      "text/plain": [
       "array(['2019-03-24T00:00:00.000000000', '2019-01-05T00:00:00.000000000',\n",
       "       '2019-09-06T00:00:00.000000000', '2019-12-05T00:00:00.000000000',\n",
       "       '2019-01-03T00:00:00.000000000', '2019-06-24T00:00:00.000000000',\n",
       "       '2019-12-03T00:00:00.000000000', '2019-05-27T00:00:00.000000000',\n",
       "       '2019-01-06T00:00:00.000000000', '2019-04-18T00:00:00.000000000',\n",
       "       '2019-09-05T00:00:00.000000000', '2019-04-24T00:00:00.000000000',\n",
       "       '2019-03-03T00:00:00.000000000', '2019-04-15T00:00:00.000000000',\n",
       "       '2019-12-06T00:00:00.000000000', '2019-06-03T00:00:00.000000000',\n",
       "       '2019-03-21T00:00:00.000000000', '2019-03-04T00:00:00.000000000',\n",
       "       '2019-06-05T00:00:00.000000000', '2019-05-15T00:00:00.000000000',\n",
       "       '2019-06-18T00:00:00.000000000', '2019-06-15T00:00:00.000000000',\n",
       "       '2019-06-04T00:00:00.000000000', '2019-05-18T00:00:00.000000000',\n",
       "       '2019-06-27T00:00:00.000000000', '2019-05-21T00:00:00.000000000',\n",
       "       '2019-03-06T00:00:00.000000000', '2019-03-15T00:00:00.000000000',\n",
       "       '2019-03-05T00:00:00.000000000', '2019-09-03T00:00:00.000000000',\n",
       "       '2019-06-06T00:00:00.000000000', '2019-05-24T00:00:00.000000000',\n",
       "       '2019-01-04T00:00:00.000000000', '2019-04-21T00:00:00.000000000',\n",
       "       '2019-06-21T00:00:00.000000000', '2019-03-27T00:00:00.000000000',\n",
       "       '2019-03-18T00:00:00.000000000', '2019-12-04T00:00:00.000000000',\n",
       "       '2019-09-04T00:00:00.000000000', '2019-04-27T00:00:00.000000000'],\n",
       "      dtype='datetime64[ns]')"
      ]
     },
     "execution_count": 22,
     "metadata": {},
     "output_type": "execute_result"
    }
   ],
   "source": [
    "df['Date_of_Journey'].unique()"
   ]
  },
  {
   "cell_type": "code",
   "execution_count": 23,
   "id": "940c8f77",
   "metadata": {},
   "outputs": [],
   "source": [
    "df['Day_of_Journey']  = df['Date_of_Journey'].dt.day"
   ]
  },
  {
   "cell_type": "code",
   "execution_count": 24,
   "id": "5c4ec08a",
   "metadata": {},
   "outputs": [],
   "source": [
    "df['Month_of_Journey'] = df['Date_of_Journey'].dt.month"
   ]
  },
  {
   "cell_type": "code",
   "execution_count": 25,
   "id": "74709b06",
   "metadata": {},
   "outputs": [],
   "source": [
    "df.drop(columns=['Date_of_Journey'],inplace=True)"
   ]
  },
  {
   "cell_type": "code",
   "execution_count": 26,
   "id": "d81b9f58",
   "metadata": {},
   "outputs": [
    {
     "data": {
      "text/html": [
       "<div>\n",
       "<style scoped>\n",
       "    .dataframe tbody tr th:only-of-type {\n",
       "        vertical-align: middle;\n",
       "    }\n",
       "\n",
       "    .dataframe tbody tr th {\n",
       "        vertical-align: top;\n",
       "    }\n",
       "\n",
       "    .dataframe thead th {\n",
       "        text-align: right;\n",
       "    }\n",
       "</style>\n",
       "<table border=\"1\" class=\"dataframe\">\n",
       "  <thead>\n",
       "    <tr style=\"text-align: right;\">\n",
       "      <th></th>\n",
       "      <th>Airline</th>\n",
       "      <th>Source</th>\n",
       "      <th>Destination</th>\n",
       "      <th>Route</th>\n",
       "      <th>Dep_Time</th>\n",
       "      <th>Arrival_Time</th>\n",
       "      <th>Duration</th>\n",
       "      <th>Total_Stops</th>\n",
       "      <th>Additional_Info</th>\n",
       "      <th>Price</th>\n",
       "      <th>Day_of_Journey</th>\n",
       "      <th>Month_of_Journey</th>\n",
       "    </tr>\n",
       "  </thead>\n",
       "  <tbody>\n",
       "    <tr>\n",
       "      <th>0</th>\n",
       "      <td>IndiGo</td>\n",
       "      <td>Banglore</td>\n",
       "      <td>New Delhi</td>\n",
       "      <td>BLR → DEL</td>\n",
       "      <td>2022-04-29 22:20:00</td>\n",
       "      <td>2022-03-22 01:10:00</td>\n",
       "      <td>2h 50m</td>\n",
       "      <td>non-stop</td>\n",
       "      <td>No info</td>\n",
       "      <td>3897</td>\n",
       "      <td>24</td>\n",
       "      <td>3</td>\n",
       "    </tr>\n",
       "    <tr>\n",
       "      <th>1</th>\n",
       "      <td>Air India</td>\n",
       "      <td>Kolkata</td>\n",
       "      <td>Banglore</td>\n",
       "      <td>CCU → IXR → BBI → BLR</td>\n",
       "      <td>2022-04-29 05:50:00</td>\n",
       "      <td>2022-04-29 13:15:00</td>\n",
       "      <td>7h 25m</td>\n",
       "      <td>2 stops</td>\n",
       "      <td>No info</td>\n",
       "      <td>7662</td>\n",
       "      <td>5</td>\n",
       "      <td>1</td>\n",
       "    </tr>\n",
       "  </tbody>\n",
       "</table>\n",
       "</div>"
      ],
      "text/plain": [
       "     Airline    Source Destination                  Route            Dep_Time  \\\n",
       "0     IndiGo  Banglore   New Delhi              BLR → DEL 2022-04-29 22:20:00   \n",
       "1  Air India   Kolkata    Banglore  CCU → IXR → BBI → BLR 2022-04-29 05:50:00   \n",
       "\n",
       "         Arrival_Time Duration Total_Stops Additional_Info  Price  \\\n",
       "0 2022-03-22 01:10:00   2h 50m    non-stop         No info   3897   \n",
       "1 2022-04-29 13:15:00   7h 25m     2 stops         No info   7662   \n",
       "\n",
       "   Day_of_Journey  Month_of_Journey  \n",
       "0              24                 3  \n",
       "1               5                 1  "
      ]
     },
     "execution_count": 26,
     "metadata": {},
     "output_type": "execute_result"
    }
   ],
   "source": [
    "df.head(2)"
   ]
  },
  {
   "cell_type": "code",
   "execution_count": 27,
   "id": "ee4eefd0",
   "metadata": {},
   "outputs": [
    {
     "data": {
      "text/plain": [
       "array(['non-stop', '2 stops', '1 stop', '3 stops', '4 stops'],\n",
       "      dtype=object)"
      ]
     },
     "execution_count": 27,
     "metadata": {},
     "output_type": "execute_result"
    }
   ],
   "source": [
    "df['Total_Stops'].unique()"
   ]
  },
  {
   "cell_type": "code",
   "execution_count": 28,
   "id": "0962afe6",
   "metadata": {},
   "outputs": [
    {
     "data": {
      "image/png": "[encoded data removed]",
      "text/plain": [
       "<Figure size 432x288 with 2 Axes>"
      ]
     },
     "metadata": {},
     "output_type": "display_data"
    }
   ],
   "source": [
    "fig, ax = plt.subplots(constrained_layout=True)\n",
    "month=list(df['Month_of_Journey'])\n",
    "stopages=list(df[\"Total_Stops\"])\n",
    "day=list(df['Day_of_Journey'])\n",
    "ax2=ax.twinx()\n",
    "ax.scatter(stopages,month)\n",
    "ax2.scatter(stopages,day)\n",
    "ax.set_xlabel('No of Stops')\n",
    "ax.set_ylabel('Month')\n",
    "ax2.set_ylabel('Day')\n",
    "plt.xticks(rotation=90,size=10)\n",
    "plt.title(\"this scatter plot shows the Journey day and stopages of flights\")\n",
    "plt.yticks(day)\n",
    "plt.show()"
   ]
  },
  {
   "cell_type": "code",
   "execution_count": 30,
   "id": "d0fc83ff",
   "metadata": {},
   "outputs": [
    {
     "data": {
      "text/html": [
       "<div>\n",
       "<style scoped>\n",
       "    .dataframe tbody tr th:only-of-type {\n",
       "        vertical-align: middle;\n",
       "    }\n",
       "\n",
       "    .dataframe tbody tr th {\n",
       "        vertical-align: top;\n",
       "    }\n",
       "\n",
       "    .dataframe thead th {\n",
       "        text-align: right;\n",
       "    }\n",
       "</style>\n",
       "<table border=\"1\" class=\"dataframe\">\n",
       "  <thead>\n",
       "    <tr style=\"text-align: right;\">\n",
       "      <th></th>\n",
       "      <th>Airline</th>\n",
       "      <th>Source</th>\n",
       "      <th>Destination</th>\n",
       "      <th>Route</th>\n",
       "      <th>Dep_Time</th>\n",
       "      <th>Arrival_Time</th>\n",
       "      <th>Duration</th>\n",
       "      <th>Total_Stops</th>\n",
       "      <th>Additional_Info</th>\n",
       "      <th>Price</th>\n",
       "      <th>Day_of_Journey</th>\n",
       "      <th>Month_of_Journey</th>\n",
       "    </tr>\n",
       "  </thead>\n",
       "  <tbody>\n",
       "    <tr>\n",
       "      <th>0</th>\n",
       "      <td>IndiGo</td>\n",
       "      <td>Banglore</td>\n",
       "      <td>New Delhi</td>\n",
       "      <td>BLR → DEL</td>\n",
       "      <td>2022-04-29 22:20:00</td>\n",
       "      <td>2022-03-22 01:10:00</td>\n",
       "      <td>2h 50m</td>\n",
       "      <td>non-stop</td>\n",
       "      <td>No info</td>\n",
       "      <td>3897</td>\n",
       "      <td>24</td>\n",
       "      <td>3</td>\n",
       "    </tr>\n",
       "    <tr>\n",
       "      <th>5</th>\n",
       "      <td>SpiceJet</td>\n",
       "      <td>Kolkata</td>\n",
       "      <td>Banglore</td>\n",
       "      <td>CCU → BLR</td>\n",
       "      <td>2022-04-29 09:00:00</td>\n",
       "      <td>2022-04-29 11:25:00</td>\n",
       "      <td>2h 25m</td>\n",
       "      <td>non-stop</td>\n",
       "      <td>No info</td>\n",
       "      <td>3873</td>\n",
       "      <td>24</td>\n",
       "      <td>6</td>\n",
       "    </tr>\n",
       "    <tr>\n",
       "      <th>11</th>\n",
       "      <td>IndiGo</td>\n",
       "      <td>Kolkata</td>\n",
       "      <td>Banglore</td>\n",
       "      <td>CCU → BLR</td>\n",
       "      <td>2022-04-29 20:20:00</td>\n",
       "      <td>2022-04-29 22:55:00</td>\n",
       "      <td>2h 35m</td>\n",
       "      <td>non-stop</td>\n",
       "      <td>No info</td>\n",
       "      <td>4174</td>\n",
       "      <td>18</td>\n",
       "      <td>4</td>\n",
       "    </tr>\n",
       "    <tr>\n",
       "      <th>12</th>\n",
       "      <td>Air India</td>\n",
       "      <td>Chennai</td>\n",
       "      <td>Kolkata</td>\n",
       "      <td>MAA → CCU</td>\n",
       "      <td>2022-04-29 11:40:00</td>\n",
       "      <td>2022-04-29 13:55:00</td>\n",
       "      <td>2h 15m</td>\n",
       "      <td>non-stop</td>\n",
       "      <td>No info</td>\n",
       "      <td>4667</td>\n",
       "      <td>24</td>\n",
       "      <td>6</td>\n",
       "    </tr>\n",
       "    <tr>\n",
       "      <th>14</th>\n",
       "      <td>IndiGo</td>\n",
       "      <td>Kolkata</td>\n",
       "      <td>Banglore</td>\n",
       "      <td>CCU → BLR</td>\n",
       "      <td>2022-04-29 17:15:00</td>\n",
       "      <td>2022-04-29 19:50:00</td>\n",
       "      <td>2h 35m</td>\n",
       "      <td>non-stop</td>\n",
       "      <td>No info</td>\n",
       "      <td>4804</td>\n",
       "      <td>24</td>\n",
       "      <td>4</td>\n",
       "    </tr>\n",
       "    <tr>\n",
       "      <th>...</th>\n",
       "      <td>...</td>\n",
       "      <td>...</td>\n",
       "      <td>...</td>\n",
       "      <td>...</td>\n",
       "      <td>...</td>\n",
       "      <td>...</td>\n",
       "      <td>...</td>\n",
       "      <td>...</td>\n",
       "      <td>...</td>\n",
       "      <td>...</td>\n",
       "      <td>...</td>\n",
       "      <td>...</td>\n",
       "    </tr>\n",
       "    <tr>\n",
       "      <th>10677</th>\n",
       "      <td>SpiceJet</td>\n",
       "      <td>Banglore</td>\n",
       "      <td>Delhi</td>\n",
       "      <td>BLR → DEL</td>\n",
       "      <td>2022-04-29 05:55:00</td>\n",
       "      <td>2022-04-29 08:35:00</td>\n",
       "      <td>2h 40m</td>\n",
       "      <td>non-stop</td>\n",
       "      <td>No check-in baggage included</td>\n",
       "      <td>3257</td>\n",
       "      <td>21</td>\n",
       "      <td>5</td>\n",
       "    </tr>\n",
       "    <tr>\n",
       "      <th>10678</th>\n",
       "      <td>Air Asia</td>\n",
       "      <td>Kolkata</td>\n",
       "      <td>Banglore</td>\n",
       "      <td>CCU → BLR</td>\n",
       "      <td>2022-04-29 19:55:00</td>\n",
       "      <td>2022-04-29 22:25:00</td>\n",
       "      <td>2h 30m</td>\n",
       "      <td>non-stop</td>\n",
       "      <td>No info</td>\n",
       "      <td>4107</td>\n",
       "      <td>4</td>\n",
       "      <td>9</td>\n",
       "    </tr>\n",
       "    <tr>\n",
       "      <th>10679</th>\n",
       "      <td>Air India</td>\n",
       "      <td>Kolkata</td>\n",
       "      <td>Banglore</td>\n",
       "      <td>CCU → BLR</td>\n",
       "      <td>2022-04-29 20:45:00</td>\n",
       "      <td>2022-04-29 23:20:00</td>\n",
       "      <td>2h 35m</td>\n",
       "      <td>non-stop</td>\n",
       "      <td>No info</td>\n",
       "      <td>4145</td>\n",
       "      <td>27</td>\n",
       "      <td>4</td>\n",
       "    </tr>\n",
       "    <tr>\n",
       "      <th>10680</th>\n",
       "      <td>Jet Airways</td>\n",
       "      <td>Banglore</td>\n",
       "      <td>Delhi</td>\n",
       "      <td>BLR → DEL</td>\n",
       "      <td>2022-04-29 08:20:00</td>\n",
       "      <td>2022-04-29 11:20:00</td>\n",
       "      <td>3h</td>\n",
       "      <td>non-stop</td>\n",
       "      <td>No info</td>\n",
       "      <td>7229</td>\n",
       "      <td>27</td>\n",
       "      <td>4</td>\n",
       "    </tr>\n",
       "    <tr>\n",
       "      <th>10681</th>\n",
       "      <td>Vistara</td>\n",
       "      <td>Banglore</td>\n",
       "      <td>New Delhi</td>\n",
       "      <td>BLR → DEL</td>\n",
       "      <td>2022-04-29 11:30:00</td>\n",
       "      <td>2022-04-29 14:10:00</td>\n",
       "      <td>2h 40m</td>\n",
       "      <td>non-stop</td>\n",
       "      <td>No info</td>\n",
       "      <td>12648</td>\n",
       "      <td>3</td>\n",
       "      <td>1</td>\n",
       "    </tr>\n",
       "  </tbody>\n",
       "</table>\n",
       "<p>3491 rows × 12 columns</p>\n",
       "</div>"
      ],
      "text/plain": [
       "           Airline    Source Destination      Route            Dep_Time  \\\n",
       "0           IndiGo  Banglore   New Delhi  BLR → DEL 2022-04-29 22:20:00   \n",
       "5         SpiceJet   Kolkata    Banglore  CCU → BLR 2022-04-29 09:00:00   \n",
       "11          IndiGo   Kolkata    Banglore  CCU → BLR 2022-04-29 20:20:00   \n",
       "12       Air India   Chennai     Kolkata  MAA → CCU 2022-04-29 11:40:00   \n",
       "14          IndiGo   Kolkata    Banglore  CCU → BLR 2022-04-29 17:15:00   \n",
       "...            ...       ...         ...        ...                 ...   \n",
       "10677     SpiceJet  Banglore       Delhi  BLR → DEL 2022-04-29 05:55:00   \n",
       "10678     Air Asia   Kolkata    Banglore  CCU → BLR 2022-04-29 19:55:00   \n",
       "10679    Air India   Kolkata    Banglore  CCU → BLR 2022-04-29 20:45:00   \n",
       "10680  Jet Airways  Banglore       Delhi  BLR → DEL 2022-04-29 08:20:00   \n",
       "10681      Vistara  Banglore   New Delhi  BLR → DEL 2022-04-29 11:30:00   \n",
       "\n",
       "             Arrival_Time Duration Total_Stops               Additional_Info  \\\n",
       "0     2022-03-22 01:10:00   2h 50m    non-stop                       No info   \n",
       "5     2022-04-29 11:25:00   2h 25m    non-stop                       No info   \n",
       "11    2022-04-29 22:55:00   2h 35m    non-stop                       No info   \n",
       "12    2022-04-29 13:55:00   2h 15m    non-stop                       No info   \n",
       "14    2022-04-29 19:50:00   2h 35m    non-stop                       No info   \n",
       "...                   ...      ...         ...                           ...   \n",
       "10677 2022-04-29 08:35:00   2h 40m    non-stop  No check-in baggage included   \n",
       "10678 2022-04-29 22:25:00   2h 30m    non-stop                       No info   \n",
       "10679 2022-04-29 23:20:00   2h 35m    non-stop                       No info   \n",
       "10680 2022-04-29 11:20:00       3h    non-stop                       No info   \n",
       "10681 2022-04-29 14:10:00   2h 40m    non-stop                       No info   \n",
       "\n",
       "       Price  Day_of_Journey  Month_of_Journey  \n",
       "0       3897              24                 3  \n",
       "5       3873              24                 6  \n",
       "11      4174              18                 4  \n",
       "12      4667              24                 6  \n",
       "14      4804              24                 4  \n",
       "...      ...             ...               ...  \n",
       "10677   3257              21                 5  \n",
       "10678   4107               4                 9  \n",
       "10679   4145              27                 4  \n",
       "10680   7229              27                 4  \n",
       "10681  12648               3                 1  \n",
       "\n",
       "[3491 rows x 12 columns]"
      ]
     },
     "execution_count": 30,
     "metadata": {},
     "output_type": "execute_result"
    }
   ],
   "source": [
    "df.loc[df['Total_Stops']=='non-stop']"
   ]
  },
  {
   "cell_type": "code",
   "execution_count": 31,
   "id": "1ad7346a",
   "metadata": {},
   "outputs": [
    {
     "data": {
      "text/html": [
       "<div>\n",
       "<style scoped>\n",
       "    .dataframe tbody tr th:only-of-type {\n",
       "        vertical-align: middle;\n",
       "    }\n",
       "\n",
       "    .dataframe tbody tr th {\n",
       "        vertical-align: top;\n",
       "    }\n",
       "\n",
       "    .dataframe thead th {\n",
       "        text-align: right;\n",
       "    }\n",
       "</style>\n",
       "<table border=\"1\" class=\"dataframe\">\n",
       "  <thead>\n",
       "    <tr style=\"text-align: right;\">\n",
       "      <th></th>\n",
       "      <th>Airline</th>\n",
       "      <th>Source</th>\n",
       "      <th>Destination</th>\n",
       "      <th>Route</th>\n",
       "      <th>Dep_Time</th>\n",
       "      <th>Arrival_Time</th>\n",
       "      <th>Duration</th>\n",
       "      <th>Total_Stops</th>\n",
       "      <th>Additional_Info</th>\n",
       "      <th>Price</th>\n",
       "      <th>Day_of_Journey</th>\n",
       "      <th>Month_of_Journey</th>\n",
       "    </tr>\n",
       "  </thead>\n",
       "  <tbody>\n",
       "    <tr>\n",
       "      <th>1</th>\n",
       "      <td>Air India</td>\n",
       "      <td>Kolkata</td>\n",
       "      <td>Banglore</td>\n",
       "      <td>CCU → IXR → BBI → BLR</td>\n",
       "      <td>2022-04-29 05:50:00</td>\n",
       "      <td>2022-04-29 13:15:00</td>\n",
       "      <td>7h 25m</td>\n",
       "      <td>2 stops</td>\n",
       "      <td>No info</td>\n",
       "      <td>7662</td>\n",
       "      <td>5</td>\n",
       "      <td>1</td>\n",
       "    </tr>\n",
       "    <tr>\n",
       "      <th>2</th>\n",
       "      <td>Jet Airways</td>\n",
       "      <td>Delhi</td>\n",
       "      <td>Cochin</td>\n",
       "      <td>DEL → LKO → BOM → COK</td>\n",
       "      <td>2022-04-29 09:25:00</td>\n",
       "      <td>2022-06-10 04:25:00</td>\n",
       "      <td>19h</td>\n",
       "      <td>2 stops</td>\n",
       "      <td>No info</td>\n",
       "      <td>13882</td>\n",
       "      <td>6</td>\n",
       "      <td>9</td>\n",
       "    </tr>\n",
       "    <tr>\n",
       "      <th>15</th>\n",
       "      <td>Air India</td>\n",
       "      <td>Delhi</td>\n",
       "      <td>Cochin</td>\n",
       "      <td>DEL → AMD → BOM → COK</td>\n",
       "      <td>2022-04-29 16:40:00</td>\n",
       "      <td>2022-03-04 19:15:00</td>\n",
       "      <td>26h 35m</td>\n",
       "      <td>2 stops</td>\n",
       "      <td>No info</td>\n",
       "      <td>14011</td>\n",
       "      <td>3</td>\n",
       "      <td>3</td>\n",
       "    </tr>\n",
       "    <tr>\n",
       "      <th>18</th>\n",
       "      <td>Air India</td>\n",
       "      <td>Delhi</td>\n",
       "      <td>Cochin</td>\n",
       "      <td>DEL → CCU → BOM → COK</td>\n",
       "      <td>2022-04-29 20:15:00</td>\n",
       "      <td>2022-06-13 19:15:00</td>\n",
       "      <td>23h</td>\n",
       "      <td>2 stops</td>\n",
       "      <td>No info</td>\n",
       "      <td>13381</td>\n",
       "      <td>6</td>\n",
       "      <td>12</td>\n",
       "    </tr>\n",
       "    <tr>\n",
       "      <th>25</th>\n",
       "      <td>Jet Airways</td>\n",
       "      <td>Delhi</td>\n",
       "      <td>Cochin</td>\n",
       "      <td>DEL → IDR → BOM → COK</td>\n",
       "      <td>2022-04-29 21:25:00</td>\n",
       "      <td>2022-06-10 12:35:00</td>\n",
       "      <td>15h 10m</td>\n",
       "      <td>2 stops</td>\n",
       "      <td>No info</td>\n",
       "      <td>13292</td>\n",
       "      <td>6</td>\n",
       "      <td>9</td>\n",
       "    </tr>\n",
       "    <tr>\n",
       "      <th>...</th>\n",
       "      <td>...</td>\n",
       "      <td>...</td>\n",
       "      <td>...</td>\n",
       "      <td>...</td>\n",
       "      <td>...</td>\n",
       "      <td>...</td>\n",
       "      <td>...</td>\n",
       "      <td>...</td>\n",
       "      <td>...</td>\n",
       "      <td>...</td>\n",
       "      <td>...</td>\n",
       "      <td>...</td>\n",
       "    </tr>\n",
       "    <tr>\n",
       "      <th>10668</th>\n",
       "      <td>Jet Airways</td>\n",
       "      <td>Delhi</td>\n",
       "      <td>Cochin</td>\n",
       "      <td>DEL → JDH → BOM → COK</td>\n",
       "      <td>2022-04-29 11:40:00</td>\n",
       "      <td>2022-04-29 19:00:00</td>\n",
       "      <td>7h 20m</td>\n",
       "      <td>2 stops</td>\n",
       "      <td>No info</td>\n",
       "      <td>21219</td>\n",
       "      <td>5</td>\n",
       "      <td>9</td>\n",
       "    </tr>\n",
       "    <tr>\n",
       "      <th>10670</th>\n",
       "      <td>Air India</td>\n",
       "      <td>Kolkata</td>\n",
       "      <td>Banglore</td>\n",
       "      <td>CCU → IXR → DEL → BLR</td>\n",
       "      <td>2022-04-29 05:50:00</td>\n",
       "      <td>2022-04-29 23:15:00</td>\n",
       "      <td>17h 25m</td>\n",
       "      <td>2 stops</td>\n",
       "      <td>No info</td>\n",
       "      <td>11411</td>\n",
       "      <td>5</td>\n",
       "      <td>12</td>\n",
       "    </tr>\n",
       "    <tr>\n",
       "      <th>10672</th>\n",
       "      <td>Jet Airways</td>\n",
       "      <td>Delhi</td>\n",
       "      <td>Cochin</td>\n",
       "      <td>DEL → AMD → BOM → COK</td>\n",
       "      <td>2022-04-29 23:05:00</td>\n",
       "      <td>2022-06-28 19:00:00</td>\n",
       "      <td>19h 55m</td>\n",
       "      <td>2 stops</td>\n",
       "      <td>In-flight meal not included</td>\n",
       "      <td>11150</td>\n",
       "      <td>27</td>\n",
       "      <td>6</td>\n",
       "    </tr>\n",
       "    <tr>\n",
       "      <th>10673</th>\n",
       "      <td>Jet Airways</td>\n",
       "      <td>Delhi</td>\n",
       "      <td>Cochin</td>\n",
       "      <td>DEL → AMD → BOM → COK</td>\n",
       "      <td>2022-04-29 13:25:00</td>\n",
       "      <td>2022-05-28 04:25:00</td>\n",
       "      <td>15h</td>\n",
       "      <td>2 stops</td>\n",
       "      <td>No info</td>\n",
       "      <td>16704</td>\n",
       "      <td>27</td>\n",
       "      <td>5</td>\n",
       "    </tr>\n",
       "    <tr>\n",
       "      <th>10682</th>\n",
       "      <td>Air India</td>\n",
       "      <td>Delhi</td>\n",
       "      <td>Cochin</td>\n",
       "      <td>DEL → GOI → BOM → COK</td>\n",
       "      <td>2022-04-29 10:55:00</td>\n",
       "      <td>2022-04-29 19:15:00</td>\n",
       "      <td>8h 20m</td>\n",
       "      <td>2 stops</td>\n",
       "      <td>No info</td>\n",
       "      <td>11753</td>\n",
       "      <td>5</td>\n",
       "      <td>9</td>\n",
       "    </tr>\n",
       "  </tbody>\n",
       "</table>\n",
       "<p>1520 rows × 12 columns</p>\n",
       "</div>"
      ],
      "text/plain": [
       "           Airline   Source Destination                  Route  \\\n",
       "1        Air India  Kolkata    Banglore  CCU → IXR → BBI → BLR   \n",
       "2      Jet Airways    Delhi      Cochin  DEL → LKO → BOM → COK   \n",
       "15       Air India    Delhi      Cochin  DEL → AMD → BOM → COK   \n",
       "18       Air India    Delhi      Cochin  DEL → CCU → BOM → COK   \n",
       "25     Jet Airways    Delhi      Cochin  DEL → IDR → BOM → COK   \n",
       "...            ...      ...         ...                    ...   \n",
       "10668  Jet Airways    Delhi      Cochin  DEL → JDH → BOM → COK   \n",
       "10670    Air India  Kolkata    Banglore  CCU → IXR → DEL → BLR   \n",
       "10672  Jet Airways    Delhi      Cochin  DEL → AMD → BOM → COK   \n",
       "10673  Jet Airways    Delhi      Cochin  DEL → AMD → BOM → COK   \n",
       "10682    Air India    Delhi      Cochin  DEL → GOI → BOM → COK   \n",
       "\n",
       "                 Dep_Time        Arrival_Time Duration Total_Stops  \\\n",
       "1     2022-04-29 05:50:00 2022-04-29 13:15:00   7h 25m     2 stops   \n",
       "2     2022-04-29 09:25:00 2022-06-10 04:25:00      19h     2 stops   \n",
       "15    2022-04-29 16:40:00 2022-03-04 19:15:00  26h 35m     2 stops   \n",
       "18    2022-04-29 20:15:00 2022-06-13 19:15:00      23h     2 stops   \n",
       "25    2022-04-29 21:25:00 2022-06-10 12:35:00  15h 10m     2 stops   \n",
       "...                   ...                 ...      ...         ...   \n",
       "10668 2022-04-29 11:40:00 2022-04-29 19:00:00   7h 20m     2 stops   \n",
       "10670 2022-04-29 05:50:00 2022-04-29 23:15:00  17h 25m     2 stops   \n",
       "10672 2022-04-29 23:05:00 2022-06-28 19:00:00  19h 55m     2 stops   \n",
       "10673 2022-04-29 13:25:00 2022-05-28 04:25:00      15h     2 stops   \n",
       "10682 2022-04-29 10:55:00 2022-04-29 19:15:00   8h 20m     2 stops   \n",
       "\n",
       "                   Additional_Info  Price  Day_of_Journey  Month_of_Journey  \n",
       "1                          No info   7662               5                 1  \n",
       "2                          No info  13882               6                 9  \n",
       "15                         No info  14011               3                 3  \n",
       "18                         No info  13381               6                12  \n",
       "25                         No info  13292               6                 9  \n",
       "...                            ...    ...             ...               ...  \n",
       "10668                      No info  21219               5                 9  \n",
       "10670                      No info  11411               5                12  \n",
       "10672  In-flight meal not included  11150              27                 6  \n",
       "10673                      No info  16704              27                 5  \n",
       "10682                      No info  11753               5                 9  \n",
       "\n",
       "[1520 rows x 12 columns]"
      ]
     },
     "execution_count": 31,
     "metadata": {},
     "output_type": "execute_result"
    }
   ],
   "source": [
    "df.loc[df['Total_Stops']=='2 stops']"
   ]
  },
  {
   "cell_type": "code",
   "execution_count": 32,
   "id": "dcc5c370",
   "metadata": {},
   "outputs": [
    {
     "data": {
      "text/html": [
       "<div>\n",
       "<style scoped>\n",
       "    .dataframe tbody tr th:only-of-type {\n",
       "        vertical-align: middle;\n",
       "    }\n",
       "\n",
       "    .dataframe tbody tr th {\n",
       "        vertical-align: top;\n",
       "    }\n",
       "\n",
       "    .dataframe thead th {\n",
       "        text-align: right;\n",
       "    }\n",
       "</style>\n",
       "<table border=\"1\" class=\"dataframe\">\n",
       "  <thead>\n",
       "    <tr style=\"text-align: right;\">\n",
       "      <th></th>\n",
       "      <th>Airline</th>\n",
       "      <th>Source</th>\n",
       "      <th>Destination</th>\n",
       "      <th>Route</th>\n",
       "      <th>Dep_Time</th>\n",
       "      <th>Arrival_Time</th>\n",
       "      <th>Duration</th>\n",
       "      <th>Total_Stops</th>\n",
       "      <th>Additional_Info</th>\n",
       "      <th>Price</th>\n",
       "      <th>Day_of_Journey</th>\n",
       "      <th>Month_of_Journey</th>\n",
       "    </tr>\n",
       "  </thead>\n",
       "  <tbody>\n",
       "    <tr>\n",
       "      <th>3</th>\n",
       "      <td>IndiGo</td>\n",
       "      <td>Kolkata</td>\n",
       "      <td>Banglore</td>\n",
       "      <td>CCU → NAG → BLR</td>\n",
       "      <td>2022-04-29 18:05:00</td>\n",
       "      <td>2022-04-29 23:30:00</td>\n",
       "      <td>5h 25m</td>\n",
       "      <td>1 stop</td>\n",
       "      <td>No info</td>\n",
       "      <td>6218</td>\n",
       "      <td>5</td>\n",
       "      <td>12</td>\n",
       "    </tr>\n",
       "    <tr>\n",
       "      <th>4</th>\n",
       "      <td>IndiGo</td>\n",
       "      <td>Banglore</td>\n",
       "      <td>New Delhi</td>\n",
       "      <td>BLR → NAG → DEL</td>\n",
       "      <td>2022-04-29 16:50:00</td>\n",
       "      <td>2022-04-29 21:35:00</td>\n",
       "      <td>4h 45m</td>\n",
       "      <td>1 stop</td>\n",
       "      <td>No info</td>\n",
       "      <td>13302</td>\n",
       "      <td>3</td>\n",
       "      <td>1</td>\n",
       "    </tr>\n",
       "    <tr>\n",
       "      <th>6</th>\n",
       "      <td>Jet Airways</td>\n",
       "      <td>Banglore</td>\n",
       "      <td>New Delhi</td>\n",
       "      <td>BLR → BOM → DEL</td>\n",
       "      <td>2022-04-29 18:55:00</td>\n",
       "      <td>2022-03-13 10:25:00</td>\n",
       "      <td>15h 30m</td>\n",
       "      <td>1 stop</td>\n",
       "      <td>In-flight meal not included</td>\n",
       "      <td>11087</td>\n",
       "      <td>3</td>\n",
       "      <td>12</td>\n",
       "    </tr>\n",
       "    <tr>\n",
       "      <th>7</th>\n",
       "      <td>Jet Airways</td>\n",
       "      <td>Banglore</td>\n",
       "      <td>New Delhi</td>\n",
       "      <td>BLR → BOM → DEL</td>\n",
       "      <td>2022-04-29 08:00:00</td>\n",
       "      <td>2022-03-02 05:05:00</td>\n",
       "      <td>21h 5m</td>\n",
       "      <td>1 stop</td>\n",
       "      <td>No info</td>\n",
       "      <td>22270</td>\n",
       "      <td>3</td>\n",
       "      <td>1</td>\n",
       "    </tr>\n",
       "    <tr>\n",
       "      <th>8</th>\n",
       "      <td>Jet Airways</td>\n",
       "      <td>Banglore</td>\n",
       "      <td>New Delhi</td>\n",
       "      <td>BLR → BOM → DEL</td>\n",
       "      <td>2022-04-29 08:55:00</td>\n",
       "      <td>2022-03-13 10:25:00</td>\n",
       "      <td>25h 30m</td>\n",
       "      <td>1 stop</td>\n",
       "      <td>In-flight meal not included</td>\n",
       "      <td>11087</td>\n",
       "      <td>3</td>\n",
       "      <td>12</td>\n",
       "    </tr>\n",
       "    <tr>\n",
       "      <th>...</th>\n",
       "      <td>...</td>\n",
       "      <td>...</td>\n",
       "      <td>...</td>\n",
       "      <td>...</td>\n",
       "      <td>...</td>\n",
       "      <td>...</td>\n",
       "      <td>...</td>\n",
       "      <td>...</td>\n",
       "      <td>...</td>\n",
       "      <td>...</td>\n",
       "      <td>...</td>\n",
       "      <td>...</td>\n",
       "    </tr>\n",
       "    <tr>\n",
       "      <th>10666</th>\n",
       "      <td>Jet Airways</td>\n",
       "      <td>Delhi</td>\n",
       "      <td>Cochin</td>\n",
       "      <td>DEL → BOM → COK</td>\n",
       "      <td>2022-04-29 18:15:00</td>\n",
       "      <td>2022-06-13 19:00:00</td>\n",
       "      <td>24h 45m</td>\n",
       "      <td>1 stop</td>\n",
       "      <td>In-flight meal not included</td>\n",
       "      <td>10262</td>\n",
       "      <td>6</td>\n",
       "      <td>12</td>\n",
       "    </tr>\n",
       "    <tr>\n",
       "      <th>10667</th>\n",
       "      <td>Jet Airways</td>\n",
       "      <td>Banglore</td>\n",
       "      <td>New Delhi</td>\n",
       "      <td>BLR → BOM → DEL</td>\n",
       "      <td>2022-04-29 22:55:00</td>\n",
       "      <td>2022-03-13 20:20:00</td>\n",
       "      <td>21h 25m</td>\n",
       "      <td>1 stop</td>\n",
       "      <td>In-flight meal not included</td>\n",
       "      <td>11087</td>\n",
       "      <td>3</td>\n",
       "      <td>12</td>\n",
       "    </tr>\n",
       "    <tr>\n",
       "      <th>10669</th>\n",
       "      <td>Air India</td>\n",
       "      <td>Delhi</td>\n",
       "      <td>Cochin</td>\n",
       "      <td>DEL → BOM → COK</td>\n",
       "      <td>2022-04-29 08:00:00</td>\n",
       "      <td>2022-04-29 19:15:00</td>\n",
       "      <td>11h 15m</td>\n",
       "      <td>1 stop</td>\n",
       "      <td>No info</td>\n",
       "      <td>9929</td>\n",
       "      <td>15</td>\n",
       "      <td>6</td>\n",
       "    </tr>\n",
       "    <tr>\n",
       "      <th>10674</th>\n",
       "      <td>Jet Airways</td>\n",
       "      <td>Banglore</td>\n",
       "      <td>New Delhi</td>\n",
       "      <td>BLR → BOM → DEL</td>\n",
       "      <td>2022-04-29 20:35:00</td>\n",
       "      <td>2022-03-13 21:20:00</td>\n",
       "      <td>24h 45m</td>\n",
       "      <td>1 stop</td>\n",
       "      <td>In-flight meal not included</td>\n",
       "      <td>11087</td>\n",
       "      <td>3</td>\n",
       "      <td>12</td>\n",
       "    </tr>\n",
       "    <tr>\n",
       "      <th>10676</th>\n",
       "      <td>Multiple carriers</td>\n",
       "      <td>Delhi</td>\n",
       "      <td>Cochin</td>\n",
       "      <td>DEL → BOM → COK</td>\n",
       "      <td>2022-04-29 10:20:00</td>\n",
       "      <td>2022-04-29 19:00:00</td>\n",
       "      <td>8h 40m</td>\n",
       "      <td>1 stop</td>\n",
       "      <td>No info</td>\n",
       "      <td>9794</td>\n",
       "      <td>5</td>\n",
       "      <td>1</td>\n",
       "    </tr>\n",
       "  </tbody>\n",
       "</table>\n",
       "<p>5626 rows × 12 columns</p>\n",
       "</div>"
      ],
      "text/plain": [
       "                 Airline    Source Destination            Route  \\\n",
       "3                 IndiGo   Kolkata    Banglore  CCU → NAG → BLR   \n",
       "4                 IndiGo  Banglore   New Delhi  BLR → NAG → DEL   \n",
       "6            Jet Airways  Banglore   New Delhi  BLR → BOM → DEL   \n",
       "7            Jet Airways  Banglore   New Delhi  BLR → BOM → DEL   \n",
       "8            Jet Airways  Banglore   New Delhi  BLR → BOM → DEL   \n",
       "...                  ...       ...         ...              ...   \n",
       "10666        Jet Airways     Delhi      Cochin  DEL → BOM → COK   \n",
       "10667        Jet Airways  Banglore   New Delhi  BLR → BOM → DEL   \n",
       "10669          Air India     Delhi      Cochin  DEL → BOM → COK   \n",
       "10674        Jet Airways  Banglore   New Delhi  BLR → BOM → DEL   \n",
       "10676  Multiple carriers     Delhi      Cochin  DEL → BOM → COK   \n",
       "\n",
       "                 Dep_Time        Arrival_Time Duration Total_Stops  \\\n",
       "3     2022-04-29 18:05:00 2022-04-29 23:30:00   5h 25m      1 stop   \n",
       "4     2022-04-29 16:50:00 2022-04-29 21:35:00   4h 45m      1 stop   \n",
       "6     2022-04-29 18:55:00 2022-03-13 10:25:00  15h 30m      1 stop   \n",
       "7     2022-04-29 08:00:00 2022-03-02 05:05:00   21h 5m      1 stop   \n",
       "8     2022-04-29 08:55:00 2022-03-13 10:25:00  25h 30m      1 stop   \n",
       "...                   ...                 ...      ...         ...   \n",
       "10666 2022-04-29 18:15:00 2022-06-13 19:00:00  24h 45m      1 stop   \n",
       "10667 2022-04-29 22:55:00 2022-03-13 20:20:00  21h 25m      1 stop   \n",
       "10669 2022-04-29 08:00:00 2022-04-29 19:15:00  11h 15m      1 stop   \n",
       "10674 2022-04-29 20:35:00 2022-03-13 21:20:00  24h 45m      1 stop   \n",
       "10676 2022-04-29 10:20:00 2022-04-29 19:00:00   8h 40m      1 stop   \n",
       "\n",
       "                   Additional_Info  Price  Day_of_Journey  Month_of_Journey  \n",
       "3                          No info   6218               5                12  \n",
       "4                          No info  13302               3                 1  \n",
       "6      In-flight meal not included  11087               3                12  \n",
       "7                          No info  22270               3                 1  \n",
       "8      In-flight meal not included  11087               3                12  \n",
       "...                            ...    ...             ...               ...  \n",
       "10666  In-flight meal not included  10262               6                12  \n",
       "10667  In-flight meal not included  11087               3                12  \n",
       "10669                      No info   9929              15                 6  \n",
       "10674  In-flight meal not included  11087               3                12  \n",
       "10676                      No info   9794               5                 1  \n",
       "\n",
       "[5626 rows x 12 columns]"
      ]
     },
     "execution_count": 32,
     "metadata": {},
     "output_type": "execute_result"
    }
   ],
   "source": [
    "df.loc[df['Total_Stops']=='1 stop']"
   ]
  },
  {
   "cell_type": "code",
   "execution_count": 33,
   "id": "03cbeb04",
   "metadata": {},
   "outputs": [
    {
     "data": {
      "text/html": [
       "<div>\n",
       "<style scoped>\n",
       "    .dataframe tbody tr th:only-of-type {\n",
       "        vertical-align: middle;\n",
       "    }\n",
       "\n",
       "    .dataframe tbody tr th {\n",
       "        vertical-align: top;\n",
       "    }\n",
       "\n",
       "    .dataframe thead th {\n",
       "        text-align: right;\n",
       "    }\n",
       "</style>\n",
       "<table border=\"1\" class=\"dataframe\">\n",
       "  <thead>\n",
       "    <tr style=\"text-align: right;\">\n",
       "      <th></th>\n",
       "      <th>Airline</th>\n",
       "      <th>Source</th>\n",
       "      <th>Destination</th>\n",
       "      <th>Route</th>\n",
       "      <th>Dep_Time</th>\n",
       "      <th>Arrival_Time</th>\n",
       "      <th>Duration</th>\n",
       "      <th>Total_Stops</th>\n",
       "      <th>Additional_Info</th>\n",
       "      <th>Price</th>\n",
       "      <th>Day_of_Journey</th>\n",
       "      <th>Month_of_Journey</th>\n",
       "    </tr>\n",
       "  </thead>\n",
       "  <tbody>\n",
       "    <tr>\n",
       "      <th>402</th>\n",
       "      <td>Air India</td>\n",
       "      <td>Delhi</td>\n",
       "      <td>Cochin</td>\n",
       "      <td>DEL → RPR → NAG → BOM → COK</td>\n",
       "      <td>2022-04-29 05:15:00</td>\n",
       "      <td>2022-06-16 07:40:00</td>\n",
       "      <td>26h 25m</td>\n",
       "      <td>3 stops</td>\n",
       "      <td>No info</td>\n",
       "      <td>10493</td>\n",
       "      <td>15</td>\n",
       "      <td>6</td>\n",
       "    </tr>\n",
       "    <tr>\n",
       "      <th>919</th>\n",
       "      <td>Air India</td>\n",
       "      <td>Kolkata</td>\n",
       "      <td>Banglore</td>\n",
       "      <td>CCU → BBI → IXR → DEL → BLR</td>\n",
       "      <td>2022-04-29 12:00:00</td>\n",
       "      <td>2022-05-13 23:15:00</td>\n",
       "      <td>35h 15m</td>\n",
       "      <td>3 stops</td>\n",
       "      <td>No info</td>\n",
       "      <td>10991</td>\n",
       "      <td>5</td>\n",
       "      <td>12</td>\n",
       "    </tr>\n",
       "    <tr>\n",
       "      <th>1218</th>\n",
       "      <td>Air India</td>\n",
       "      <td>Delhi</td>\n",
       "      <td>Cochin</td>\n",
       "      <td>DEL → RPR → NAG → BOM → COK</td>\n",
       "      <td>2022-04-29 05:15:00</td>\n",
       "      <td>2022-06-28 07:40:00</td>\n",
       "      <td>26h 25m</td>\n",
       "      <td>3 stops</td>\n",
       "      <td>No info</td>\n",
       "      <td>11543</td>\n",
       "      <td>27</td>\n",
       "      <td>6</td>\n",
       "    </tr>\n",
       "    <tr>\n",
       "      <th>1665</th>\n",
       "      <td>Air India</td>\n",
       "      <td>Banglore</td>\n",
       "      <td>New Delhi</td>\n",
       "      <td>BLR → CCU → BBI → HYD → DEL</td>\n",
       "      <td>2022-04-29 05:50:00</td>\n",
       "      <td>2022-03-02 12:15:00</td>\n",
       "      <td>30h 25m</td>\n",
       "      <td>3 stops</td>\n",
       "      <td>No info</td>\n",
       "      <td>12346</td>\n",
       "      <td>3</td>\n",
       "      <td>1</td>\n",
       "    </tr>\n",
       "    <tr>\n",
       "      <th>2172</th>\n",
       "      <td>Air India</td>\n",
       "      <td>Delhi</td>\n",
       "      <td>Cochin</td>\n",
       "      <td>DEL → RPR → NAG → BOM → COK</td>\n",
       "      <td>2022-04-29 05:15:00</td>\n",
       "      <td>2022-05-19 19:15:00</td>\n",
       "      <td>38h</td>\n",
       "      <td>3 stops</td>\n",
       "      <td>No info</td>\n",
       "      <td>10703</td>\n",
       "      <td>18</td>\n",
       "      <td>5</td>\n",
       "    </tr>\n",
       "    <tr>\n",
       "      <th>2623</th>\n",
       "      <td>Air India</td>\n",
       "      <td>Mumbai</td>\n",
       "      <td>Hyderabad</td>\n",
       "      <td>BOM → JDH → JAI → DEL → HYD</td>\n",
       "      <td>2022-04-29 09:40:00</td>\n",
       "      <td>2022-03-13 15:15:00</td>\n",
       "      <td>29h 35m</td>\n",
       "      <td>3 stops</td>\n",
       "      <td>No info</td>\n",
       "      <td>18293</td>\n",
       "      <td>3</td>\n",
       "      <td>12</td>\n",
       "    </tr>\n",
       "    <tr>\n",
       "      <th>2633</th>\n",
       "      <td>Multiple carriers</td>\n",
       "      <td>Delhi</td>\n",
       "      <td>Cochin</td>\n",
       "      <td>DEL → GWL → IDR → BOM → COK</td>\n",
       "      <td>2022-04-29 11:35:00</td>\n",
       "      <td>2022-04-29 21:00:00</td>\n",
       "      <td>9h 25m</td>\n",
       "      <td>3 stops</td>\n",
       "      <td>No info</td>\n",
       "      <td>21829</td>\n",
       "      <td>3</td>\n",
       "      <td>6</td>\n",
       "    </tr>\n",
       "    <tr>\n",
       "      <th>2718</th>\n",
       "      <td>Air India</td>\n",
       "      <td>Delhi</td>\n",
       "      <td>Cochin</td>\n",
       "      <td>DEL → RPR → NAG → BOM → COK</td>\n",
       "      <td>2022-04-29 05:15:00</td>\n",
       "      <td>2022-03-10 19:15:00</td>\n",
       "      <td>38h</td>\n",
       "      <td>3 stops</td>\n",
       "      <td>No info</td>\n",
       "      <td>15586</td>\n",
       "      <td>3</td>\n",
       "      <td>9</td>\n",
       "    </tr>\n",
       "    <tr>\n",
       "      <th>2814</th>\n",
       "      <td>Air India</td>\n",
       "      <td>Banglore</td>\n",
       "      <td>New Delhi</td>\n",
       "      <td>BLR → BOM → IDR → GWL → DEL</td>\n",
       "      <td>2022-04-29 17:25:00</td>\n",
       "      <td>2022-03-13 18:05:00</td>\n",
       "      <td>24h 40m</td>\n",
       "      <td>3 stops</td>\n",
       "      <td>No info</td>\n",
       "      <td>13387</td>\n",
       "      <td>3</td>\n",
       "      <td>12</td>\n",
       "    </tr>\n",
       "    <tr>\n",
       "      <th>2822</th>\n",
       "      <td>Air India</td>\n",
       "      <td>Kolkata</td>\n",
       "      <td>Banglore</td>\n",
       "      <td>CCU → DEL → COK → TRV → BLR</td>\n",
       "      <td>2022-04-29 10:00:00</td>\n",
       "      <td>2022-05-25 10:30:00</td>\n",
       "      <td>24h 30m</td>\n",
       "      <td>3 stops</td>\n",
       "      <td>No info</td>\n",
       "      <td>13007</td>\n",
       "      <td>24</td>\n",
       "      <td>5</td>\n",
       "    </tr>\n",
       "    <tr>\n",
       "      <th>3157</th>\n",
       "      <td>Multiple carriers</td>\n",
       "      <td>Delhi</td>\n",
       "      <td>Cochin</td>\n",
       "      <td>DEL → GWL → IDR → BOM → COK</td>\n",
       "      <td>2022-04-29 11:35:00</td>\n",
       "      <td>2022-04-29 21:00:00</td>\n",
       "      <td>9h 25m</td>\n",
       "      <td>3 stops</td>\n",
       "      <td>No info</td>\n",
       "      <td>16294</td>\n",
       "      <td>15</td>\n",
       "      <td>5</td>\n",
       "    </tr>\n",
       "    <tr>\n",
       "      <th>3220</th>\n",
       "      <td>Air India</td>\n",
       "      <td>Kolkata</td>\n",
       "      <td>Banglore</td>\n",
       "      <td>CCU → DEL → COK → TRV → BLR</td>\n",
       "      <td>2022-04-29 10:00:00</td>\n",
       "      <td>2022-05-07 10:30:00</td>\n",
       "      <td>24h 30m</td>\n",
       "      <td>3 stops</td>\n",
       "      <td>No info</td>\n",
       "      <td>12797</td>\n",
       "      <td>5</td>\n",
       "      <td>6</td>\n",
       "    </tr>\n",
       "    <tr>\n",
       "      <th>3317</th>\n",
       "      <td>Multiple carriers</td>\n",
       "      <td>Delhi</td>\n",
       "      <td>Cochin</td>\n",
       "      <td>DEL → GWL → IDR → BOM → COK</td>\n",
       "      <td>2022-04-29 11:35:00</td>\n",
       "      <td>2022-04-29 21:00:00</td>\n",
       "      <td>9h 25m</td>\n",
       "      <td>3 stops</td>\n",
       "      <td>No info</td>\n",
       "      <td>21829</td>\n",
       "      <td>3</td>\n",
       "      <td>3</td>\n",
       "    </tr>\n",
       "    <tr>\n",
       "      <th>3496</th>\n",
       "      <td>Air India</td>\n",
       "      <td>Banglore</td>\n",
       "      <td>New Delhi</td>\n",
       "      <td>BLR → BOM → IDR → GWL → DEL</td>\n",
       "      <td>2022-04-29 06:45:00</td>\n",
       "      <td>2022-03-13 18:05:00</td>\n",
       "      <td>35h 20m</td>\n",
       "      <td>3 stops</td>\n",
       "      <td>No info</td>\n",
       "      <td>13387</td>\n",
       "      <td>3</td>\n",
       "      <td>12</td>\n",
       "    </tr>\n",
       "    <tr>\n",
       "      <th>3568</th>\n",
       "      <td>Air India</td>\n",
       "      <td>Kolkata</td>\n",
       "      <td>Banglore</td>\n",
       "      <td>CCU → GAU → IMF → DEL → BLR</td>\n",
       "      <td>2022-04-29 09:50:00</td>\n",
       "      <td>2022-04-29 23:15:00</td>\n",
       "      <td>13h 25m</td>\n",
       "      <td>3 stops</td>\n",
       "      <td>No info</td>\n",
       "      <td>14960</td>\n",
       "      <td>21</td>\n",
       "      <td>5</td>\n",
       "    </tr>\n",
       "    <tr>\n",
       "      <th>3584</th>\n",
       "      <td>Multiple carriers</td>\n",
       "      <td>Delhi</td>\n",
       "      <td>Cochin</td>\n",
       "      <td>DEL → GWL → IDR → BOM → COK</td>\n",
       "      <td>2022-04-29 11:35:00</td>\n",
       "      <td>2022-05-16 01:30:00</td>\n",
       "      <td>13h 55m</td>\n",
       "      <td>3 stops</td>\n",
       "      <td>No info</td>\n",
       "      <td>16294</td>\n",
       "      <td>15</td>\n",
       "      <td>5</td>\n",
       "    </tr>\n",
       "    <tr>\n",
       "      <th>3815</th>\n",
       "      <td>Air India</td>\n",
       "      <td>Delhi</td>\n",
       "      <td>Cochin</td>\n",
       "      <td>DEL → RPR → NAG → BOM → COK</td>\n",
       "      <td>2022-04-29 05:15:00</td>\n",
       "      <td>2022-03-22 19:15:00</td>\n",
       "      <td>38h</td>\n",
       "      <td>3 stops</td>\n",
       "      <td>No info</td>\n",
       "      <td>9128</td>\n",
       "      <td>21</td>\n",
       "      <td>3</td>\n",
       "    </tr>\n",
       "    <tr>\n",
       "      <th>3945</th>\n",
       "      <td>Air India</td>\n",
       "      <td>Mumbai</td>\n",
       "      <td>Hyderabad</td>\n",
       "      <td>BOM → BLR → CCU → BBI → HYD</td>\n",
       "      <td>2022-04-29 16:50:00</td>\n",
       "      <td>2022-03-13 12:25:00</td>\n",
       "      <td>19h 35m</td>\n",
       "      <td>3 stops</td>\n",
       "      <td>No info</td>\n",
       "      <td>14260</td>\n",
       "      <td>3</td>\n",
       "      <td>12</td>\n",
       "    </tr>\n",
       "    <tr>\n",
       "      <th>4118</th>\n",
       "      <td>Air India</td>\n",
       "      <td>Delhi</td>\n",
       "      <td>Cochin</td>\n",
       "      <td>DEL → RPR → NAG → BOM → COK</td>\n",
       "      <td>2022-04-29 05:15:00</td>\n",
       "      <td>2022-06-16 19:15:00</td>\n",
       "      <td>38h</td>\n",
       "      <td>3 stops</td>\n",
       "      <td>No info</td>\n",
       "      <td>10703</td>\n",
       "      <td>15</td>\n",
       "      <td>6</td>\n",
       "    </tr>\n",
       "    <tr>\n",
       "      <th>4463</th>\n",
       "      <td>Air India</td>\n",
       "      <td>Delhi</td>\n",
       "      <td>Cochin</td>\n",
       "      <td>DEL → RPR → NAG → BOM → COK</td>\n",
       "      <td>2022-04-29 05:15:00</td>\n",
       "      <td>2022-06-02 19:15:00</td>\n",
       "      <td>38h</td>\n",
       "      <td>3 stops</td>\n",
       "      <td>No info</td>\n",
       "      <td>10703</td>\n",
       "      <td>6</td>\n",
       "      <td>1</td>\n",
       "    </tr>\n",
       "    <tr>\n",
       "      <th>4655</th>\n",
       "      <td>Air India</td>\n",
       "      <td>Delhi</td>\n",
       "      <td>Cochin</td>\n",
       "      <td>DEL → RPR → NAG → BOM → COK</td>\n",
       "      <td>2022-04-29 05:15:00</td>\n",
       "      <td>2022-06-28 19:15:00</td>\n",
       "      <td>38h</td>\n",
       "      <td>3 stops</td>\n",
       "      <td>No info</td>\n",
       "      <td>10703</td>\n",
       "      <td>27</td>\n",
       "      <td>6</td>\n",
       "    </tr>\n",
       "    <tr>\n",
       "      <th>4760</th>\n",
       "      <td>Multiple carriers</td>\n",
       "      <td>Delhi</td>\n",
       "      <td>Cochin</td>\n",
       "      <td>DEL → GWL → IDR → BOM → COK</td>\n",
       "      <td>2022-04-29 11:35:00</td>\n",
       "      <td>2022-04-29 21:00:00</td>\n",
       "      <td>9h 25m</td>\n",
       "      <td>3 stops</td>\n",
       "      <td>No info</td>\n",
       "      <td>15629</td>\n",
       "      <td>6</td>\n",
       "      <td>12</td>\n",
       "    </tr>\n",
       "    <tr>\n",
       "      <th>5050</th>\n",
       "      <td>Air India</td>\n",
       "      <td>Kolkata</td>\n",
       "      <td>Banglore</td>\n",
       "      <td>CCU → GAU → IMF → DEL → BLR</td>\n",
       "      <td>2022-04-29 16:45:00</td>\n",
       "      <td>2022-04-02 23:15:00</td>\n",
       "      <td>30h 30m</td>\n",
       "      <td>3 stops</td>\n",
       "      <td>No info</td>\n",
       "      <td>8607</td>\n",
       "      <td>4</td>\n",
       "      <td>1</td>\n",
       "    </tr>\n",
       "    <tr>\n",
       "      <th>5446</th>\n",
       "      <td>Air India</td>\n",
       "      <td>Banglore</td>\n",
       "      <td>New Delhi</td>\n",
       "      <td>BLR → HBX → BOM → BHO → DEL</td>\n",
       "      <td>2022-04-29 12:00:00</td>\n",
       "      <td>2022-04-29 23:25:00</td>\n",
       "      <td>11h 25m</td>\n",
       "      <td>3 stops</td>\n",
       "      <td>No info</td>\n",
       "      <td>14195</td>\n",
       "      <td>3</td>\n",
       "      <td>6</td>\n",
       "    </tr>\n",
       "    <tr>\n",
       "      <th>5838</th>\n",
       "      <td>Multiple carriers</td>\n",
       "      <td>Delhi</td>\n",
       "      <td>Cochin</td>\n",
       "      <td>DEL → GWL → IDR → BOM → COK</td>\n",
       "      <td>2022-04-29 11:35:00</td>\n",
       "      <td>2022-06-13 01:30:00</td>\n",
       "      <td>13h 55m</td>\n",
       "      <td>3 stops</td>\n",
       "      <td>No info</td>\n",
       "      <td>15419</td>\n",
       "      <td>6</td>\n",
       "      <td>12</td>\n",
       "    </tr>\n",
       "    <tr>\n",
       "      <th>5947</th>\n",
       "      <td>Air India</td>\n",
       "      <td>Banglore</td>\n",
       "      <td>New Delhi</td>\n",
       "      <td>BLR → HBX → BOM → AMD → DEL</td>\n",
       "      <td>2022-04-29 12:00:00</td>\n",
       "      <td>2022-04-29 23:55:00</td>\n",
       "      <td>11h 55m</td>\n",
       "      <td>3 stops</td>\n",
       "      <td>No info</td>\n",
       "      <td>10573</td>\n",
       "      <td>3</td>\n",
       "      <td>3</td>\n",
       "    </tr>\n",
       "    <tr>\n",
       "      <th>5996</th>\n",
       "      <td>Air India</td>\n",
       "      <td>Kolkata</td>\n",
       "      <td>Banglore</td>\n",
       "      <td>CCU → GAU → IMF → DEL → BLR</td>\n",
       "      <td>2022-04-29 05:55:00</td>\n",
       "      <td>2022-04-29 23:15:00</td>\n",
       "      <td>17h 20m</td>\n",
       "      <td>3 stops</td>\n",
       "      <td>No info</td>\n",
       "      <td>15145</td>\n",
       "      <td>24</td>\n",
       "      <td>3</td>\n",
       "    </tr>\n",
       "    <tr>\n",
       "      <th>6444</th>\n",
       "      <td>Air India</td>\n",
       "      <td>Delhi</td>\n",
       "      <td>Cochin</td>\n",
       "      <td>DEL → RPR → NAG → BOM → COK</td>\n",
       "      <td>2022-04-29 05:15:00</td>\n",
       "      <td>2022-06-25 07:40:00</td>\n",
       "      <td>26h 25m</td>\n",
       "      <td>3 stops</td>\n",
       "      <td>No info</td>\n",
       "      <td>10493</td>\n",
       "      <td>24</td>\n",
       "      <td>6</td>\n",
       "    </tr>\n",
       "    <tr>\n",
       "      <th>6599</th>\n",
       "      <td>Multiple carriers</td>\n",
       "      <td>Delhi</td>\n",
       "      <td>Cochin</td>\n",
       "      <td>DEL → GWL → IDR → BOM → COK</td>\n",
       "      <td>2022-04-29 11:35:00</td>\n",
       "      <td>2022-06-10 01:30:00</td>\n",
       "      <td>13h 55m</td>\n",
       "      <td>3 stops</td>\n",
       "      <td>No info</td>\n",
       "      <td>15419</td>\n",
       "      <td>6</td>\n",
       "      <td>9</td>\n",
       "    </tr>\n",
       "    <tr>\n",
       "      <th>6884</th>\n",
       "      <td>Air India</td>\n",
       "      <td>Delhi</td>\n",
       "      <td>Cochin</td>\n",
       "      <td>DEL → RPR → NAG → BOM → COK</td>\n",
       "      <td>2022-04-29 05:15:00</td>\n",
       "      <td>2022-06-28 19:15:00</td>\n",
       "      <td>38h</td>\n",
       "      <td>3 stops</td>\n",
       "      <td>No info</td>\n",
       "      <td>10703</td>\n",
       "      <td>27</td>\n",
       "      <td>6</td>\n",
       "    </tr>\n",
       "    <tr>\n",
       "      <th>7001</th>\n",
       "      <td>Air India</td>\n",
       "      <td>Kolkata</td>\n",
       "      <td>Banglore</td>\n",
       "      <td>CCU → BBI → IXR → DEL → BLR</td>\n",
       "      <td>2022-04-29 12:00:00</td>\n",
       "      <td>2022-03-25 23:15:00</td>\n",
       "      <td>35h 15m</td>\n",
       "      <td>3 stops</td>\n",
       "      <td>No info</td>\n",
       "      <td>14221</td>\n",
       "      <td>24</td>\n",
       "      <td>3</td>\n",
       "    </tr>\n",
       "    <tr>\n",
       "      <th>7031</th>\n",
       "      <td>Air India</td>\n",
       "      <td>Kolkata</td>\n",
       "      <td>Banglore</td>\n",
       "      <td>CCU → GAU → IMF → DEL → BLR</td>\n",
       "      <td>2022-04-29 09:50:00</td>\n",
       "      <td>2022-04-29 23:15:00</td>\n",
       "      <td>13h 25m</td>\n",
       "      <td>3 stops</td>\n",
       "      <td>No info</td>\n",
       "      <td>14015</td>\n",
       "      <td>5</td>\n",
       "      <td>12</td>\n",
       "    </tr>\n",
       "    <tr>\n",
       "      <th>7249</th>\n",
       "      <td>Air India</td>\n",
       "      <td>Delhi</td>\n",
       "      <td>Cochin</td>\n",
       "      <td>DEL → RPR → NAG → BOM → COK</td>\n",
       "      <td>2022-04-29 05:15:00</td>\n",
       "      <td>2022-06-02 07:40:00</td>\n",
       "      <td>26h 25m</td>\n",
       "      <td>3 stops</td>\n",
       "      <td>No info</td>\n",
       "      <td>12383</td>\n",
       "      <td>6</td>\n",
       "      <td>1</td>\n",
       "    </tr>\n",
       "    <tr>\n",
       "      <th>7586</th>\n",
       "      <td>Air India</td>\n",
       "      <td>Kolkata</td>\n",
       "      <td>Banglore</td>\n",
       "      <td>CCU → DEL → COK → TRV → BLR</td>\n",
       "      <td>2022-04-29 07:00:00</td>\n",
       "      <td>2022-05-07 10:30:00</td>\n",
       "      <td>27h 30m</td>\n",
       "      <td>3 stops</td>\n",
       "      <td>No info</td>\n",
       "      <td>13007</td>\n",
       "      <td>5</td>\n",
       "      <td>6</td>\n",
       "    </tr>\n",
       "    <tr>\n",
       "      <th>7752</th>\n",
       "      <td>Multiple carriers</td>\n",
       "      <td>Delhi</td>\n",
       "      <td>Cochin</td>\n",
       "      <td>DEL → GWL → IDR → BOM → COK</td>\n",
       "      <td>2022-04-29 11:35:00</td>\n",
       "      <td>2022-04-29 21:00:00</td>\n",
       "      <td>9h 25m</td>\n",
       "      <td>3 stops</td>\n",
       "      <td>No info</td>\n",
       "      <td>15629</td>\n",
       "      <td>6</td>\n",
       "      <td>9</td>\n",
       "    </tr>\n",
       "    <tr>\n",
       "      <th>7876</th>\n",
       "      <td>Air India</td>\n",
       "      <td>Delhi</td>\n",
       "      <td>Cochin</td>\n",
       "      <td>DEL → RPR → NAG → BOM → COK</td>\n",
       "      <td>2022-04-29 05:15:00</td>\n",
       "      <td>2022-06-07 19:15:00</td>\n",
       "      <td>38h</td>\n",
       "      <td>3 stops</td>\n",
       "      <td>No info</td>\n",
       "      <td>10703</td>\n",
       "      <td>6</td>\n",
       "      <td>6</td>\n",
       "    </tr>\n",
       "    <tr>\n",
       "      <th>8153</th>\n",
       "      <td>Air India</td>\n",
       "      <td>Delhi</td>\n",
       "      <td>Cochin</td>\n",
       "      <td>DEL → RPR → NAG → BOM → COK</td>\n",
       "      <td>2022-04-29 05:15:00</td>\n",
       "      <td>2022-05-10 19:15:00</td>\n",
       "      <td>38h</td>\n",
       "      <td>3 stops</td>\n",
       "      <td>No info</td>\n",
       "      <td>10703</td>\n",
       "      <td>5</td>\n",
       "      <td>9</td>\n",
       "    </tr>\n",
       "    <tr>\n",
       "      <th>8204</th>\n",
       "      <td>Air India</td>\n",
       "      <td>Kolkata</td>\n",
       "      <td>Banglore</td>\n",
       "      <td>CCU → GAU → IMF → DEL → BLR</td>\n",
       "      <td>2022-04-29 09:50:00</td>\n",
       "      <td>2022-04-29 23:15:00</td>\n",
       "      <td>13h 25m</td>\n",
       "      <td>3 stops</td>\n",
       "      <td>No info</td>\n",
       "      <td>14960</td>\n",
       "      <td>6</td>\n",
       "      <td>9</td>\n",
       "    </tr>\n",
       "    <tr>\n",
       "      <th>8601</th>\n",
       "      <td>Air India</td>\n",
       "      <td>Delhi</td>\n",
       "      <td>Cochin</td>\n",
       "      <td>DEL → RPR → NAG → BOM → COK</td>\n",
       "      <td>2022-04-29 05:15:00</td>\n",
       "      <td>2022-05-28 19:15:00</td>\n",
       "      <td>38h</td>\n",
       "      <td>3 stops</td>\n",
       "      <td>No info</td>\n",
       "      <td>10493</td>\n",
       "      <td>27</td>\n",
       "      <td>5</td>\n",
       "    </tr>\n",
       "    <tr>\n",
       "      <th>8729</th>\n",
       "      <td>Air India</td>\n",
       "      <td>Delhi</td>\n",
       "      <td>Cochin</td>\n",
       "      <td>DEL → RPR → NAG → BOM → COK</td>\n",
       "      <td>2022-04-29 05:15:00</td>\n",
       "      <td>2022-06-25 19:15:00</td>\n",
       "      <td>38h</td>\n",
       "      <td>3 stops</td>\n",
       "      <td>No info</td>\n",
       "      <td>10493</td>\n",
       "      <td>24</td>\n",
       "      <td>6</td>\n",
       "    </tr>\n",
       "    <tr>\n",
       "      <th>9029</th>\n",
       "      <td>Air India</td>\n",
       "      <td>Banglore</td>\n",
       "      <td>New Delhi</td>\n",
       "      <td>BLR → HBX → BOM → NAG → DEL</td>\n",
       "      <td>2022-04-29 12:00:00</td>\n",
       "      <td>2022-03-07 10:35:00</td>\n",
       "      <td>22h 35m</td>\n",
       "      <td>3 stops</td>\n",
       "      <td>No info</td>\n",
       "      <td>12358</td>\n",
       "      <td>3</td>\n",
       "      <td>3</td>\n",
       "    </tr>\n",
       "    <tr>\n",
       "      <th>9454</th>\n",
       "      <td>Air India</td>\n",
       "      <td>Kolkata</td>\n",
       "      <td>Banglore</td>\n",
       "      <td>CCU → DEL → COK → TRV → BLR</td>\n",
       "      <td>2022-04-29 10:00:00</td>\n",
       "      <td>2022-04-02 10:30:00</td>\n",
       "      <td>24h 30m</td>\n",
       "      <td>3 stops</td>\n",
       "      <td>No info</td>\n",
       "      <td>12954</td>\n",
       "      <td>4</td>\n",
       "      <td>1</td>\n",
       "    </tr>\n",
       "    <tr>\n",
       "      <th>9484</th>\n",
       "      <td>Air India</td>\n",
       "      <td>Delhi</td>\n",
       "      <td>Cochin</td>\n",
       "      <td>DEL → RPR → NAG → BOM → COK</td>\n",
       "      <td>2022-04-29 05:15:00</td>\n",
       "      <td>2022-03-22 19:15:00</td>\n",
       "      <td>38h</td>\n",
       "      <td>3 stops</td>\n",
       "      <td>No info</td>\n",
       "      <td>9128</td>\n",
       "      <td>21</td>\n",
       "      <td>3</td>\n",
       "    </tr>\n",
       "    <tr>\n",
       "      <th>9569</th>\n",
       "      <td>Air India</td>\n",
       "      <td>Banglore</td>\n",
       "      <td>New Delhi</td>\n",
       "      <td>BLR → CCU → BBI → HYD → DEL</td>\n",
       "      <td>2022-04-29 05:50:00</td>\n",
       "      <td>2022-03-02 08:50:00</td>\n",
       "      <td>27h</td>\n",
       "      <td>3 stops</td>\n",
       "      <td>No info</td>\n",
       "      <td>13081</td>\n",
       "      <td>3</td>\n",
       "      <td>1</td>\n",
       "    </tr>\n",
       "    <tr>\n",
       "      <th>10639</th>\n",
       "      <td>Air India</td>\n",
       "      <td>Delhi</td>\n",
       "      <td>Cochin</td>\n",
       "      <td>DEL → RPR → NAG → BOM → COK</td>\n",
       "      <td>2022-04-29 05:15:00</td>\n",
       "      <td>2022-06-04 19:15:00</td>\n",
       "      <td>38h</td>\n",
       "      <td>3 stops</td>\n",
       "      <td>No info</td>\n",
       "      <td>10493</td>\n",
       "      <td>6</td>\n",
       "      <td>3</td>\n",
       "    </tr>\n",
       "  </tbody>\n",
       "</table>\n",
       "</div>"
      ],
      "text/plain": [
       "                 Airline    Source Destination                        Route  \\\n",
       "402            Air India     Delhi      Cochin  DEL → RPR → NAG → BOM → COK   \n",
       "919            Air India   Kolkata    Banglore  CCU → BBI → IXR → DEL → BLR   \n",
       "1218           Air India     Delhi      Cochin  DEL → RPR → NAG → BOM → COK   \n",
       "1665           Air India  Banglore   New Delhi  BLR → CCU → BBI → HYD → DEL   \n",
       "2172           Air India     Delhi      Cochin  DEL → RPR → NAG → BOM → COK   \n",
       "2623           Air India    Mumbai   Hyderabad  BOM → JDH → JAI → DEL → HYD   \n",
       "2633   Multiple carriers     Delhi      Cochin  DEL → GWL → IDR → BOM → COK   \n",
       "2718           Air India     Delhi      Cochin  DEL → RPR → NAG → BOM → COK   \n",
       "2814           Air India  Banglore   New Delhi  BLR → BOM → IDR → GWL → DEL   \n",
       "2822           Air India   Kolkata    Banglore  CCU → DEL → COK → TRV → BLR   \n",
       "3157   Multiple carriers     Delhi      Cochin  DEL → GWL → IDR → BOM → COK   \n",
       "3220           Air India   Kolkata    Banglore  CCU → DEL → COK → TRV → BLR   \n",
       "3317   Multiple carriers     Delhi      Cochin  DEL → GWL → IDR → BOM → COK   \n",
       "3496           Air India  Banglore   New Delhi  BLR → BOM → IDR → GWL → DEL   \n",
       "3568           Air India   Kolkata    Banglore  CCU → GAU → IMF → DEL → BLR   \n",
       "3584   Multiple carriers     Delhi      Cochin  DEL → GWL → IDR → BOM → COK   \n",
       "3815           Air India     Delhi      Cochin  DEL → RPR → NAG → BOM → COK   \n",
       "3945           Air India    Mumbai   Hyderabad  BOM → BLR → CCU → BBI → HYD   \n",
       "4118           Air India     Delhi      Cochin  DEL → RPR → NAG → BOM → COK   \n",
       "4463           Air India     Delhi      Cochin  DEL → RPR → NAG → BOM → COK   \n",
       "4655           Air India     Delhi      Cochin  DEL → RPR → NAG → BOM → COK   \n",
       "4760   Multiple carriers     Delhi      Cochin  DEL → GWL → IDR → BOM → COK   \n",
       "5050           Air India   Kolkata    Banglore  CCU → GAU → IMF → DEL → BLR   \n",
       "5446           Air India  Banglore   New Delhi  BLR → HBX → BOM → BHO → DEL   \n",
       "5838   Multiple carriers     Delhi      Cochin  DEL → GWL → IDR → BOM → COK   \n",
       "5947           Air India  Banglore   New Delhi  BLR → HBX → BOM → AMD → DEL   \n",
       "5996           Air India   Kolkata    Banglore  CCU → GAU → IMF → DEL → BLR   \n",
       "6444           Air India     Delhi      Cochin  DEL → RPR → NAG → BOM → COK   \n",
       "6599   Multiple carriers     Delhi      Cochin  DEL → GWL → IDR → BOM → COK   \n",
       "6884           Air India     Delhi      Cochin  DEL → RPR → NAG → BOM → COK   \n",
       "7001           Air India   Kolkata    Banglore  CCU → BBI → IXR → DEL → BLR   \n",
       "7031           Air India   Kolkata    Banglore  CCU → GAU → IMF → DEL → BLR   \n",
       "7249           Air India     Delhi      Cochin  DEL → RPR → NAG → BOM → COK   \n",
       "7586           Air India   Kolkata    Banglore  CCU → DEL → COK → TRV → BLR   \n",
       "7752   Multiple carriers     Delhi      Cochin  DEL → GWL → IDR → BOM → COK   \n",
       "7876           Air India     Delhi      Cochin  DEL → RPR → NAG → BOM → COK   \n",
       "8153           Air India     Delhi      Cochin  DEL → RPR → NAG → BOM → COK   \n",
       "8204           Air India   Kolkata    Banglore  CCU → GAU → IMF → DEL → BLR   \n",
       "8601           Air India     Delhi      Cochin  DEL → RPR → NAG → BOM → COK   \n",
       "8729           Air India     Delhi      Cochin  DEL → RPR → NAG → BOM → COK   \n",
       "9029           Air India  Banglore   New Delhi  BLR → HBX → BOM → NAG → DEL   \n",
       "9454           Air India   Kolkata    Banglore  CCU → DEL → COK → TRV → BLR   \n",
       "9484           Air India     Delhi      Cochin  DEL → RPR → NAG → BOM → COK   \n",
       "9569           Air India  Banglore   New Delhi  BLR → CCU → BBI → HYD → DEL   \n",
       "10639          Air India     Delhi      Cochin  DEL → RPR → NAG → BOM → COK   \n",
       "\n",
       "                 Dep_Time        Arrival_Time Duration Total_Stops  \\\n",
       "402   2022-04-29 05:15:00 2022-06-16 07:40:00  26h 25m     3 stops   \n",
       "919   2022-04-29 12:00:00 2022-05-13 23:15:00  35h 15m     3 stops   \n",
       "1218  2022-04-29 05:15:00 2022-06-28 07:40:00  26h 25m     3 stops   \n",
       "1665  2022-04-29 05:50:00 2022-03-02 12:15:00  30h 25m     3 stops   \n",
       "2172  2022-04-29 05:15:00 2022-05-19 19:15:00      38h     3 stops   \n",
       "2623  2022-04-29 09:40:00 2022-03-13 15:15:00  29h 35m     3 stops   \n",
       "2633  2022-04-29 11:35:00 2022-04-29 21:00:00   9h 25m     3 stops   \n",
       "2718  2022-04-29 05:15:00 2022-03-10 19:15:00      38h     3 stops   \n",
       "2814  2022-04-29 17:25:00 2022-03-13 18:05:00  24h 40m     3 stops   \n",
       "2822  2022-04-29 10:00:00 2022-05-25 10:30:00  24h 30m     3 stops   \n",
       "3157  2022-04-29 11:35:00 2022-04-29 21:00:00   9h 25m     3 stops   \n",
       "3220  2022-04-29 10:00:00 2022-05-07 10:30:00  24h 30m     3 stops   \n",
       "3317  2022-04-29 11:35:00 2022-04-29 21:00:00   9h 25m     3 stops   \n",
       "3496  2022-04-29 06:45:00 2022-03-13 18:05:00  35h 20m     3 stops   \n",
       "3568  2022-04-29 09:50:00 2022-04-29 23:15:00  13h 25m     3 stops   \n",
       "3584  2022-04-29 11:35:00 2022-05-16 01:30:00  13h 55m     3 stops   \n",
       "3815  2022-04-29 05:15:00 2022-03-22 19:15:00      38h     3 stops   \n",
       "3945  2022-04-29 16:50:00 2022-03-13 12:25:00  19h 35m     3 stops   \n",
       "4118  2022-04-29 05:15:00 2022-06-16 19:15:00      38h     3 stops   \n",
       "4463  2022-04-29 05:15:00 2022-06-02 19:15:00      38h     3 stops   \n",
       "4655  2022-04-29 05:15:00 2022-06-28 19:15:00      38h     3 stops   \n",
       "4760  2022-04-29 11:35:00 2022-04-29 21:00:00   9h 25m     3 stops   \n",
       "5050  2022-04-29 16:45:00 2022-04-02 23:15:00  30h 30m     3 stops   \n",
       "5446  2022-04-29 12:00:00 2022-04-29 23:25:00  11h 25m     3 stops   \n",
       "5838  2022-04-29 11:35:00 2022-06-13 01:30:00  13h 55m     3 stops   \n",
       "5947  2022-04-29 12:00:00 2022-04-29 23:55:00  11h 55m     3 stops   \n",
       "5996  2022-04-29 05:55:00 2022-04-29 23:15:00  17h 20m     3 stops   \n",
       "6444  2022-04-29 05:15:00 2022-06-25 07:40:00  26h 25m     3 stops   \n",
       "6599  2022-04-29 11:35:00 2022-06-10 01:30:00  13h 55m     3 stops   \n",
       "6884  2022-04-29 05:15:00 2022-06-28 19:15:00      38h     3 stops   \n",
       "7001  2022-04-29 12:00:00 2022-03-25 23:15:00  35h 15m     3 stops   \n",
       "7031  2022-04-29 09:50:00 2022-04-29 23:15:00  13h 25m     3 stops   \n",
       "7249  2022-04-29 05:15:00 2022-06-02 07:40:00  26h 25m     3 stops   \n",
       "7586  2022-04-29 07:00:00 2022-05-07 10:30:00  27h 30m     3 stops   \n",
       "7752  2022-04-29 11:35:00 2022-04-29 21:00:00   9h 25m     3 stops   \n",
       "7876  2022-04-29 05:15:00 2022-06-07 19:15:00      38h     3 stops   \n",
       "8153  2022-04-29 05:15:00 2022-05-10 19:15:00      38h     3 stops   \n",
       "8204  2022-04-29 09:50:00 2022-04-29 23:15:00  13h 25m     3 stops   \n",
       "8601  2022-04-29 05:15:00 2022-05-28 19:15:00      38h     3 stops   \n",
       "8729  2022-04-29 05:15:00 2022-06-25 19:15:00      38h     3 stops   \n",
       "9029  2022-04-29 12:00:00 2022-03-07 10:35:00  22h 35m     3 stops   \n",
       "9454  2022-04-29 10:00:00 2022-04-02 10:30:00  24h 30m     3 stops   \n",
       "9484  2022-04-29 05:15:00 2022-03-22 19:15:00      38h     3 stops   \n",
       "9569  2022-04-29 05:50:00 2022-03-02 08:50:00      27h     3 stops   \n",
       "10639 2022-04-29 05:15:00 2022-06-04 19:15:00      38h     3 stops   \n",
       "\n",
       "      Additional_Info  Price  Day_of_Journey  Month_of_Journey  \n",
       "402           No info  10493              15                 6  \n",
       "919           No info  10991               5                12  \n",
       "1218          No info  11543              27                 6  \n",
       "1665          No info  12346               3                 1  \n",
       "2172          No info  10703              18                 5  \n",
       "2623          No info  18293               3                12  \n",
       "2633          No info  21829               3                 6  \n",
       "2718          No info  15586               3                 9  \n",
       "2814          No info  13387               3                12  \n",
       "2822          No info  13007              24                 5  \n",
       "3157          No info  16294              15                 5  \n",
       "3220          No info  12797               5                 6  \n",
       "3317          No info  21829               3                 3  \n",
       "3496          No info  13387               3                12  \n",
       "3568          No info  14960              21                 5  \n",
       "3584          No info  16294              15                 5  \n",
       "3815          No info   9128              21                 3  \n",
       "3945          No info  14260               3                12  \n",
       "4118          No info  10703              15                 6  \n",
       "4463          No info  10703               6                 1  \n",
       "4655          No info  10703              27                 6  \n",
       "4760          No info  15629               6                12  \n",
       "5050          No info   8607               4                 1  \n",
       "5446          No info  14195               3                 6  \n",
       "5838          No info  15419               6                12  \n",
       "5947          No info  10573               3                 3  \n",
       "5996          No info  15145              24                 3  \n",
       "6444          No info  10493              24                 6  \n",
       "6599          No info  15419               6                 9  \n",
       "6884          No info  10703              27                 6  \n",
       "7001          No info  14221              24                 3  \n",
       "7031          No info  14015               5                12  \n",
       "7249          No info  12383               6                 1  \n",
       "7586          No info  13007               5                 6  \n",
       "7752          No info  15629               6                 9  \n",
       "7876          No info  10703               6                 6  \n",
       "8153          No info  10703               5                 9  \n",
       "8204          No info  14960               6                 9  \n",
       "8601          No info  10493              27                 5  \n",
       "8729          No info  10493              24                 6  \n",
       "9029          No info  12358               3                 3  \n",
       "9454          No info  12954               4                 1  \n",
       "9484          No info   9128              21                 3  \n",
       "9569          No info  13081               3                 1  \n",
       "10639         No info  10493               6                 3  "
      ]
     },
     "execution_count": 33,
     "metadata": {},
     "output_type": "execute_result"
    }
   ],
   "source": [
    "df.loc[df['Total_Stops']=='3 stops']"
   ]
  },
  {
   "cell_type": "code",
   "execution_count": 34,
   "id": "7af539ab",
   "metadata": {},
   "outputs": [
    {
     "data": {
      "text/html": [
       "<div>\n",
       "<style scoped>\n",
       "    .dataframe tbody tr th:only-of-type {\n",
       "        vertical-align: middle;\n",
       "    }\n",
       "\n",
       "    .dataframe tbody tr th {\n",
       "        vertical-align: top;\n",
       "    }\n",
       "\n",
       "    .dataframe thead th {\n",
       "        text-align: right;\n",
       "    }\n",
       "</style>\n",
       "<table border=\"1\" class=\"dataframe\">\n",
       "  <thead>\n",
       "    <tr style=\"text-align: right;\">\n",
       "      <th></th>\n",
       "      <th>Airline</th>\n",
       "      <th>Source</th>\n",
       "      <th>Destination</th>\n",
       "      <th>Route</th>\n",
       "      <th>Dep_Time</th>\n",
       "      <th>Arrival_Time</th>\n",
       "      <th>Duration</th>\n",
       "      <th>Total_Stops</th>\n",
       "      <th>Additional_Info</th>\n",
       "      <th>Price</th>\n",
       "      <th>Day_of_Journey</th>\n",
       "      <th>Month_of_Journey</th>\n",
       "    </tr>\n",
       "  </thead>\n",
       "  <tbody>\n",
       "    <tr>\n",
       "      <th>9182</th>\n",
       "      <td>Air India</td>\n",
       "      <td>Banglore</td>\n",
       "      <td>New Delhi</td>\n",
       "      <td>BLR → CCU → BBI → HYD → VGA → DEL</td>\n",
       "      <td>2022-04-29 05:50:00</td>\n",
       "      <td>2022-03-02 11:20:00</td>\n",
       "      <td>29h 30m</td>\n",
       "      <td>4 stops</td>\n",
       "      <td>Change airports</td>\n",
       "      <td>17686</td>\n",
       "      <td>3</td>\n",
       "      <td>1</td>\n",
       "    </tr>\n",
       "  </tbody>\n",
       "</table>\n",
       "</div>"
      ],
      "text/plain": [
       "        Airline    Source Destination                              Route  \\\n",
       "9182  Air India  Banglore   New Delhi  BLR → CCU → BBI → HYD → VGA → DEL   \n",
       "\n",
       "                Dep_Time        Arrival_Time Duration Total_Stops  \\\n",
       "9182 2022-04-29 05:50:00 2022-03-02 11:20:00  29h 30m     4 stops   \n",
       "\n",
       "      Additional_Info  Price  Day_of_Journey  Month_of_Journey  \n",
       "9182  Change airports  17686               3                 1  "
      ]
     },
     "execution_count": 34,
     "metadata": {},
     "output_type": "execute_result"
    }
   ],
   "source": [
    "df.loc[df['Total_Stops']=='4 stops']"
   ]
  },
  {
   "cell_type": "code",
   "execution_count": 35,
   "id": "129a77d2",
   "metadata": {},
   "outputs": [
    {
     "data": {
      "text/plain": [
       "array([24,  5,  6,  3, 27, 18, 15, 21,  4], dtype=int64)"
      ]
     },
     "execution_count": 35,
     "metadata": {},
     "output_type": "execute_result"
    }
   ],
   "source": [
    "df['Day_of_Journey'].unique()"
   ]
  },
  {
   "cell_type": "code",
   "execution_count": 36,
   "id": "0b120315",
   "metadata": {},
   "outputs": [
    {
     "data": {
      "text/plain": [
       "array([ 3,  1,  9, 12,  6,  5,  4], dtype=int64)"
      ]
     },
     "execution_count": 36,
     "metadata": {},
     "output_type": "execute_result"
    }
   ],
   "source": [
    "df['Month_of_Journey'].unique()"
   ]
  },
  {
   "cell_type": "code",
   "execution_count": 37,
   "id": "dad0a8b6",
   "metadata": {},
   "outputs": [
    {
     "data": {
      "text/plain": [
       "array(['Banglore', 'Kolkata', 'Delhi', 'Chennai', 'Mumbai'], dtype=object)"
      ]
     },
     "execution_count": 37,
     "metadata": {},
     "output_type": "execute_result"
    }
   ],
   "source": [
    "df['Source'].unique()"
   ]
  },
  {
   "cell_type": "code",
   "execution_count": 38,
   "id": "b32a904c",
   "metadata": {},
   "outputs": [
    {
     "data": {
      "text/plain": [
       "array(['IndiGo', 'Air India', 'Jet Airways', 'SpiceJet',\n",
       "       'Multiple carriers', 'GoAir', 'Vistara', 'Air Asia',\n",
       "       'Vistara Premium economy', 'Jet Airways Business',\n",
       "       'Multiple carriers Premium economy', 'Trujet'], dtype=object)"
      ]
     },
     "execution_count": 38,
     "metadata": {},
     "output_type": "execute_result"
    }
   ],
   "source": [
    "df['Airline'].unique()"
   ]
  },
  {
   "cell_type": "code",
   "execution_count": 39,
   "id": "9a994bb3",
   "metadata": {},
   "outputs": [
    {
     "data": {
      "text/plain": [
       "array(['New Delhi', 'Banglore', 'Cochin', 'Kolkata', 'Delhi', 'Hyderabad'],\n",
       "      dtype=object)"
      ]
     },
     "execution_count": 39,
     "metadata": {},
     "output_type": "execute_result"
    }
   ],
   "source": [
    "df['Destination'].unique()"
   ]
  },
  {
   "cell_type": "code",
   "execution_count": 40,
   "id": "37863fc0",
   "metadata": {},
   "outputs": [],
   "source": [
    "destination=[]\n",
    "for i in df['Destination']:\n",
    "    if i=='New Delhi':\n",
    "        destination.append(i.replace('New Delhi','Delhi'))\n",
    "    else:\n",
    "        destination.append(i)"
   ]
  },
  {
   "cell_type": "code",
   "execution_count": 41,
   "id": "8b6cabf3",
   "metadata": {},
   "outputs": [],
   "source": [
    "df.drop(columns=['Destination'],inplace=True)"
   ]
  },
  {
   "cell_type": "code",
   "execution_count": 42,
   "id": "cb0875ab",
   "metadata": {},
   "outputs": [
    {
     "data": {
      "text/html": [
       "<div>\n",
       "<style scoped>\n",
       "    .dataframe tbody tr th:only-of-type {\n",
       "        vertical-align: middle;\n",
       "    }\n",
       "\n",
       "    .dataframe tbody tr th {\n",
       "        vertical-align: top;\n",
       "    }\n",
       "\n",
       "    .dataframe thead th {\n",
       "        text-align: right;\n",
       "    }\n",
       "</style>\n",
       "<table border=\"1\" class=\"dataframe\">\n",
       "  <thead>\n",
       "    <tr style=\"text-align: right;\">\n",
       "      <th></th>\n",
       "      <th>Airline</th>\n",
       "      <th>Source</th>\n",
       "      <th>Route</th>\n",
       "      <th>Dep_Time</th>\n",
       "      <th>Arrival_Time</th>\n",
       "      <th>Duration</th>\n",
       "      <th>Total_Stops</th>\n",
       "      <th>Additional_Info</th>\n",
       "      <th>Price</th>\n",
       "      <th>Day_of_Journey</th>\n",
       "      <th>Month_of_Journey</th>\n",
       "    </tr>\n",
       "  </thead>\n",
       "  <tbody>\n",
       "    <tr>\n",
       "      <th>0</th>\n",
       "      <td>IndiGo</td>\n",
       "      <td>Banglore</td>\n",
       "      <td>BLR → DEL</td>\n",
       "      <td>2022-04-29 22:20:00</td>\n",
       "      <td>2022-03-22 01:10:00</td>\n",
       "      <td>2h 50m</td>\n",
       "      <td>non-stop</td>\n",
       "      <td>No info</td>\n",
       "      <td>3897</td>\n",
       "      <td>24</td>\n",
       "      <td>3</td>\n",
       "    </tr>\n",
       "    <tr>\n",
       "      <th>1</th>\n",
       "      <td>Air India</td>\n",
       "      <td>Kolkata</td>\n",
       "      <td>CCU → IXR → BBI → BLR</td>\n",
       "      <td>2022-04-29 05:50:00</td>\n",
       "      <td>2022-04-29 13:15:00</td>\n",
       "      <td>7h 25m</td>\n",
       "      <td>2 stops</td>\n",
       "      <td>No info</td>\n",
       "      <td>7662</td>\n",
       "      <td>5</td>\n",
       "      <td>1</td>\n",
       "    </tr>\n",
       "  </tbody>\n",
       "</table>\n",
       "</div>"
      ],
      "text/plain": [
       "     Airline    Source                  Route            Dep_Time  \\\n",
       "0     IndiGo  Banglore              BLR → DEL 2022-04-29 22:20:00   \n",
       "1  Air India   Kolkata  CCU → IXR → BBI → BLR 2022-04-29 05:50:00   \n",
       "\n",
       "         Arrival_Time Duration Total_Stops Additional_Info  Price  \\\n",
       "0 2022-03-22 01:10:00   2h 50m    non-stop         No info   3897   \n",
       "1 2022-04-29 13:15:00   7h 25m     2 stops         No info   7662   \n",
       "\n",
       "   Day_of_Journey  Month_of_Journey  \n",
       "0              24                 3  \n",
       "1               5                 1  "
      ]
     },
     "execution_count": 42,
     "metadata": {},
     "output_type": "execute_result"
    }
   ],
   "source": [
    "df.head(2)"
   ]
  },
  {
   "cell_type": "code",
   "execution_count": 43,
   "id": "2d6f8cbb",
   "metadata": {},
   "outputs": [],
   "source": [
    "df['Destination'] = pd.Series(destination)"
   ]
  },
  {
   "cell_type": "code",
   "execution_count": 44,
   "id": "5d7fa4be",
   "metadata": {},
   "outputs": [
    {
     "data": {
      "text/html": [
       "<div>\n",
       "<style scoped>\n",
       "    .dataframe tbody tr th:only-of-type {\n",
       "        vertical-align: middle;\n",
       "    }\n",
       "\n",
       "    .dataframe tbody tr th {\n",
       "        vertical-align: top;\n",
       "    }\n",
       "\n",
       "    .dataframe thead th {\n",
       "        text-align: right;\n",
       "    }\n",
       "</style>\n",
       "<table border=\"1\" class=\"dataframe\">\n",
       "  <thead>\n",
       "    <tr style=\"text-align: right;\">\n",
       "      <th></th>\n",
       "      <th>Airline</th>\n",
       "      <th>Source</th>\n",
       "      <th>Route</th>\n",
       "      <th>Dep_Time</th>\n",
       "      <th>Arrival_Time</th>\n",
       "      <th>Duration</th>\n",
       "      <th>Total_Stops</th>\n",
       "      <th>Additional_Info</th>\n",
       "      <th>Price</th>\n",
       "      <th>Day_of_Journey</th>\n",
       "      <th>Month_of_Journey</th>\n",
       "      <th>Destination</th>\n",
       "    </tr>\n",
       "  </thead>\n",
       "  <tbody>\n",
       "    <tr>\n",
       "      <th>0</th>\n",
       "      <td>IndiGo</td>\n",
       "      <td>Banglore</td>\n",
       "      <td>BLR → DEL</td>\n",
       "      <td>2022-04-29 22:20:00</td>\n",
       "      <td>2022-03-22 01:10:00</td>\n",
       "      <td>2h 50m</td>\n",
       "      <td>non-stop</td>\n",
       "      <td>No info</td>\n",
       "      <td>3897</td>\n",
       "      <td>24</td>\n",
       "      <td>3</td>\n",
       "      <td>Delhi</td>\n",
       "    </tr>\n",
       "    <tr>\n",
       "      <th>1</th>\n",
       "      <td>Air India</td>\n",
       "      <td>Kolkata</td>\n",
       "      <td>CCU → IXR → BBI → BLR</td>\n",
       "      <td>2022-04-29 05:50:00</td>\n",
       "      <td>2022-04-29 13:15:00</td>\n",
       "      <td>7h 25m</td>\n",
       "      <td>2 stops</td>\n",
       "      <td>No info</td>\n",
       "      <td>7662</td>\n",
       "      <td>5</td>\n",
       "      <td>1</td>\n",
       "      <td>Banglore</td>\n",
       "    </tr>\n",
       "  </tbody>\n",
       "</table>\n",
       "</div>"
      ],
      "text/plain": [
       "     Airline    Source                  Route            Dep_Time  \\\n",
       "0     IndiGo  Banglore              BLR → DEL 2022-04-29 22:20:00   \n",
       "1  Air India   Kolkata  CCU → IXR → BBI → BLR 2022-04-29 05:50:00   \n",
       "\n",
       "         Arrival_Time Duration Total_Stops Additional_Info  Price  \\\n",
       "0 2022-03-22 01:10:00   2h 50m    non-stop         No info   3897   \n",
       "1 2022-04-29 13:15:00   7h 25m     2 stops         No info   7662   \n",
       "\n",
       "   Day_of_Journey  Month_of_Journey Destination  \n",
       "0              24                 3       Delhi  \n",
       "1               5                 1    Banglore  "
      ]
     },
     "execution_count": 44,
     "metadata": {},
     "output_type": "execute_result"
    }
   ],
   "source": [
    "df.head(2)"
   ]
  },
  {
   "cell_type": "code",
   "execution_count": 45,
   "id": "8335b4b0",
   "metadata": {},
   "outputs": [
    {
     "data": {
      "text/plain": [
       "array(['Delhi', 'Banglore', 'Cochin', 'Kolkata', 'Hyderabad'],\n",
       "      dtype=object)"
      ]
     },
     "execution_count": 45,
     "metadata": {},
     "output_type": "execute_result"
    }
   ],
   "source": [
    "df['Destination'].unique()"
   ]
  },
  {
   "cell_type": "code",
   "execution_count": 46,
   "id": "9b061922",
   "metadata": {},
   "outputs": [
    {
     "data": {
      "text/plain": [
       "Airline                  Price\n",
       "Air Asia                 3383     31\n",
       "                         4409     29\n",
       "                         5192     27\n",
       "                         3807     19\n",
       "                         4483     19\n",
       "                                  ..\n",
       "Vistara                  18387     1\n",
       "                         21520     1\n",
       "Vistara Premium economy  5969      1\n",
       "                         9125      1\n",
       "                         11793     1\n",
       "Name: Price, Length: 1978, dtype: int64"
      ]
     },
     "execution_count": 46,
     "metadata": {},
     "output_type": "execute_result"
    }
   ],
   "source": [
    "df.groupby(['Airline'])['Price'].value_counts()"
   ]
  },
  {
   "cell_type": "code",
   "execution_count": 47,
   "id": "85235663",
   "metadata": {},
   "outputs": [
    {
     "data": {
      "image/png": "[encoded data removed]",
      "text/plain": [
       "<Figure size 720x720 with 1 Axes>"
      ]
     },
     "metadata": {},
     "output_type": "display_data"
    }
   ],
   "source": [
    "plt.figure(figsize=(10,10))\n",
    "flights=list(df['Airline'])\n",
    "cost=list(df['Price'])\n",
    "plt.bar(flights,cost)\n",
    "plt.xlabel('Airline')\n",
    "plt.ylabel('Price')\n",
    "plt.xticks(rotation='vertical',size=12)\n",
    "plt.show()"
   ]
  },
  {
   "cell_type": "code",
   "execution_count": 48,
   "id": "52a16390",
   "metadata": {},
   "outputs": [
    {
     "data": {
      "text/plain": [
       "['Airline',\n",
       " 'Source',\n",
       " 'Route',\n",
       " 'Dep_Time',\n",
       " 'Arrival_Time',\n",
       " 'Duration',\n",
       " 'Total_Stops',\n",
       " 'Additional_Info',\n",
       " 'Price',\n",
       " 'Day_of_Journey',\n",
       " 'Month_of_Journey',\n",
       " 'Destination']"
      ]
     },
     "execution_count": 48,
     "metadata": {},
     "output_type": "execute_result"
    }
   ],
   "source": [
    "cols=df.columns.tolist()\n",
    "cols"
   ]
  },
  {
   "cell_type": "code",
   "execution_count": 49,
   "id": "63fda3f8",
   "metadata": {},
   "outputs": [],
   "source": [
    "cols=cols[0:3]+cols[-1:]+cols[3:11]"
   ]
  },
  {
   "cell_type": "code",
   "execution_count": 50,
   "id": "8803bbf7",
   "metadata": {},
   "outputs": [
    {
     "data": {
      "text/plain": [
       "['Airline',\n",
       " 'Source',\n",
       " 'Route',\n",
       " 'Destination',\n",
       " 'Dep_Time',\n",
       " 'Arrival_Time',\n",
       " 'Duration',\n",
       " 'Total_Stops',\n",
       " 'Additional_Info',\n",
       " 'Price',\n",
       " 'Day_of_Journey',\n",
       " 'Month_of_Journey']"
      ]
     },
     "execution_count": 50,
     "metadata": {},
     "output_type": "execute_result"
    }
   ],
   "source": [
    "cols"
   ]
  },
  {
   "cell_type": "code",
   "execution_count": 51,
   "id": "95b6d1ae",
   "metadata": {},
   "outputs": [],
   "source": [
    "df=df[cols]"
   ]
  },
  {
   "cell_type": "code",
   "execution_count": 52,
   "id": "3a2009d4",
   "metadata": {},
   "outputs": [
    {
     "data": {
      "text/html": [
       "<div>\n",
       "<style scoped>\n",
       "    .dataframe tbody tr th:only-of-type {\n",
       "        vertical-align: middle;\n",
       "    }\n",
       "\n",
       "    .dataframe tbody tr th {\n",
       "        vertical-align: top;\n",
       "    }\n",
       "\n",
       "    .dataframe thead th {\n",
       "        text-align: right;\n",
       "    }\n",
       "</style>\n",
       "<table border=\"1\" class=\"dataframe\">\n",
       "  <thead>\n",
       "    <tr style=\"text-align: right;\">\n",
       "      <th></th>\n",
       "      <th>Airline</th>\n",
       "      <th>Source</th>\n",
       "      <th>Route</th>\n",
       "      <th>Destination</th>\n",
       "      <th>Dep_Time</th>\n",
       "      <th>Arrival_Time</th>\n",
       "      <th>Duration</th>\n",
       "      <th>Total_Stops</th>\n",
       "      <th>Additional_Info</th>\n",
       "      <th>Price</th>\n",
       "      <th>Day_of_Journey</th>\n",
       "      <th>Month_of_Journey</th>\n",
       "    </tr>\n",
       "  </thead>\n",
       "  <tbody>\n",
       "    <tr>\n",
       "      <th>0</th>\n",
       "      <td>IndiGo</td>\n",
       "      <td>Banglore</td>\n",
       "      <td>BLR → DEL</td>\n",
       "      <td>Delhi</td>\n",
       "      <td>2022-04-29 22:20:00</td>\n",
       "      <td>2022-03-22 01:10:00</td>\n",
       "      <td>2h 50m</td>\n",
       "      <td>non-stop</td>\n",
       "      <td>No info</td>\n",
       "      <td>3897</td>\n",
       "      <td>24</td>\n",
       "      <td>3</td>\n",
       "    </tr>\n",
       "    <tr>\n",
       "      <th>1</th>\n",
       "      <td>Air India</td>\n",
       "      <td>Kolkata</td>\n",
       "      <td>CCU → IXR → BBI → BLR</td>\n",
       "      <td>Banglore</td>\n",
       "      <td>2022-04-29 05:50:00</td>\n",
       "      <td>2022-04-29 13:15:00</td>\n",
       "      <td>7h 25m</td>\n",
       "      <td>2 stops</td>\n",
       "      <td>No info</td>\n",
       "      <td>7662</td>\n",
       "      <td>5</td>\n",
       "      <td>1</td>\n",
       "    </tr>\n",
       "  </tbody>\n",
       "</table>\n",
       "</div>"
      ],
      "text/plain": [
       "     Airline    Source                  Route Destination            Dep_Time  \\\n",
       "0     IndiGo  Banglore              BLR → DEL       Delhi 2022-04-29 22:20:00   \n",
       "1  Air India   Kolkata  CCU → IXR → BBI → BLR    Banglore 2022-04-29 05:50:00   \n",
       "\n",
       "         Arrival_Time Duration Total_Stops Additional_Info  Price  \\\n",
       "0 2022-03-22 01:10:00   2h 50m    non-stop         No info   3897   \n",
       "1 2022-04-29 13:15:00   7h 25m     2 stops         No info   7662   \n",
       "\n",
       "   Day_of_Journey  Month_of_Journey  \n",
       "0              24                 3  \n",
       "1               5                 1  "
      ]
     },
     "execution_count": 52,
     "metadata": {},
     "output_type": "execute_result"
    }
   ],
   "source": [
    "df.head(2)"
   ]
  },
  {
   "cell_type": "code",
   "execution_count": 53,
   "id": "38a34069",
   "metadata": {},
   "outputs": [
    {
     "data": {
      "text/plain": [
       "Source    Price\n",
       "Banglore  7229     162\n",
       "          4823     131\n",
       "          3943     104\n",
       "          8016      60\n",
       "          11087     57\n",
       "                  ... \n",
       "Mumbai    23528      1\n",
       "          23843      1\n",
       "          24115      1\n",
       "          24210      1\n",
       "          25139      1\n",
       "Name: Price, Length: 1946, dtype: int64"
      ]
     },
     "execution_count": 53,
     "metadata": {},
     "output_type": "execute_result"
    }
   ],
   "source": [
    "df.groupby(['Source'])['Price'].value_counts()"
   ]
  },
  {
   "cell_type": "code",
   "execution_count": 54,
   "id": "254bf826",
   "metadata": {},
   "outputs": [
    {
     "data": {
      "text/plain": [
       "<seaborn.axisgrid.FacetGrid at 0x21d554c0>"
      ]
     },
     "execution_count": 54,
     "metadata": {},
     "output_type": "execute_result"
    },
    {
     "data": {
      "image/png": "[encoded data removed]",
      "text/plain": [
       "<Figure size 360x360 with 1 Axes>"
      ]
     },
     "metadata": {},
     "output_type": "display_data"
    }
   ],
   "source": [
    "sns.catplot(x = 'Source', y = 'Price',kind = 'box', data = df)"
   ]
  },
  {
   "cell_type": "code",
   "execution_count": 55,
   "id": "bdc94847",
   "metadata": {},
   "outputs": [
    {
     "data": {
      "text/plain": [
       "Airline                  Price\n",
       "Air Asia                 3383     31\n",
       "                         4409     29\n",
       "                         5192     27\n",
       "                         3807     19\n",
       "                         4483     19\n",
       "                                  ..\n",
       "Vistara                  18387     1\n",
       "                         21520     1\n",
       "Vistara Premium economy  5969      1\n",
       "                         9125      1\n",
       "                         11793     1\n",
       "Name: Price, Length: 1978, dtype: int64"
      ]
     },
     "execution_count": 55,
     "metadata": {},
     "output_type": "execute_result"
    }
   ],
   "source": [
    "df.groupby(['Airline'])['Price'].value_counts()"
   ]
  },
  {
   "cell_type": "code",
   "execution_count": 56,
   "id": "b3e59180",
   "metadata": {},
   "outputs": [
    {
     "data": {
      "image/png": "[encoded data removed]",
      "text/plain": [
       "<Figure size 360x360 with 1 Axes>"
      ]
     },
     "metadata": {},
     "output_type": "display_data"
    }
   ],
   "source": [
    "sns.catplot(x = 'Airline', y = 'Price',kind = 'box', data = df)\n",
    "plt.xticks(rotation='vertical',size=12);"
   ]
  },
  {
   "cell_type": "code",
   "execution_count": 57,
   "id": "d2e99cc3",
   "metadata": {},
   "outputs": [
    {
     "data": {
      "text/plain": [
       "array(['Banglore', 'Kolkata', 'Delhi', 'Chennai', 'Mumbai'], dtype=object)"
      ]
     },
     "execution_count": 57,
     "metadata": {},
     "output_type": "execute_result"
    }
   ],
   "source": [
    "df['Source'].unique()"
   ]
  },
  {
   "cell_type": "code",
   "execution_count": 58,
   "id": "7db2f87f",
   "metadata": {},
   "outputs": [
    {
     "data": {
      "text/plain": [
       "array(['Delhi', 'Banglore', 'Cochin', 'Kolkata', 'Hyderabad'],\n",
       "      dtype=object)"
      ]
     },
     "execution_count": 58,
     "metadata": {},
     "output_type": "execute_result"
    }
   ],
   "source": [
    "df['Destination'].unique()"
   ]
  },
  {
   "cell_type": "code",
   "execution_count": 59,
   "id": "6027cbb9",
   "metadata": {},
   "outputs": [
    {
     "data": {
      "text/plain": [
       "Source    Destination\n",
       "Banglore  Delhi          2197\n",
       "Chennai   Kolkata         381\n",
       "Delhi     Cochin         4537\n",
       "Kolkata   Banglore       2871\n",
       "Mumbai    Hyderabad       697\n",
       "Name: Destination, dtype: int64"
      ]
     },
     "execution_count": 59,
     "metadata": {},
     "output_type": "execute_result"
    }
   ],
   "source": [
    "df.groupby(['Source'])['Destination'].value_counts()"
   ]
  },
  {
   "cell_type": "code",
   "execution_count": 60,
   "id": "56a24970",
   "metadata": {},
   "outputs": [
    {
     "data": {
      "text/plain": [
       "array(['No info', 'In-flight meal not included',\n",
       "       'No check-in baggage included', '1 Short layover', 'No Info',\n",
       "       '1 Long layover', 'Change airports', 'Business class',\n",
       "       'Red-eye flight', '2 Long layover'], dtype=object)"
      ]
     },
     "execution_count": 60,
     "metadata": {},
     "output_type": "execute_result"
    }
   ],
   "source": [
    "df['Additional_Info'].unique()"
   ]
  },
  {
   "cell_type": "code",
   "execution_count": 61,
   "id": "bb8ef604",
   "metadata": {},
   "outputs": [
    {
     "data": {
      "text/plain": [
       "Airline                            Additional_Info             \n",
       "Air Asia                           No info                          318\n",
       "                                   Red-eye flight                     1\n",
       "Air India                          No info                         1737\n",
       "                                   Change airports                    7\n",
       "                                   1 Long layover                     6\n",
       "                                   1 Short layover                    1\n",
       "                                   2 Long layover                     1\n",
       "GoAir                              No info                          194\n",
       "IndiGo                             No info                         2050\n",
       "                                   No Info                            3\n",
       "Jet Airways                        No info                         1950\n",
       "                                   In-flight meal not included     1886\n",
       "                                   1 Long layover                    12\n",
       "                                   Business class                     1\n",
       "Jet Airways Business               Business class                     3\n",
       "                                   No info                            3\n",
       "Multiple carriers                  No info                         1100\n",
       "                                   In-flight meal not included       96\n",
       "Multiple carriers Premium economy  No info                           13\n",
       "SpiceJet                           No info                          497\n",
       "                                   No check-in baggage included     320\n",
       "                                   1 Long layover                     1\n",
       "Trujet                             No info                            1\n",
       "Vistara                            No info                          479\n",
       "Vistara Premium economy            No info                            3\n",
       "Name: Additional_Info, dtype: int64"
      ]
     },
     "execution_count": 61,
     "metadata": {},
     "output_type": "execute_result"
    }
   ],
   "source": [
    "df.groupby(['Airline'])['Additional_Info'].value_counts()"
   ]
  },
  {
   "cell_type": "code",
   "execution_count": 62,
   "id": "d95e437e",
   "metadata": {},
   "outputs": [
    {
     "data": {
      "text/html": [
       "<div>\n",
       "<style scoped>\n",
       "    .dataframe tbody tr th:only-of-type {\n",
       "        vertical-align: middle;\n",
       "    }\n",
       "\n",
       "    .dataframe tbody tr th {\n",
       "        vertical-align: top;\n",
       "    }\n",
       "\n",
       "    .dataframe thead th {\n",
       "        text-align: right;\n",
       "    }\n",
       "</style>\n",
       "<table border=\"1\" class=\"dataframe\">\n",
       "  <thead>\n",
       "    <tr style=\"text-align: right;\">\n",
       "      <th></th>\n",
       "      <th>max</th>\n",
       "      <th>min</th>\n",
       "    </tr>\n",
       "    <tr>\n",
       "      <th>Airline</th>\n",
       "      <th></th>\n",
       "      <th></th>\n",
       "    </tr>\n",
       "  </thead>\n",
       "  <tbody>\n",
       "    <tr>\n",
       "      <th>Air Asia</th>\n",
       "      <td>13774</td>\n",
       "      <td>3383</td>\n",
       "    </tr>\n",
       "    <tr>\n",
       "      <th>Air India</th>\n",
       "      <td>31945</td>\n",
       "      <td>2050</td>\n",
       "    </tr>\n",
       "    <tr>\n",
       "      <th>GoAir</th>\n",
       "      <td>22794</td>\n",
       "      <td>3398</td>\n",
       "    </tr>\n",
       "    <tr>\n",
       "      <th>IndiGo</th>\n",
       "      <td>22153</td>\n",
       "      <td>2227</td>\n",
       "    </tr>\n",
       "    <tr>\n",
       "      <th>Jet Airways</th>\n",
       "      <td>54826</td>\n",
       "      <td>1840</td>\n",
       "    </tr>\n",
       "    <tr>\n",
       "      <th>Jet Airways Business</th>\n",
       "      <td>79512</td>\n",
       "      <td>46490</td>\n",
       "    </tr>\n",
       "    <tr>\n",
       "      <th>Multiple carriers</th>\n",
       "      <td>36983</td>\n",
       "      <td>5797</td>\n",
       "    </tr>\n",
       "    <tr>\n",
       "      <th>Multiple carriers Premium economy</th>\n",
       "      <td>14629</td>\n",
       "      <td>9845</td>\n",
       "    </tr>\n",
       "    <tr>\n",
       "      <th>SpiceJet</th>\n",
       "      <td>23267</td>\n",
       "      <td>1759</td>\n",
       "    </tr>\n",
       "    <tr>\n",
       "      <th>Trujet</th>\n",
       "      <td>4140</td>\n",
       "      <td>4140</td>\n",
       "    </tr>\n",
       "    <tr>\n",
       "      <th>Vistara</th>\n",
       "      <td>21730</td>\n",
       "      <td>3687</td>\n",
       "    </tr>\n",
       "    <tr>\n",
       "      <th>Vistara Premium economy</th>\n",
       "      <td>11793</td>\n",
       "      <td>5969</td>\n",
       "    </tr>\n",
       "  </tbody>\n",
       "</table>\n",
       "</div>"
      ],
      "text/plain": [
       "                                     max    min\n",
       "Airline                                        \n",
       "Air Asia                           13774   3383\n",
       "Air India                          31945   2050\n",
       "GoAir                              22794   3398\n",
       "IndiGo                             22153   2227\n",
       "Jet Airways                        54826   1840\n",
       "Jet Airways Business               79512  46490\n",
       "Multiple carriers                  36983   5797\n",
       "Multiple carriers Premium economy  14629   9845\n",
       "SpiceJet                           23267   1759\n",
       "Trujet                              4140   4140\n",
       "Vistara                            21730   3687\n",
       "Vistara Premium economy            11793   5969"
      ]
     },
     "execution_count": 62,
     "metadata": {},
     "output_type": "execute_result"
    }
   ],
   "source": [
    "df.groupby(['Airline'])['Price'].agg(['max','min'])"
   ]
  },
  {
   "cell_type": "code",
   "execution_count": 63,
   "id": "3519dd41",
   "metadata": {},
   "outputs": [
    {
     "data": {
      "text/html": [
       "<div>\n",
       "<style scoped>\n",
       "    .dataframe tbody tr th:only-of-type {\n",
       "        vertical-align: middle;\n",
       "    }\n",
       "\n",
       "    .dataframe tbody tr th {\n",
       "        vertical-align: top;\n",
       "    }\n",
       "\n",
       "    .dataframe thead th {\n",
       "        text-align: right;\n",
       "    }\n",
       "</style>\n",
       "<table border=\"1\" class=\"dataframe\">\n",
       "  <thead>\n",
       "    <tr style=\"text-align: right;\">\n",
       "      <th></th>\n",
       "      <th>Airline</th>\n",
       "      <th>Source</th>\n",
       "      <th>Route</th>\n",
       "      <th>Destination</th>\n",
       "      <th>Dep_Time</th>\n",
       "      <th>Arrival_Time</th>\n",
       "      <th>Duration</th>\n",
       "      <th>Total_Stops</th>\n",
       "      <th>Additional_Info</th>\n",
       "      <th>Price</th>\n",
       "      <th>Day_of_Journey</th>\n",
       "      <th>Month_of_Journey</th>\n",
       "    </tr>\n",
       "  </thead>\n",
       "  <tbody>\n",
       "    <tr>\n",
       "      <th>0</th>\n",
       "      <td>IndiGo</td>\n",
       "      <td>Banglore</td>\n",
       "      <td>BLR → DEL</td>\n",
       "      <td>Delhi</td>\n",
       "      <td>2022-04-29 22:20:00</td>\n",
       "      <td>2022-03-22 01:10:00</td>\n",
       "      <td>2h 50m</td>\n",
       "      <td>non-stop</td>\n",
       "      <td>No info</td>\n",
       "      <td>3897</td>\n",
       "      <td>24</td>\n",
       "      <td>3</td>\n",
       "    </tr>\n",
       "  </tbody>\n",
       "</table>\n",
       "</div>"
      ],
      "text/plain": [
       "  Airline    Source      Route Destination            Dep_Time  \\\n",
       "0  IndiGo  Banglore  BLR → DEL       Delhi 2022-04-29 22:20:00   \n",
       "\n",
       "         Arrival_Time Duration Total_Stops Additional_Info  Price  \\\n",
       "0 2022-03-22 01:10:00   2h 50m    non-stop         No info   3897   \n",
       "\n",
       "   Day_of_Journey  Month_of_Journey  \n",
       "0              24                 3  "
      ]
     },
     "execution_count": 63,
     "metadata": {},
     "output_type": "execute_result"
    }
   ],
   "source": [
    "df.iloc[np.where(df['Price'].min())]"
   ]
  },
  {
   "cell_type": "code",
   "execution_count": 64,
   "id": "9da84c3e",
   "metadata": {},
   "outputs": [],
   "source": [
    "df.replace({'No info':'No Info'},inplace=True)"
   ]
  },
  {
   "cell_type": "code",
   "execution_count": 65,
   "id": "84905ff4",
   "metadata": {},
   "outputs": [
    {
     "data": {
      "text/plain": [
       "array(['IndiGo', 'Air India', 'Jet Airways', 'SpiceJet',\n",
       "       'Multiple carriers', 'GoAir', 'Vistara', 'Air Asia',\n",
       "       'Vistara Premium economy', 'Jet Airways Business',\n",
       "       'Multiple carriers Premium economy', 'Trujet'], dtype=object)"
      ]
     },
     "execution_count": 65,
     "metadata": {},
     "output_type": "execute_result"
    }
   ],
   "source": [
    "df['Airline'].unique()"
   ]
  },
  {
   "cell_type": "markdown",
   "id": "7f3ca4cd",
   "metadata": {},
   "source": [
    "# Indigo Flights"
   ]
  },
  {
   "cell_type": "code",
   "execution_count": 66,
   "id": "afe14884",
   "metadata": {},
   "outputs": [],
   "source": [
    "a = df.iloc[np.where(df['Airline']==\"IndiGo\")]"
   ]
  },
  {
   "cell_type": "code",
   "execution_count": 67,
   "id": "04708c88",
   "metadata": {},
   "outputs": [
    {
     "data": {
      "text/html": [
       "<div>\n",
       "<style scoped>\n",
       "    .dataframe tbody tr th:only-of-type {\n",
       "        vertical-align: middle;\n",
       "    }\n",
       "\n",
       "    .dataframe tbody tr th {\n",
       "        vertical-align: top;\n",
       "    }\n",
       "\n",
       "    .dataframe thead th {\n",
       "        text-align: right;\n",
       "    }\n",
       "</style>\n",
       "<table border=\"1\" class=\"dataframe\">\n",
       "  <thead>\n",
       "    <tr style=\"text-align: right;\">\n",
       "      <th></th>\n",
       "      <th>Airline</th>\n",
       "      <th>Source</th>\n",
       "      <th>Route</th>\n",
       "      <th>Destination</th>\n",
       "      <th>Dep_Time</th>\n",
       "      <th>Arrival_Time</th>\n",
       "      <th>Duration</th>\n",
       "      <th>Total_Stops</th>\n",
       "      <th>Additional_Info</th>\n",
       "      <th>Price</th>\n",
       "      <th>Day_of_Journey</th>\n",
       "      <th>Month_of_Journey</th>\n",
       "    </tr>\n",
       "  </thead>\n",
       "  <tbody>\n",
       "    <tr>\n",
       "      <th>0</th>\n",
       "      <td>IndiGo</td>\n",
       "      <td>Banglore</td>\n",
       "      <td>BLR → DEL</td>\n",
       "      <td>Delhi</td>\n",
       "      <td>2022-04-29 22:20:00</td>\n",
       "      <td>2022-03-22 01:10:00</td>\n",
       "      <td>2h 50m</td>\n",
       "      <td>non-stop</td>\n",
       "      <td>No Info</td>\n",
       "      <td>3897</td>\n",
       "      <td>24</td>\n",
       "      <td>3</td>\n",
       "    </tr>\n",
       "    <tr>\n",
       "      <th>3</th>\n",
       "      <td>IndiGo</td>\n",
       "      <td>Kolkata</td>\n",
       "      <td>CCU → NAG → BLR</td>\n",
       "      <td>Banglore</td>\n",
       "      <td>2022-04-29 18:05:00</td>\n",
       "      <td>2022-04-29 23:30:00</td>\n",
       "      <td>5h 25m</td>\n",
       "      <td>1 stop</td>\n",
       "      <td>No Info</td>\n",
       "      <td>6218</td>\n",
       "      <td>5</td>\n",
       "      <td>12</td>\n",
       "    </tr>\n",
       "    <tr>\n",
       "      <th>4</th>\n",
       "      <td>IndiGo</td>\n",
       "      <td>Banglore</td>\n",
       "      <td>BLR → NAG → DEL</td>\n",
       "      <td>Delhi</td>\n",
       "      <td>2022-04-29 16:50:00</td>\n",
       "      <td>2022-04-29 21:35:00</td>\n",
       "      <td>4h 45m</td>\n",
       "      <td>1 stop</td>\n",
       "      <td>No Info</td>\n",
       "      <td>13302</td>\n",
       "      <td>3</td>\n",
       "      <td>1</td>\n",
       "    </tr>\n",
       "    <tr>\n",
       "      <th>11</th>\n",
       "      <td>IndiGo</td>\n",
       "      <td>Kolkata</td>\n",
       "      <td>CCU → BLR</td>\n",
       "      <td>Banglore</td>\n",
       "      <td>2022-04-29 20:20:00</td>\n",
       "      <td>2022-04-29 22:55:00</td>\n",
       "      <td>2h 35m</td>\n",
       "      <td>non-stop</td>\n",
       "      <td>No Info</td>\n",
       "      <td>4174</td>\n",
       "      <td>18</td>\n",
       "      <td>4</td>\n",
       "    </tr>\n",
       "    <tr>\n",
       "      <th>14</th>\n",
       "      <td>IndiGo</td>\n",
       "      <td>Kolkata</td>\n",
       "      <td>CCU → BLR</td>\n",
       "      <td>Banglore</td>\n",
       "      <td>2022-04-29 17:15:00</td>\n",
       "      <td>2022-04-29 19:50:00</td>\n",
       "      <td>2h 35m</td>\n",
       "      <td>non-stop</td>\n",
       "      <td>No Info</td>\n",
       "      <td>4804</td>\n",
       "      <td>24</td>\n",
       "      <td>4</td>\n",
       "    </tr>\n",
       "    <tr>\n",
       "      <th>...</th>\n",
       "      <td>...</td>\n",
       "      <td>...</td>\n",
       "      <td>...</td>\n",
       "      <td>...</td>\n",
       "      <td>...</td>\n",
       "      <td>...</td>\n",
       "      <td>...</td>\n",
       "      <td>...</td>\n",
       "      <td>...</td>\n",
       "      <td>...</td>\n",
       "      <td>...</td>\n",
       "      <td>...</td>\n",
       "    </tr>\n",
       "    <tr>\n",
       "      <th>10631</th>\n",
       "      <td>IndiGo</td>\n",
       "      <td>Delhi</td>\n",
       "      <td>DEL → BLR → COK</td>\n",
       "      <td>Cochin</td>\n",
       "      <td>2022-04-29 02:00:00</td>\n",
       "      <td>2022-04-29 07:45:00</td>\n",
       "      <td>5h 45m</td>\n",
       "      <td>1 stop</td>\n",
       "      <td>No Info</td>\n",
       "      <td>6037</td>\n",
       "      <td>15</td>\n",
       "      <td>5</td>\n",
       "    </tr>\n",
       "    <tr>\n",
       "      <th>10641</th>\n",
       "      <td>IndiGo</td>\n",
       "      <td>Chennai</td>\n",
       "      <td>MAA → CCU</td>\n",
       "      <td>Kolkata</td>\n",
       "      <td>2022-04-29 07:55:00</td>\n",
       "      <td>2022-04-29 10:15:00</td>\n",
       "      <td>2h 20m</td>\n",
       "      <td>non-stop</td>\n",
       "      <td>No Info</td>\n",
       "      <td>7295</td>\n",
       "      <td>3</td>\n",
       "      <td>6</td>\n",
       "    </tr>\n",
       "    <tr>\n",
       "      <th>10649</th>\n",
       "      <td>IndiGo</td>\n",
       "      <td>Kolkata</td>\n",
       "      <td>CCU → BLR</td>\n",
       "      <td>Banglore</td>\n",
       "      <td>2022-04-29 21:25:00</td>\n",
       "      <td>2022-03-02 00:05:00</td>\n",
       "      <td>2h 40m</td>\n",
       "      <td>non-stop</td>\n",
       "      <td>No Info</td>\n",
       "      <td>4778</td>\n",
       "      <td>3</td>\n",
       "      <td>1</td>\n",
       "    </tr>\n",
       "    <tr>\n",
       "      <th>10664</th>\n",
       "      <td>IndiGo</td>\n",
       "      <td>Banglore</td>\n",
       "      <td>BLR → DEL</td>\n",
       "      <td>Delhi</td>\n",
       "      <td>2022-04-29 18:55:00</td>\n",
       "      <td>2022-04-29 21:50:00</td>\n",
       "      <td>2h 55m</td>\n",
       "      <td>non-stop</td>\n",
       "      <td>No Info</td>\n",
       "      <td>4823</td>\n",
       "      <td>4</td>\n",
       "      <td>9</td>\n",
       "    </tr>\n",
       "    <tr>\n",
       "      <th>10665</th>\n",
       "      <td>IndiGo</td>\n",
       "      <td>Kolkata</td>\n",
       "      <td>CCU → BLR</td>\n",
       "      <td>Banglore</td>\n",
       "      <td>2022-04-29 15:15:00</td>\n",
       "      <td>2022-04-29 17:45:00</td>\n",
       "      <td>2h 30m</td>\n",
       "      <td>non-stop</td>\n",
       "      <td>No Info</td>\n",
       "      <td>4804</td>\n",
       "      <td>27</td>\n",
       "      <td>4</td>\n",
       "    </tr>\n",
       "  </tbody>\n",
       "</table>\n",
       "<p>2053 rows × 12 columns</p>\n",
       "</div>"
      ],
      "text/plain": [
       "      Airline    Source            Route Destination            Dep_Time  \\\n",
       "0      IndiGo  Banglore        BLR → DEL       Delhi 2022-04-29 22:20:00   \n",
       "3      IndiGo   Kolkata  CCU → NAG → BLR    Banglore 2022-04-29 18:05:00   \n",
       "4      IndiGo  Banglore  BLR → NAG → DEL       Delhi 2022-04-29 16:50:00   \n",
       "11     IndiGo   Kolkata        CCU → BLR    Banglore 2022-04-29 20:20:00   \n",
       "14     IndiGo   Kolkata        CCU → BLR    Banglore 2022-04-29 17:15:00   \n",
       "...       ...       ...              ...         ...                 ...   \n",
       "10631  IndiGo     Delhi  DEL → BLR → COK      Cochin 2022-04-29 02:00:00   \n",
       "10641  IndiGo   Chennai        MAA → CCU     Kolkata 2022-04-29 07:55:00   \n",
       "10649  IndiGo   Kolkata        CCU → BLR    Banglore 2022-04-29 21:25:00   \n",
       "10664  IndiGo  Banglore        BLR → DEL       Delhi 2022-04-29 18:55:00   \n",
       "10665  IndiGo   Kolkata        CCU → BLR    Banglore 2022-04-29 15:15:00   \n",
       "\n",
       "             Arrival_Time Duration Total_Stops Additional_Info  Price  \\\n",
       "0     2022-03-22 01:10:00   2h 50m    non-stop         No Info   3897   \n",
       "3     2022-04-29 23:30:00   5h 25m      1 stop         No Info   6218   \n",
       "4     2022-04-29 21:35:00   4h 45m      1 stop         No Info  13302   \n",
       "11    2022-04-29 22:55:00   2h 35m    non-stop         No Info   4174   \n",
       "14    2022-04-29 19:50:00   2h 35m    non-stop         No Info   4804   \n",
       "...                   ...      ...         ...             ...    ...   \n",
       "10631 2022-04-29 07:45:00   5h 45m      1 stop         No Info   6037   \n",
       "10641 2022-04-29 10:15:00   2h 20m    non-stop         No Info   7295   \n",
       "10649 2022-03-02 00:05:00   2h 40m    non-stop         No Info   4778   \n",
       "10664 2022-04-29 21:50:00   2h 55m    non-stop         No Info   4823   \n",
       "10665 2022-04-29 17:45:00   2h 30m    non-stop         No Info   4804   \n",
       "\n",
       "       Day_of_Journey  Month_of_Journey  \n",
       "0                  24                 3  \n",
       "3                   5                12  \n",
       "4                   3                 1  \n",
       "11                 18                 4  \n",
       "14                 24                 4  \n",
       "...               ...               ...  \n",
       "10631              15                 5  \n",
       "10641               3                 6  \n",
       "10649               3                 1  \n",
       "10664               4                 9  \n",
       "10665              27                 4  \n",
       "\n",
       "[2053 rows x 12 columns]"
      ]
     },
     "execution_count": 67,
     "metadata": {},
     "output_type": "execute_result"
    }
   ],
   "source": [
    "a"
   ]
  },
  {
   "cell_type": "code",
   "execution_count": 68,
   "id": "f1114792",
   "metadata": {},
   "outputs": [
    {
     "data": {
      "text/plain": [
       "Source    Destination\n",
       "Banglore  Delhi          523\n",
       "Chennai   Kolkata        184\n",
       "Delhi     Cochin         705\n",
       "Kolkata   Banglore       445\n",
       "Mumbai    Hyderabad      196\n",
       "Name: Destination, dtype: int64"
      ]
     },
     "execution_count": 68,
     "metadata": {},
     "output_type": "execute_result"
    }
   ],
   "source": [
    "a.groupby(['Source'])['Destination'].value_counts()"
   ]
  },
  {
   "cell_type": "code",
   "execution_count": 69,
   "id": "b028dd37",
   "metadata": {},
   "outputs": [
    {
     "data": {
      "text/plain": [
       "array(['No Info'], dtype=object)"
      ]
     },
     "execution_count": 69,
     "metadata": {},
     "output_type": "execute_result"
    }
   ],
   "source": [
    "a['Additional_Info'].unique()"
   ]
  },
  {
   "cell_type": "code",
   "execution_count": 70,
   "id": "44c68e86",
   "metadata": {},
   "outputs": [
    {
     "data": {
      "text/plain": [
       "<seaborn.axisgrid.FacetGrid at 0xbe5f6d0>"
      ]
     },
     "execution_count": 70,
     "metadata": {},
     "output_type": "execute_result"
    },
    {
     "data": {
      "image/png": "[encoded data removed]",
      "text/plain": [
       "<Figure size 360x360 with 1 Axes>"
      ]
     },
     "metadata": {},
     "output_type": "display_data"
    }
   ],
   "source": [
    "sns.relplot(x = 'Additional_Info', y = 'Price', data = a)"
   ]
  },
  {
   "cell_type": "code",
   "execution_count": 71,
   "id": "d624c4fc",
   "metadata": {},
   "outputs": [
    {
     "data": {
      "text/plain": [
       "non-stop    1241\n",
       "1 stop       793\n",
       "2 stops       19\n",
       "Name: Total_Stops, dtype: int64"
      ]
     },
     "execution_count": 71,
     "metadata": {},
     "output_type": "execute_result"
    }
   ],
   "source": [
    "a['Total_Stops'].value_counts()"
   ]
  },
  {
   "cell_type": "code",
   "execution_count": 72,
   "id": "ec46091f",
   "metadata": {},
   "outputs": [
    {
     "data": {
      "text/plain": [
       "max    22153\n",
       "min     2227\n",
       "Name: Price, dtype: int64"
      ]
     },
     "execution_count": 72,
     "metadata": {},
     "output_type": "execute_result"
    }
   ],
   "source": [
    "a['Price'].agg([max,min])"
   ]
  },
  {
   "cell_type": "code",
   "execution_count": 73,
   "id": "70454f0f",
   "metadata": {},
   "outputs": [
    {
     "data": {
      "text/plain": [
       "<AxesSubplot:xlabel='Total_Stops', ylabel='Count'>"
      ]
     },
     "execution_count": 73,
     "metadata": {},
     "output_type": "execute_result"
    },
    {
     "data": {
      "image/png": "[encoded data removed]",
      "text/plain": [
       "<Figure size 432x288 with 1 Axes>"
      ]
     },
     "metadata": {},
     "output_type": "display_data"
    }
   ],
   "source": [
    "sns.histplot(a['Total_Stops'])"
   ]
  },
  {
   "cell_type": "code",
   "execution_count": 74,
   "id": "f5696b73",
   "metadata": {},
   "outputs": [
    {
     "data": {
      "text/plain": [
       "Month_of_Journey  Month_of_Journey\n",
       "1                 1                   184\n",
       "3                 3                   513\n",
       "4                 4                   153\n",
       "5                 5                   329\n",
       "6                 6                   469\n",
       "9                 9                   253\n",
       "12                12                  152\n",
       "Name: Month_of_Journey, dtype: int64"
      ]
     },
     "execution_count": 74,
     "metadata": {},
     "output_type": "execute_result"
    }
   ],
   "source": [
    "a.groupby(['Month_of_Journey'])['Month_of_Journey'] .value_counts()"
   ]
  },
  {
   "cell_type": "markdown",
   "id": "89c10302",
   "metadata": {},
   "source": [
    "# Air India Flights"
   ]
  },
  {
   "cell_type": "code",
   "execution_count": 75,
   "id": "f8226af0",
   "metadata": {},
   "outputs": [],
   "source": [
    "b = df.iloc[np.where(df['Airline']== 'Air India')]"
   ]
  },
  {
   "cell_type": "code",
   "execution_count": 76,
   "id": "26db3c41",
   "metadata": {},
   "outputs": [
    {
     "data": {
      "text/html": [
       "<div>\n",
       "<style scoped>\n",
       "    .dataframe tbody tr th:only-of-type {\n",
       "        vertical-align: middle;\n",
       "    }\n",
       "\n",
       "    .dataframe tbody tr th {\n",
       "        vertical-align: top;\n",
       "    }\n",
       "\n",
       "    .dataframe thead th {\n",
       "        text-align: right;\n",
       "    }\n",
       "</style>\n",
       "<table border=\"1\" class=\"dataframe\">\n",
       "  <thead>\n",
       "    <tr style=\"text-align: right;\">\n",
       "      <th></th>\n",
       "      <th>Airline</th>\n",
       "      <th>Source</th>\n",
       "      <th>Route</th>\n",
       "      <th>Destination</th>\n",
       "      <th>Dep_Time</th>\n",
       "      <th>Arrival_Time</th>\n",
       "      <th>Duration</th>\n",
       "      <th>Total_Stops</th>\n",
       "      <th>Additional_Info</th>\n",
       "      <th>Price</th>\n",
       "      <th>Day_of_Journey</th>\n",
       "      <th>Month_of_Journey</th>\n",
       "    </tr>\n",
       "  </thead>\n",
       "  <tbody>\n",
       "    <tr>\n",
       "      <th>1</th>\n",
       "      <td>Air India</td>\n",
       "      <td>Kolkata</td>\n",
       "      <td>CCU → IXR → BBI → BLR</td>\n",
       "      <td>Banglore</td>\n",
       "      <td>2022-04-29 05:50:00</td>\n",
       "      <td>2022-04-29 13:15:00</td>\n",
       "      <td>7h 25m</td>\n",
       "      <td>2 stops</td>\n",
       "      <td>No Info</td>\n",
       "      <td>7662</td>\n",
       "      <td>5</td>\n",
       "      <td>1</td>\n",
       "    </tr>\n",
       "    <tr>\n",
       "      <th>10</th>\n",
       "      <td>Air India</td>\n",
       "      <td>Delhi</td>\n",
       "      <td>DEL → BLR → COK</td>\n",
       "      <td>Cochin</td>\n",
       "      <td>2022-04-29 09:45:00</td>\n",
       "      <td>2022-04-29 23:00:00</td>\n",
       "      <td>13h 15m</td>\n",
       "      <td>1 stop</td>\n",
       "      <td>No Info</td>\n",
       "      <td>8907</td>\n",
       "      <td>6</td>\n",
       "      <td>1</td>\n",
       "    </tr>\n",
       "    <tr>\n",
       "      <th>12</th>\n",
       "      <td>Air India</td>\n",
       "      <td>Chennai</td>\n",
       "      <td>MAA → CCU</td>\n",
       "      <td>Kolkata</td>\n",
       "      <td>2022-04-29 11:40:00</td>\n",
       "      <td>2022-04-29 13:55:00</td>\n",
       "      <td>2h 15m</td>\n",
       "      <td>non-stop</td>\n",
       "      <td>No Info</td>\n",
       "      <td>4667</td>\n",
       "      <td>24</td>\n",
       "      <td>6</td>\n",
       "    </tr>\n",
       "    <tr>\n",
       "      <th>15</th>\n",
       "      <td>Air India</td>\n",
       "      <td>Delhi</td>\n",
       "      <td>DEL → AMD → BOM → COK</td>\n",
       "      <td>Cochin</td>\n",
       "      <td>2022-04-29 16:40:00</td>\n",
       "      <td>2022-03-04 19:15:00</td>\n",
       "      <td>26h 35m</td>\n",
       "      <td>2 stops</td>\n",
       "      <td>No Info</td>\n",
       "      <td>14011</td>\n",
       "      <td>3</td>\n",
       "      <td>3</td>\n",
       "    </tr>\n",
       "    <tr>\n",
       "      <th>18</th>\n",
       "      <td>Air India</td>\n",
       "      <td>Delhi</td>\n",
       "      <td>DEL → CCU → BOM → COK</td>\n",
       "      <td>Cochin</td>\n",
       "      <td>2022-04-29 20:15:00</td>\n",
       "      <td>2022-06-13 19:15:00</td>\n",
       "      <td>23h</td>\n",
       "      <td>2 stops</td>\n",
       "      <td>No Info</td>\n",
       "      <td>13381</td>\n",
       "      <td>6</td>\n",
       "      <td>12</td>\n",
       "    </tr>\n",
       "    <tr>\n",
       "      <th>...</th>\n",
       "      <td>...</td>\n",
       "      <td>...</td>\n",
       "      <td>...</td>\n",
       "      <td>...</td>\n",
       "      <td>...</td>\n",
       "      <td>...</td>\n",
       "      <td>...</td>\n",
       "      <td>...</td>\n",
       "      <td>...</td>\n",
       "      <td>...</td>\n",
       "      <td>...</td>\n",
       "      <td>...</td>\n",
       "    </tr>\n",
       "    <tr>\n",
       "      <th>10670</th>\n",
       "      <td>Air India</td>\n",
       "      <td>Kolkata</td>\n",
       "      <td>CCU → IXR → DEL → BLR</td>\n",
       "      <td>Banglore</td>\n",
       "      <td>2022-04-29 05:50:00</td>\n",
       "      <td>2022-04-29 23:15:00</td>\n",
       "      <td>17h 25m</td>\n",
       "      <td>2 stops</td>\n",
       "      <td>No Info</td>\n",
       "      <td>11411</td>\n",
       "      <td>5</td>\n",
       "      <td>12</td>\n",
       "    </tr>\n",
       "    <tr>\n",
       "      <th>10671</th>\n",
       "      <td>Air India</td>\n",
       "      <td>Mumbai</td>\n",
       "      <td>BOM → HYD</td>\n",
       "      <td>Hyderabad</td>\n",
       "      <td>2022-04-29 21:05:00</td>\n",
       "      <td>2022-04-29 22:25:00</td>\n",
       "      <td>1h 20m</td>\n",
       "      <td>non-stop</td>\n",
       "      <td>No Info</td>\n",
       "      <td>3100</td>\n",
       "      <td>6</td>\n",
       "      <td>6</td>\n",
       "    </tr>\n",
       "    <tr>\n",
       "      <th>10675</th>\n",
       "      <td>Air India</td>\n",
       "      <td>Mumbai</td>\n",
       "      <td>BOM → HYD</td>\n",
       "      <td>Hyderabad</td>\n",
       "      <td>2022-04-29 06:20:00</td>\n",
       "      <td>2022-04-29 07:40:00</td>\n",
       "      <td>1h 20m</td>\n",
       "      <td>non-stop</td>\n",
       "      <td>No Info</td>\n",
       "      <td>3100</td>\n",
       "      <td>6</td>\n",
       "      <td>9</td>\n",
       "    </tr>\n",
       "    <tr>\n",
       "      <th>10679</th>\n",
       "      <td>Air India</td>\n",
       "      <td>Kolkata</td>\n",
       "      <td>CCU → BLR</td>\n",
       "      <td>Banglore</td>\n",
       "      <td>2022-04-29 20:45:00</td>\n",
       "      <td>2022-04-29 23:20:00</td>\n",
       "      <td>2h 35m</td>\n",
       "      <td>non-stop</td>\n",
       "      <td>No Info</td>\n",
       "      <td>4145</td>\n",
       "      <td>27</td>\n",
       "      <td>4</td>\n",
       "    </tr>\n",
       "    <tr>\n",
       "      <th>10682</th>\n",
       "      <td>Air India</td>\n",
       "      <td>Delhi</td>\n",
       "      <td>DEL → GOI → BOM → COK</td>\n",
       "      <td>Cochin</td>\n",
       "      <td>2022-04-29 10:55:00</td>\n",
       "      <td>2022-04-29 19:15:00</td>\n",
       "      <td>8h 20m</td>\n",
       "      <td>2 stops</td>\n",
       "      <td>No Info</td>\n",
       "      <td>11753</td>\n",
       "      <td>5</td>\n",
       "      <td>9</td>\n",
       "    </tr>\n",
       "  </tbody>\n",
       "</table>\n",
       "<p>1752 rows × 12 columns</p>\n",
       "</div>"
      ],
      "text/plain": [
       "         Airline   Source                  Route Destination  \\\n",
       "1      Air India  Kolkata  CCU → IXR → BBI → BLR    Banglore   \n",
       "10     Air India    Delhi        DEL → BLR → COK      Cochin   \n",
       "12     Air India  Chennai              MAA → CCU     Kolkata   \n",
       "15     Air India    Delhi  DEL → AMD → BOM → COK      Cochin   \n",
       "18     Air India    Delhi  DEL → CCU → BOM → COK      Cochin   \n",
       "...          ...      ...                    ...         ...   \n",
       "10670  Air India  Kolkata  CCU → IXR → DEL → BLR    Banglore   \n",
       "10671  Air India   Mumbai              BOM → HYD   Hyderabad   \n",
       "10675  Air India   Mumbai              BOM → HYD   Hyderabad   \n",
       "10679  Air India  Kolkata              CCU → BLR    Banglore   \n",
       "10682  Air India    Delhi  DEL → GOI → BOM → COK      Cochin   \n",
       "\n",
       "                 Dep_Time        Arrival_Time Duration Total_Stops  \\\n",
       "1     2022-04-29 05:50:00 2022-04-29 13:15:00   7h 25m     2 stops   \n",
       "10    2022-04-29 09:45:00 2022-04-29 23:00:00  13h 15m      1 stop   \n",
       "12    2022-04-29 11:40:00 2022-04-29 13:55:00   2h 15m    non-stop   \n",
       "15    2022-04-29 16:40:00 2022-03-04 19:15:00  26h 35m     2 stops   \n",
       "18    2022-04-29 20:15:00 2022-06-13 19:15:00      23h     2 stops   \n",
       "...                   ...                 ...      ...         ...   \n",
       "10670 2022-04-29 05:50:00 2022-04-29 23:15:00  17h 25m     2 stops   \n",
       "10671 2022-04-29 21:05:00 2022-04-29 22:25:00   1h 20m    non-stop   \n",
       "10675 2022-04-29 06:20:00 2022-04-29 07:40:00   1h 20m    non-stop   \n",
       "10679 2022-04-29 20:45:00 2022-04-29 23:20:00   2h 35m    non-stop   \n",
       "10682 2022-04-29 10:55:00 2022-04-29 19:15:00   8h 20m     2 stops   \n",
       "\n",
       "      Additional_Info  Price  Day_of_Journey  Month_of_Journey  \n",
       "1             No Info   7662               5                 1  \n",
       "10            No Info   8907               6                 1  \n",
       "12            No Info   4667              24                 6  \n",
       "15            No Info  14011               3                 3  \n",
       "18            No Info  13381               6                12  \n",
       "...               ...    ...             ...               ...  \n",
       "10670         No Info  11411               5                12  \n",
       "10671         No Info   3100               6                 6  \n",
       "10675         No Info   3100               6                 9  \n",
       "10679         No Info   4145              27                 4  \n",
       "10682         No Info  11753               5                 9  \n",
       "\n",
       "[1752 rows x 12 columns]"
      ]
     },
     "execution_count": 76,
     "metadata": {},
     "output_type": "execute_result"
    }
   ],
   "source": [
    "b"
   ]
  },
  {
   "cell_type": "code",
   "execution_count": 77,
   "id": "d95c06a9",
   "metadata": {},
   "outputs": [
    {
     "data": {
      "text/plain": [
       "Source    Destination\n",
       "Banglore  Delhi          332\n",
       "Chennai   Kolkata         25\n",
       "Delhi     Cochin         747\n",
       "Kolkata   Banglore       512\n",
       "Mumbai    Hyderabad      136\n",
       "Name: Destination, dtype: int64"
      ]
     },
     "execution_count": 77,
     "metadata": {},
     "output_type": "execute_result"
    }
   ],
   "source": [
    "b.groupby(['Source'])['Destination'].value_counts()"
   ]
  },
  {
   "cell_type": "code",
   "execution_count": 78,
   "id": "55666917",
   "metadata": {},
   "outputs": [
    {
     "data": {
      "text/plain": [
       "2 stops     756\n",
       "1 stop      541\n",
       "non-stop    417\n",
       "3 stops      37\n",
       "4 stops       1\n",
       "Name: Total_Stops, dtype: int64"
      ]
     },
     "execution_count": 78,
     "metadata": {},
     "output_type": "execute_result"
    }
   ],
   "source": [
    "b['Total_Stops'].value_counts()"
   ]
  },
  {
   "cell_type": "code",
   "execution_count": 79,
   "id": "b07bb920",
   "metadata": {},
   "outputs": [
    {
     "data": {
      "text/plain": [
       "<AxesSubplot:xlabel='Total_Stops', ylabel='Count'>"
      ]
     },
     "execution_count": 79,
     "metadata": {},
     "output_type": "execute_result"
    },
    {
     "data": {
      "image/png": "[encoded data removed]",
      "text/plain": [
       "<Figure size 432x288 with 1 Axes>"
      ]
     },
     "metadata": {},
     "output_type": "display_data"
    }
   ],
   "source": [
    "sns.histplot(b['Total_Stops'])"
   ]
  },
  {
   "cell_type": "code",
   "execution_count": 80,
   "id": "85d2fbf2",
   "metadata": {},
   "outputs": [
    {
     "data": {
      "text/plain": [
       "array(['No Info', '1 Short layover', '1 Long layover', 'Change airports',\n",
       "       '2 Long layover'], dtype=object)"
      ]
     },
     "execution_count": 80,
     "metadata": {},
     "output_type": "execute_result"
    }
   ],
   "source": [
    "b['Additional_Info'].unique()"
   ]
  },
  {
   "cell_type": "code",
   "execution_count": 81,
   "id": "89a92e46",
   "metadata": {},
   "outputs": [
    {
     "data": {
      "text/plain": [
       "No Info            1737\n",
       "Change airports       7\n",
       "1 Long layover        6\n",
       "1 Short layover       1\n",
       "2 Long layover        1\n",
       "Name: Additional_Info, dtype: int64"
      ]
     },
     "execution_count": 81,
     "metadata": {},
     "output_type": "execute_result"
    }
   ],
   "source": [
    "b['Additional_Info'].value_counts()"
   ]
  },
  {
   "cell_type": "code",
   "execution_count": 82,
   "id": "80dfc40c",
   "metadata": {},
   "outputs": [
    {
     "data": {
      "text/plain": [
       "max    31945\n",
       "min     2050\n",
       "Name: Price, dtype: int64"
      ]
     },
     "execution_count": 82,
     "metadata": {},
     "output_type": "execute_result"
    }
   ],
   "source": [
    "b['Price'].agg([max,min])"
   ]
  },
  {
   "cell_type": "code",
   "execution_count": 83,
   "id": "fbb2a850",
   "metadata": {},
   "outputs": [
    {
     "data": {
      "image/png": "[encoded data removed]",
      "text/plain": [
       "<Figure size 360x360 with 1 Axes>"
      ]
     },
     "metadata": {},
     "output_type": "display_data"
    }
   ],
   "source": [
    "sns.relplot(x = 'Additional_Info', y = 'Price', data = b)\n",
    "plt.xticks(rotation='vertical', size=12);"
   ]
  },
  {
   "cell_type": "code",
   "execution_count": 84,
   "id": "5901ccd9",
   "metadata": {},
   "outputs": [
    {
     "data": {
      "text/plain": [
       "2h 45m     92\n",
       "2h 50m     91\n",
       "1h 20m     43\n",
       "21h 15m    38\n",
       "2h 30m     32\n",
       "           ..\n",
       "5m          1\n",
       "29h 30m     1\n",
       "32h 20m     1\n",
       "10h 35m     1\n",
       "11h 55m     1\n",
       "Name: Duration, Length: 225, dtype: int64"
      ]
     },
     "execution_count": 84,
     "metadata": {},
     "output_type": "execute_result"
    }
   ],
   "source": [
    "b['Duration'].value_counts()"
   ]
  },
  {
   "cell_type": "code",
   "execution_count": 85,
   "id": "a7e0c5a3",
   "metadata": {},
   "outputs": [
    {
     "data": {
      "text/plain": [
       "max    9h 5m\n",
       "min      10h\n",
       "Name: Duration, dtype: object"
      ]
     },
     "execution_count": 85,
     "metadata": {},
     "output_type": "execute_result"
    }
   ],
   "source": [
    "b['Duration'].agg([max,min])"
   ]
  },
  {
   "cell_type": "code",
   "execution_count": 86,
   "id": "3ba74f6e",
   "metadata": {},
   "outputs": [
    {
     "data": {
      "text/plain": [
       "Month_of_Journey  Month_of_Journey\n",
       "1                 1                   197\n",
       "3                 3                   369\n",
       "4                 4                    45\n",
       "5                 5                   352\n",
       "6                 6                   386\n",
       "9                 9                   234\n",
       "12                12                  169\n",
       "Name: Month_of_Journey, dtype: int64"
      ]
     },
     "execution_count": 86,
     "metadata": {},
     "output_type": "execute_result"
    }
   ],
   "source": [
    "b.groupby(['Month_of_Journey'])['Month_of_Journey'].value_counts()"
   ]
  },
  {
   "cell_type": "markdown",
   "id": "9f43326c",
   "metadata": {},
   "source": [
    "# Jet Airways Flights"
   ]
  },
  {
   "cell_type": "code",
   "execution_count": 87,
   "id": "f8323d0a",
   "metadata": {},
   "outputs": [],
   "source": [
    "c = df.iloc[np.where(df['Airline']=='Jet Airways')]"
   ]
  },
  {
   "cell_type": "code",
   "execution_count": 88,
   "id": "841e5dd9",
   "metadata": {},
   "outputs": [
    {
     "data": {
      "text/html": [
       "<div>\n",
       "<style scoped>\n",
       "    .dataframe tbody tr th:only-of-type {\n",
       "        vertical-align: middle;\n",
       "    }\n",
       "\n",
       "    .dataframe tbody tr th {\n",
       "        vertical-align: top;\n",
       "    }\n",
       "\n",
       "    .dataframe thead th {\n",
       "        text-align: right;\n",
       "    }\n",
       "</style>\n",
       "<table border=\"1\" class=\"dataframe\">\n",
       "  <thead>\n",
       "    <tr style=\"text-align: right;\">\n",
       "      <th></th>\n",
       "      <th>Airline</th>\n",
       "      <th>Source</th>\n",
       "      <th>Route</th>\n",
       "      <th>Destination</th>\n",
       "      <th>Dep_Time</th>\n",
       "      <th>Arrival_Time</th>\n",
       "      <th>Duration</th>\n",
       "      <th>Total_Stops</th>\n",
       "      <th>Additional_Info</th>\n",
       "      <th>Price</th>\n",
       "      <th>Day_of_Journey</th>\n",
       "      <th>Month_of_Journey</th>\n",
       "    </tr>\n",
       "  </thead>\n",
       "  <tbody>\n",
       "    <tr>\n",
       "      <th>2</th>\n",
       "      <td>Jet Airways</td>\n",
       "      <td>Delhi</td>\n",
       "      <td>DEL → LKO → BOM → COK</td>\n",
       "      <td>Cochin</td>\n",
       "      <td>2022-04-29 09:25:00</td>\n",
       "      <td>2022-06-10 04:25:00</td>\n",
       "      <td>19h</td>\n",
       "      <td>2 stops</td>\n",
       "      <td>No Info</td>\n",
       "      <td>13882</td>\n",
       "      <td>6</td>\n",
       "      <td>9</td>\n",
       "    </tr>\n",
       "    <tr>\n",
       "      <th>6</th>\n",
       "      <td>Jet Airways</td>\n",
       "      <td>Banglore</td>\n",
       "      <td>BLR → BOM → DEL</td>\n",
       "      <td>Delhi</td>\n",
       "      <td>2022-04-29 18:55:00</td>\n",
       "      <td>2022-03-13 10:25:00</td>\n",
       "      <td>15h 30m</td>\n",
       "      <td>1 stop</td>\n",
       "      <td>In-flight meal not included</td>\n",
       "      <td>11087</td>\n",
       "      <td>3</td>\n",
       "      <td>12</td>\n",
       "    </tr>\n",
       "    <tr>\n",
       "      <th>7</th>\n",
       "      <td>Jet Airways</td>\n",
       "      <td>Banglore</td>\n",
       "      <td>BLR → BOM → DEL</td>\n",
       "      <td>Delhi</td>\n",
       "      <td>2022-04-29 08:00:00</td>\n",
       "      <td>2022-03-02 05:05:00</td>\n",
       "      <td>21h 5m</td>\n",
       "      <td>1 stop</td>\n",
       "      <td>No Info</td>\n",
       "      <td>22270</td>\n",
       "      <td>3</td>\n",
       "      <td>1</td>\n",
       "    </tr>\n",
       "    <tr>\n",
       "      <th>8</th>\n",
       "      <td>Jet Airways</td>\n",
       "      <td>Banglore</td>\n",
       "      <td>BLR → BOM → DEL</td>\n",
       "      <td>Delhi</td>\n",
       "      <td>2022-04-29 08:55:00</td>\n",
       "      <td>2022-03-13 10:25:00</td>\n",
       "      <td>25h 30m</td>\n",
       "      <td>1 stop</td>\n",
       "      <td>In-flight meal not included</td>\n",
       "      <td>11087</td>\n",
       "      <td>3</td>\n",
       "      <td>12</td>\n",
       "    </tr>\n",
       "    <tr>\n",
       "      <th>13</th>\n",
       "      <td>Jet Airways</td>\n",
       "      <td>Kolkata</td>\n",
       "      <td>CCU → BOM → BLR</td>\n",
       "      <td>Banglore</td>\n",
       "      <td>2022-04-29 21:10:00</td>\n",
       "      <td>2022-05-10 09:20:00</td>\n",
       "      <td>12h 10m</td>\n",
       "      <td>1 stop</td>\n",
       "      <td>In-flight meal not included</td>\n",
       "      <td>9663</td>\n",
       "      <td>5</td>\n",
       "      <td>9</td>\n",
       "    </tr>\n",
       "    <tr>\n",
       "      <th>...</th>\n",
       "      <td>...</td>\n",
       "      <td>...</td>\n",
       "      <td>...</td>\n",
       "      <td>...</td>\n",
       "      <td>...</td>\n",
       "      <td>...</td>\n",
       "      <td>...</td>\n",
       "      <td>...</td>\n",
       "      <td>...</td>\n",
       "      <td>...</td>\n",
       "      <td>...</td>\n",
       "      <td>...</td>\n",
       "    </tr>\n",
       "    <tr>\n",
       "      <th>10668</th>\n",
       "      <td>Jet Airways</td>\n",
       "      <td>Delhi</td>\n",
       "      <td>DEL → JDH → BOM → COK</td>\n",
       "      <td>Cochin</td>\n",
       "      <td>2022-04-29 11:40:00</td>\n",
       "      <td>2022-04-29 19:00:00</td>\n",
       "      <td>7h 20m</td>\n",
       "      <td>2 stops</td>\n",
       "      <td>No Info</td>\n",
       "      <td>21219</td>\n",
       "      <td>5</td>\n",
       "      <td>9</td>\n",
       "    </tr>\n",
       "    <tr>\n",
       "      <th>10672</th>\n",
       "      <td>Jet Airways</td>\n",
       "      <td>Delhi</td>\n",
       "      <td>DEL → AMD → BOM → COK</td>\n",
       "      <td>Cochin</td>\n",
       "      <td>2022-04-29 23:05:00</td>\n",
       "      <td>2022-06-28 19:00:00</td>\n",
       "      <td>19h 55m</td>\n",
       "      <td>2 stops</td>\n",
       "      <td>In-flight meal not included</td>\n",
       "      <td>11150</td>\n",
       "      <td>27</td>\n",
       "      <td>6</td>\n",
       "    </tr>\n",
       "    <tr>\n",
       "      <th>10673</th>\n",
       "      <td>Jet Airways</td>\n",
       "      <td>Delhi</td>\n",
       "      <td>DEL → AMD → BOM → COK</td>\n",
       "      <td>Cochin</td>\n",
       "      <td>2022-04-29 13:25:00</td>\n",
       "      <td>2022-05-28 04:25:00</td>\n",
       "      <td>15h</td>\n",
       "      <td>2 stops</td>\n",
       "      <td>No Info</td>\n",
       "      <td>16704</td>\n",
       "      <td>27</td>\n",
       "      <td>5</td>\n",
       "    </tr>\n",
       "    <tr>\n",
       "      <th>10674</th>\n",
       "      <td>Jet Airways</td>\n",
       "      <td>Banglore</td>\n",
       "      <td>BLR → BOM → DEL</td>\n",
       "      <td>Delhi</td>\n",
       "      <td>2022-04-29 20:35:00</td>\n",
       "      <td>2022-03-13 21:20:00</td>\n",
       "      <td>24h 45m</td>\n",
       "      <td>1 stop</td>\n",
       "      <td>In-flight meal not included</td>\n",
       "      <td>11087</td>\n",
       "      <td>3</td>\n",
       "      <td>12</td>\n",
       "    </tr>\n",
       "    <tr>\n",
       "      <th>10680</th>\n",
       "      <td>Jet Airways</td>\n",
       "      <td>Banglore</td>\n",
       "      <td>BLR → DEL</td>\n",
       "      <td>Delhi</td>\n",
       "      <td>2022-04-29 08:20:00</td>\n",
       "      <td>2022-04-29 11:20:00</td>\n",
       "      <td>3h</td>\n",
       "      <td>non-stop</td>\n",
       "      <td>No Info</td>\n",
       "      <td>7229</td>\n",
       "      <td>27</td>\n",
       "      <td>4</td>\n",
       "    </tr>\n",
       "  </tbody>\n",
       "</table>\n",
       "<p>3849 rows × 12 columns</p>\n",
       "</div>"
      ],
      "text/plain": [
       "           Airline    Source                  Route Destination  \\\n",
       "2      Jet Airways     Delhi  DEL → LKO → BOM → COK      Cochin   \n",
       "6      Jet Airways  Banglore        BLR → BOM → DEL       Delhi   \n",
       "7      Jet Airways  Banglore        BLR → BOM → DEL       Delhi   \n",
       "8      Jet Airways  Banglore        BLR → BOM → DEL       Delhi   \n",
       "13     Jet Airways   Kolkata        CCU → BOM → BLR    Banglore   \n",
       "...            ...       ...                    ...         ...   \n",
       "10668  Jet Airways     Delhi  DEL → JDH → BOM → COK      Cochin   \n",
       "10672  Jet Airways     Delhi  DEL → AMD → BOM → COK      Cochin   \n",
       "10673  Jet Airways     Delhi  DEL → AMD → BOM → COK      Cochin   \n",
       "10674  Jet Airways  Banglore        BLR → BOM → DEL       Delhi   \n",
       "10680  Jet Airways  Banglore              BLR → DEL       Delhi   \n",
       "\n",
       "                 Dep_Time        Arrival_Time Duration Total_Stops  \\\n",
       "2     2022-04-29 09:25:00 2022-06-10 04:25:00      19h     2 stops   \n",
       "6     2022-04-29 18:55:00 2022-03-13 10:25:00  15h 30m      1 stop   \n",
       "7     2022-04-29 08:00:00 2022-03-02 05:05:00   21h 5m      1 stop   \n",
       "8     2022-04-29 08:55:00 2022-03-13 10:25:00  25h 30m      1 stop   \n",
       "13    2022-04-29 21:10:00 2022-05-10 09:20:00  12h 10m      1 stop   \n",
       "...                   ...                 ...      ...         ...   \n",
       "10668 2022-04-29 11:40:00 2022-04-29 19:00:00   7h 20m     2 stops   \n",
       "10672 2022-04-29 23:05:00 2022-06-28 19:00:00  19h 55m     2 stops   \n",
       "10673 2022-04-29 13:25:00 2022-05-28 04:25:00      15h     2 stops   \n",
       "10674 2022-04-29 20:35:00 2022-03-13 21:20:00  24h 45m      1 stop   \n",
       "10680 2022-04-29 08:20:00 2022-04-29 11:20:00       3h    non-stop   \n",
       "\n",
       "                   Additional_Info  Price  Day_of_Journey  Month_of_Journey  \n",
       "2                          No Info  13882               6                 9  \n",
       "6      In-flight meal not included  11087               3                12  \n",
       "7                          No Info  22270               3                 1  \n",
       "8      In-flight meal not included  11087               3                12  \n",
       "13     In-flight meal not included   9663               5                 9  \n",
       "...                            ...    ...             ...               ...  \n",
       "10668                      No Info  21219               5                 9  \n",
       "10672  In-flight meal not included  11150              27                 6  \n",
       "10673                      No Info  16704              27                 5  \n",
       "10674  In-flight meal not included  11087               3                12  \n",
       "10680                      No Info   7229              27                 4  \n",
       "\n",
       "[3849 rows x 12 columns]"
      ]
     },
     "execution_count": 88,
     "metadata": {},
     "output_type": "execute_result"
    }
   ],
   "source": [
    "c"
   ]
  },
  {
   "cell_type": "code",
   "execution_count": 89,
   "id": "0e21ac97",
   "metadata": {},
   "outputs": [
    {
     "data": {
      "text/plain": [
       "Source    Destination\n",
       "Banglore  Delhi           788\n",
       "Delhi     Cochin         1586\n",
       "Kolkata   Banglore       1256\n",
       "Mumbai    Hyderabad       219\n",
       "Name: Destination, dtype: int64"
      ]
     },
     "execution_count": 89,
     "metadata": {},
     "output_type": "execute_result"
    }
   ],
   "source": [
    "c.groupby(['Source'])['Destination'].value_counts()"
   ]
  },
  {
   "cell_type": "code",
   "execution_count": 90,
   "id": "4c82b8d2",
   "metadata": {},
   "outputs": [
    {
     "data": {
      "text/plain": [
       "1 stop      2535\n",
       "2 stops      691\n",
       "non-stop     623\n",
       "Name: Total_Stops, dtype: int64"
      ]
     },
     "execution_count": 90,
     "metadata": {},
     "output_type": "execute_result"
    }
   ],
   "source": [
    "c['Total_Stops'].value_counts()"
   ]
  },
  {
   "cell_type": "code",
   "execution_count": 91,
   "id": "b3a78ad0",
   "metadata": {},
   "outputs": [
    {
     "data": {
      "text/plain": [
       "<AxesSubplot:xlabel='Total_Stops', ylabel='Count'>"
      ]
     },
     "execution_count": 91,
     "metadata": {},
     "output_type": "execute_result"
    },
    {
     "data": {
      "image/png": "[encoded data removed]",
      "text/plain": [
       "<Figure size 432x288 with 1 Axes>"
      ]
     },
     "metadata": {},
     "output_type": "display_data"
    }
   ],
   "source": [
    "sns.histplot(df['Total_Stops'])"
   ]
  },
  {
   "cell_type": "code",
   "execution_count": 92,
   "id": "836ec664",
   "metadata": {},
   "outputs": [
    {
     "data": {
      "text/plain": [
       "array(['No Info', 'In-flight meal not included', '1 Long layover',\n",
       "       'Business class'], dtype=object)"
      ]
     },
     "execution_count": 92,
     "metadata": {},
     "output_type": "execute_result"
    }
   ],
   "source": [
    "c['Additional_Info'].unique()"
   ]
  },
  {
   "cell_type": "code",
   "execution_count": 93,
   "id": "0978b8e0",
   "metadata": {},
   "outputs": [
    {
     "data": {
      "text/plain": [
       "No Info                        1950\n",
       "In-flight meal not included    1886\n",
       "1 Long layover                   12\n",
       "Business class                    1\n",
       "Name: Additional_Info, dtype: int64"
      ]
     },
     "execution_count": 93,
     "metadata": {},
     "output_type": "execute_result"
    }
   ],
   "source": [
    "c['Additional_Info'].value_counts()"
   ]
  },
  {
   "cell_type": "code",
   "execution_count": 94,
   "id": "b8dc0f99",
   "metadata": {},
   "outputs": [
    {
     "data": {
      "text/plain": [
       "max    54826\n",
       "min     1840\n",
       "Name: Price, dtype: int64"
      ]
     },
     "execution_count": 94,
     "metadata": {},
     "output_type": "execute_result"
    }
   ],
   "source": [
    "c['Price'].agg([max,min])"
   ]
  },
  {
   "cell_type": "code",
   "execution_count": 95,
   "id": "587e45db",
   "metadata": {},
   "outputs": [
    {
     "data": {
      "image/png": "[encoded data removed]",
      "text/plain": [
       "<Figure size 360x360 with 1 Axes>"
      ]
     },
     "metadata": {},
     "output_type": "display_data"
    }
   ],
   "source": [
    "sns.relplot(x = 'Additional_Info', y = 'Price', data = c)\n",
    "plt.xticks(rotation = 'vertical',size=12);"
   ]
  },
  {
   "cell_type": "code",
   "execution_count": 96,
   "id": "a655c79d",
   "metadata": {},
   "outputs": [
    {
     "data": {
      "text/plain": [
       "Month_of_Journey  Month_of_Journey\n",
       "1                 1                   430\n",
       "3                 3                   674\n",
       "4                 4                    63\n",
       "5                 5                   783\n",
       "6                 6                   931\n",
       "9                 9                   544\n",
       "12                12                  424\n",
       "Name: Month_of_Journey, dtype: int64"
      ]
     },
     "execution_count": 96,
     "metadata": {},
     "output_type": "execute_result"
    }
   ],
   "source": [
    "c.groupby(['Month_of_Journey'])['Month_of_Journey'].value_counts()"
   ]
  },
  {
   "cell_type": "markdown",
   "id": "81a6b0d4",
   "metadata": {},
   "source": [
    "# SpiceJet Flight"
   ]
  },
  {
   "cell_type": "code",
   "execution_count": 97,
   "id": "57c26eeb",
   "metadata": {},
   "outputs": [],
   "source": [
    "d = df.iloc[np.where(df['Airline']=='SpiceJet')]"
   ]
  },
  {
   "cell_type": "code",
   "execution_count": 98,
   "id": "b3d97ac3",
   "metadata": {},
   "outputs": [
    {
     "data": {
      "text/html": [
       "<div>\n",
       "<style scoped>\n",
       "    .dataframe tbody tr th:only-of-type {\n",
       "        vertical-align: middle;\n",
       "    }\n",
       "\n",
       "    .dataframe tbody tr th {\n",
       "        vertical-align: top;\n",
       "    }\n",
       "\n",
       "    .dataframe thead th {\n",
       "        text-align: right;\n",
       "    }\n",
       "</style>\n",
       "<table border=\"1\" class=\"dataframe\">\n",
       "  <thead>\n",
       "    <tr style=\"text-align: right;\">\n",
       "      <th></th>\n",
       "      <th>Airline</th>\n",
       "      <th>Source</th>\n",
       "      <th>Route</th>\n",
       "      <th>Destination</th>\n",
       "      <th>Dep_Time</th>\n",
       "      <th>Arrival_Time</th>\n",
       "      <th>Duration</th>\n",
       "      <th>Total_Stops</th>\n",
       "      <th>Additional_Info</th>\n",
       "      <th>Price</th>\n",
       "      <th>Day_of_Journey</th>\n",
       "      <th>Month_of_Journey</th>\n",
       "    </tr>\n",
       "  </thead>\n",
       "  <tbody>\n",
       "    <tr>\n",
       "      <th>5</th>\n",
       "      <td>SpiceJet</td>\n",
       "      <td>Kolkata</td>\n",
       "      <td>CCU → BLR</td>\n",
       "      <td>Banglore</td>\n",
       "      <td>2022-04-29 09:00:00</td>\n",
       "      <td>2022-04-29 11:25:00</td>\n",
       "      <td>2h 25m</td>\n",
       "      <td>non-stop</td>\n",
       "      <td>No Info</td>\n",
       "      <td>3873</td>\n",
       "      <td>24</td>\n",
       "      <td>6</td>\n",
       "    </tr>\n",
       "    <tr>\n",
       "      <th>16</th>\n",
       "      <td>SpiceJet</td>\n",
       "      <td>Delhi</td>\n",
       "      <td>DEL → PNQ → COK</td>\n",
       "      <td>Cochin</td>\n",
       "      <td>2022-04-29 08:45:00</td>\n",
       "      <td>2022-04-29 13:15:00</td>\n",
       "      <td>4h 30m</td>\n",
       "      <td>1 stop</td>\n",
       "      <td>No Info</td>\n",
       "      <td>5830</td>\n",
       "      <td>15</td>\n",
       "      <td>4</td>\n",
       "    </tr>\n",
       "  </tbody>\n",
       "</table>\n",
       "</div>"
      ],
      "text/plain": [
       "     Airline   Source            Route Destination            Dep_Time  \\\n",
       "5   SpiceJet  Kolkata        CCU → BLR    Banglore 2022-04-29 09:00:00   \n",
       "16  SpiceJet    Delhi  DEL → PNQ → COK      Cochin 2022-04-29 08:45:00   \n",
       "\n",
       "          Arrival_Time Duration Total_Stops Additional_Info  Price  \\\n",
       "5  2022-04-29 11:25:00   2h 25m    non-stop         No Info   3873   \n",
       "16 2022-04-29 13:15:00   4h 30m      1 stop         No Info   5830   \n",
       "\n",
       "    Day_of_Journey  Month_of_Journey  \n",
       "5               24                 6  \n",
       "16              15                 4  "
      ]
     },
     "execution_count": 98,
     "metadata": {},
     "output_type": "execute_result"
    }
   ],
   "source": [
    "d.head(2)"
   ]
  },
  {
   "cell_type": "code",
   "execution_count": 99,
   "id": "c1211bba",
   "metadata": {},
   "outputs": [
    {
     "data": {
      "text/plain": [
       "Source    Destination\n",
       "Banglore  Delhi          181\n",
       "Chennai   Kolkata        128\n",
       "Delhi     Cochin          87\n",
       "Kolkata   Banglore       300\n",
       "Mumbai    Hyderabad      122\n",
       "Name: Destination, dtype: int64"
      ]
     },
     "execution_count": 99,
     "metadata": {},
     "output_type": "execute_result"
    }
   ],
   "source": [
    "d.groupby(['Source'])['Destination'].value_counts()"
   ]
  },
  {
   "cell_type": "code",
   "execution_count": 100,
   "id": "f5e02ea7",
   "metadata": {},
   "outputs": [
    {
     "data": {
      "text/plain": [
       "non-stop    670\n",
       "1 stop      148\n",
       "Name: Total_Stops, dtype: int64"
      ]
     },
     "execution_count": 100,
     "metadata": {},
     "output_type": "execute_result"
    }
   ],
   "source": [
    "d['Total_Stops'].value_counts()"
   ]
  },
  {
   "cell_type": "code",
   "execution_count": 101,
   "id": "4db5c9d8",
   "metadata": {},
   "outputs": [
    {
     "data": {
      "text/plain": [
       "<AxesSubplot:xlabel='Total_Stops', ylabel='Count'>"
      ]
     },
     "execution_count": 101,
     "metadata": {},
     "output_type": "execute_result"
    },
    {
     "data": {
      "image/png": "[encoded data removed]",
      "text/plain": [
       "<Figure size 432x288 with 1 Axes>"
      ]
     },
     "metadata": {},
     "output_type": "display_data"
    }
   ],
   "source": [
    "sns.histplot(d['Total_Stops'])"
   ]
  },
  {
   "cell_type": "code",
   "execution_count": 102,
   "id": "6fb51273",
   "metadata": {},
   "outputs": [
    {
     "data": {
      "text/plain": [
       "array(['No Info', 'No check-in baggage included', '1 Long layover'],\n",
       "      dtype=object)"
      ]
     },
     "execution_count": 102,
     "metadata": {},
     "output_type": "execute_result"
    }
   ],
   "source": [
    "d['Additional_Info'].unique()"
   ]
  },
  {
   "cell_type": "code",
   "execution_count": 103,
   "id": "6c33cfe7",
   "metadata": {},
   "outputs": [
    {
     "data": {
      "text/plain": [
       "No Info                         497\n",
       "No check-in baggage included    320\n",
       "1 Long layover                    1\n",
       "Name: Additional_Info, dtype: int64"
      ]
     },
     "execution_count": 103,
     "metadata": {},
     "output_type": "execute_result"
    }
   ],
   "source": [
    "d['Additional_Info'].value_counts()"
   ]
  },
  {
   "cell_type": "code",
   "execution_count": 104,
   "id": "05a4f43c",
   "metadata": {},
   "outputs": [
    {
     "data": {
      "text/plain": [
       "max    23267\n",
       "min     1759\n",
       "Name: Price, dtype: int64"
      ]
     },
     "execution_count": 104,
     "metadata": {},
     "output_type": "execute_result"
    }
   ],
   "source": [
    "d['Price'].agg([max,min])"
   ]
  },
  {
   "cell_type": "code",
   "execution_count": 105,
   "id": "d02f4203",
   "metadata": {},
   "outputs": [
    {
     "data": {
      "text/plain": [
       "<seaborn.axisgrid.FacetGrid at 0x20f1a3a0>"
      ]
     },
     "execution_count": 105,
     "metadata": {},
     "output_type": "execute_result"
    },
    {
     "data": {
      "image/png": "[encoded data removed]",
      "text/plain": [
       "<Figure size 360x360 with 1 Axes>"
      ]
     },
     "metadata": {},
     "output_type": "display_data"
    }
   ],
   "source": [
    "sns.relplot(x = 'Additional_Info', y = 'Price',data = d)"
   ]
  },
  {
   "cell_type": "code",
   "execution_count": 106,
   "id": "c5211a10",
   "metadata": {},
   "outputs": [
    {
     "data": {
      "text/plain": [
       "Month_of_Journey  Month_of_Journey\n",
       "1                 1                    76\n",
       "3                 3                   193\n",
       "4                 4                    76\n",
       "5                 5                   139\n",
       "6                 6                   190\n",
       "9                 9                    90\n",
       "12                12                   54\n",
       "Name: Month_of_Journey, dtype: int64"
      ]
     },
     "execution_count": 106,
     "metadata": {},
     "output_type": "execute_result"
    }
   ],
   "source": [
    "d.groupby(['Month_of_Journey'])['Month_of_Journey'].value_counts()"
   ]
  },
  {
   "cell_type": "markdown",
   "id": "ac6a52bd",
   "metadata": {},
   "source": [
    "# Multiple Carriers Flight"
   ]
  },
  {
   "cell_type": "code",
   "execution_count": 107,
   "id": "fefdd0a6",
   "metadata": {},
   "outputs": [],
   "source": [
    "x = df.iloc[np.where(df['Airline']=='Multiple carriers')]"
   ]
  },
  {
   "cell_type": "code",
   "execution_count": 108,
   "id": "219c3d45",
   "metadata": {},
   "outputs": [
    {
     "data": {
      "text/html": [
       "<div>\n",
       "<style scoped>\n",
       "    .dataframe tbody tr th:only-of-type {\n",
       "        vertical-align: middle;\n",
       "    }\n",
       "\n",
       "    .dataframe tbody tr th {\n",
       "        vertical-align: top;\n",
       "    }\n",
       "\n",
       "    .dataframe thead th {\n",
       "        text-align: right;\n",
       "    }\n",
       "</style>\n",
       "<table border=\"1\" class=\"dataframe\">\n",
       "  <thead>\n",
       "    <tr style=\"text-align: right;\">\n",
       "      <th></th>\n",
       "      <th>Airline</th>\n",
       "      <th>Source</th>\n",
       "      <th>Route</th>\n",
       "      <th>Destination</th>\n",
       "      <th>Dep_Time</th>\n",
       "      <th>Arrival_Time</th>\n",
       "      <th>Duration</th>\n",
       "      <th>Total_Stops</th>\n",
       "      <th>Additional_Info</th>\n",
       "      <th>Price</th>\n",
       "      <th>Day_of_Journey</th>\n",
       "      <th>Month_of_Journey</th>\n",
       "    </tr>\n",
       "  </thead>\n",
       "  <tbody>\n",
       "    <tr>\n",
       "      <th>9</th>\n",
       "      <td>Multiple carriers</td>\n",
       "      <td>Delhi</td>\n",
       "      <td>DEL → BOM → COK</td>\n",
       "      <td>Cochin</td>\n",
       "      <td>2022-04-29 11:25:00</td>\n",
       "      <td>2022-04-29 19:15:00</td>\n",
       "      <td>7h 50m</td>\n",
       "      <td>1 stop</td>\n",
       "      <td>No Info</td>\n",
       "      <td>8625</td>\n",
       "      <td>27</td>\n",
       "      <td>5</td>\n",
       "    </tr>\n",
       "    <tr>\n",
       "      <th>40</th>\n",
       "      <td>Multiple carriers</td>\n",
       "      <td>Delhi</td>\n",
       "      <td>DEL → HYD → COK</td>\n",
       "      <td>Cochin</td>\n",
       "      <td>2022-04-29 07:05:00</td>\n",
       "      <td>2022-04-29 18:10:00</td>\n",
       "      <td>11h 5m</td>\n",
       "      <td>1 stop</td>\n",
       "      <td>No Info</td>\n",
       "      <td>9646</td>\n",
       "      <td>21</td>\n",
       "      <td>5</td>\n",
       "    </tr>\n",
       "    <tr>\n",
       "      <th>44</th>\n",
       "      <td>Multiple carriers</td>\n",
       "      <td>Delhi</td>\n",
       "      <td>DEL → BOM → COK</td>\n",
       "      <td>Cochin</td>\n",
       "      <td>2022-04-29 09:00:00</td>\n",
       "      <td>2022-04-29 21:00:00</td>\n",
       "      <td>12h</td>\n",
       "      <td>1 stop</td>\n",
       "      <td>No Info</td>\n",
       "      <td>13062</td>\n",
       "      <td>21</td>\n",
       "      <td>3</td>\n",
       "    </tr>\n",
       "    <tr>\n",
       "      <th>58</th>\n",
       "      <td>Multiple carriers</td>\n",
       "      <td>Delhi</td>\n",
       "      <td>DEL → BOM → COK</td>\n",
       "      <td>Cochin</td>\n",
       "      <td>2022-04-29 19:00:00</td>\n",
       "      <td>2022-05-07 01:30:00</td>\n",
       "      <td>6h 30m</td>\n",
       "      <td>1 stop</td>\n",
       "      <td>No Info</td>\n",
       "      <td>8073</td>\n",
       "      <td>5</td>\n",
       "      <td>6</td>\n",
       "    </tr>\n",
       "    <tr>\n",
       "      <th>62</th>\n",
       "      <td>Multiple carriers</td>\n",
       "      <td>Delhi</td>\n",
       "      <td>DEL → BOM → COK</td>\n",
       "      <td>Cochin</td>\n",
       "      <td>2022-04-29 08:45:00</td>\n",
       "      <td>2022-04-29 19:00:00</td>\n",
       "      <td>10h 15m</td>\n",
       "      <td>1 stop</td>\n",
       "      <td>No Info</td>\n",
       "      <td>12524</td>\n",
       "      <td>6</td>\n",
       "      <td>3</td>\n",
       "    </tr>\n",
       "    <tr>\n",
       "      <th>...</th>\n",
       "      <td>...</td>\n",
       "      <td>...</td>\n",
       "      <td>...</td>\n",
       "      <td>...</td>\n",
       "      <td>...</td>\n",
       "      <td>...</td>\n",
       "      <td>...</td>\n",
       "      <td>...</td>\n",
       "      <td>...</td>\n",
       "      <td>...</td>\n",
       "      <td>...</td>\n",
       "      <td>...</td>\n",
       "    </tr>\n",
       "    <tr>\n",
       "      <th>10643</th>\n",
       "      <td>Multiple carriers</td>\n",
       "      <td>Delhi</td>\n",
       "      <td>DEL → BOM → COK</td>\n",
       "      <td>Cochin</td>\n",
       "      <td>2022-04-29 19:00:00</td>\n",
       "      <td>2022-05-19 01:30:00</td>\n",
       "      <td>6h 30m</td>\n",
       "      <td>1 stop</td>\n",
       "      <td>No Info</td>\n",
       "      <td>7670</td>\n",
       "      <td>18</td>\n",
       "      <td>5</td>\n",
       "    </tr>\n",
       "    <tr>\n",
       "      <th>10644</th>\n",
       "      <td>Multiple carriers</td>\n",
       "      <td>Delhi</td>\n",
       "      <td>DEL → BOM → COK</td>\n",
       "      <td>Cochin</td>\n",
       "      <td>2022-04-29 10:35:00</td>\n",
       "      <td>2022-04-29 19:00:00</td>\n",
       "      <td>8h 25m</td>\n",
       "      <td>1 stop</td>\n",
       "      <td>No Info</td>\n",
       "      <td>10877</td>\n",
       "      <td>6</td>\n",
       "      <td>6</td>\n",
       "    </tr>\n",
       "    <tr>\n",
       "      <th>10645</th>\n",
       "      <td>Multiple carriers</td>\n",
       "      <td>Delhi</td>\n",
       "      <td>DEL → BOM → COK</td>\n",
       "      <td>Cochin</td>\n",
       "      <td>2022-04-29 07:05:00</td>\n",
       "      <td>2022-04-29 15:30:00</td>\n",
       "      <td>8h 25m</td>\n",
       "      <td>1 stop</td>\n",
       "      <td>No Info</td>\n",
       "      <td>17057</td>\n",
       "      <td>3</td>\n",
       "      <td>3</td>\n",
       "    </tr>\n",
       "    <tr>\n",
       "      <th>10651</th>\n",
       "      <td>Multiple carriers</td>\n",
       "      <td>Delhi</td>\n",
       "      <td>DEL → BOM → COK</td>\n",
       "      <td>Cochin</td>\n",
       "      <td>2022-04-29 04:55:00</td>\n",
       "      <td>2022-04-29 12:35:00</td>\n",
       "      <td>7h 40m</td>\n",
       "      <td>1 stop</td>\n",
       "      <td>No Info</td>\n",
       "      <td>10678</td>\n",
       "      <td>27</td>\n",
       "      <td>6</td>\n",
       "    </tr>\n",
       "    <tr>\n",
       "      <th>10676</th>\n",
       "      <td>Multiple carriers</td>\n",
       "      <td>Delhi</td>\n",
       "      <td>DEL → BOM → COK</td>\n",
       "      <td>Cochin</td>\n",
       "      <td>2022-04-29 10:20:00</td>\n",
       "      <td>2022-04-29 19:00:00</td>\n",
       "      <td>8h 40m</td>\n",
       "      <td>1 stop</td>\n",
       "      <td>No Info</td>\n",
       "      <td>9794</td>\n",
       "      <td>5</td>\n",
       "      <td>1</td>\n",
       "    </tr>\n",
       "  </tbody>\n",
       "</table>\n",
       "<p>1196 rows × 12 columns</p>\n",
       "</div>"
      ],
      "text/plain": [
       "                 Airline Source            Route Destination  \\\n",
       "9      Multiple carriers  Delhi  DEL → BOM → COK      Cochin   \n",
       "40     Multiple carriers  Delhi  DEL → HYD → COK      Cochin   \n",
       "44     Multiple carriers  Delhi  DEL → BOM → COK      Cochin   \n",
       "58     Multiple carriers  Delhi  DEL → BOM → COK      Cochin   \n",
       "62     Multiple carriers  Delhi  DEL → BOM → COK      Cochin   \n",
       "...                  ...    ...              ...         ...   \n",
       "10643  Multiple carriers  Delhi  DEL → BOM → COK      Cochin   \n",
       "10644  Multiple carriers  Delhi  DEL → BOM → COK      Cochin   \n",
       "10645  Multiple carriers  Delhi  DEL → BOM → COK      Cochin   \n",
       "10651  Multiple carriers  Delhi  DEL → BOM → COK      Cochin   \n",
       "10676  Multiple carriers  Delhi  DEL → BOM → COK      Cochin   \n",
       "\n",
       "                 Dep_Time        Arrival_Time Duration Total_Stops  \\\n",
       "9     2022-04-29 11:25:00 2022-04-29 19:15:00   7h 50m      1 stop   \n",
       "40    2022-04-29 07:05:00 2022-04-29 18:10:00   11h 5m      1 stop   \n",
       "44    2022-04-29 09:00:00 2022-04-29 21:00:00      12h      1 stop   \n",
       "58    2022-04-29 19:00:00 2022-05-07 01:30:00   6h 30m      1 stop   \n",
       "62    2022-04-29 08:45:00 2022-04-29 19:00:00  10h 15m      1 stop   \n",
       "...                   ...                 ...      ...         ...   \n",
       "10643 2022-04-29 19:00:00 2022-05-19 01:30:00   6h 30m      1 stop   \n",
       "10644 2022-04-29 10:35:00 2022-04-29 19:00:00   8h 25m      1 stop   \n",
       "10645 2022-04-29 07:05:00 2022-04-29 15:30:00   8h 25m      1 stop   \n",
       "10651 2022-04-29 04:55:00 2022-04-29 12:35:00   7h 40m      1 stop   \n",
       "10676 2022-04-29 10:20:00 2022-04-29 19:00:00   8h 40m      1 stop   \n",
       "\n",
       "      Additional_Info  Price  Day_of_Journey  Month_of_Journey  \n",
       "9             No Info   8625              27                 5  \n",
       "40            No Info   9646              21                 5  \n",
       "44            No Info  13062              21                 3  \n",
       "58            No Info   8073               5                 6  \n",
       "62            No Info  12524               6                 3  \n",
       "...               ...    ...             ...               ...  \n",
       "10643         No Info   7670              18                 5  \n",
       "10644         No Info  10877               6                 6  \n",
       "10645         No Info  17057               3                 3  \n",
       "10651         No Info  10678              27                 6  \n",
       "10676         No Info   9794               5                 1  \n",
       "\n",
       "[1196 rows x 12 columns]"
      ]
     },
     "execution_count": 108,
     "metadata": {},
     "output_type": "execute_result"
    }
   ],
   "source": [
    "x"
   ]
  },
  {
   "cell_type": "code",
   "execution_count": 109,
   "id": "f93f2991",
   "metadata": {},
   "outputs": [
    {
     "data": {
      "text/plain": [
       "Source  Destination\n",
       "Delhi   Cochin         1196\n",
       "Name: Destination, dtype: int64"
      ]
     },
     "execution_count": 109,
     "metadata": {},
     "output_type": "execute_result"
    }
   ],
   "source": [
    "x.groupby(['Source'])['Destination'].value_counts()"
   ]
  },
  {
   "cell_type": "code",
   "execution_count": 110,
   "id": "fde29bba",
   "metadata": {},
   "outputs": [
    {
     "data": {
      "text/plain": [
       "1 stop     1145\n",
       "2 stops      43\n",
       "3 stops       8\n",
       "Name: Total_Stops, dtype: int64"
      ]
     },
     "execution_count": 110,
     "metadata": {},
     "output_type": "execute_result"
    }
   ],
   "source": [
    "x['Total_Stops'].value_counts()"
   ]
  },
  {
   "cell_type": "code",
   "execution_count": 111,
   "id": "6bf07ac3",
   "metadata": {},
   "outputs": [
    {
     "data": {
      "text/plain": [
       "<AxesSubplot:xlabel='Total_Stops', ylabel='Count'>"
      ]
     },
     "execution_count": 111,
     "metadata": {},
     "output_type": "execute_result"
    },
    {
     "data": {
      "image/png": "[encoded data removed]",
      "text/plain": [
       "<Figure size 432x288 with 1 Axes>"
      ]
     },
     "metadata": {},
     "output_type": "display_data"
    }
   ],
   "source": [
    "sns.histplot(x['Total_Stops'])"
   ]
  },
  {
   "cell_type": "code",
   "execution_count": 112,
   "id": "ae18b45a",
   "metadata": {},
   "outputs": [
    {
     "data": {
      "text/plain": [
       "No Info                        1100\n",
       "In-flight meal not included      96\n",
       "Name: Additional_Info, dtype: int64"
      ]
     },
     "execution_count": 112,
     "metadata": {},
     "output_type": "execute_result"
    }
   ],
   "source": [
    "x['Additional_Info'].value_counts()"
   ]
  },
  {
   "cell_type": "code",
   "execution_count": 113,
   "id": "5924ba60",
   "metadata": {},
   "outputs": [
    {
     "data": {
      "text/plain": [
       "max    36983\n",
       "min     5797\n",
       "Name: Price, dtype: int64"
      ]
     },
     "execution_count": 113,
     "metadata": {},
     "output_type": "execute_result"
    }
   ],
   "source": [
    "x['Price'].agg([max,min])"
   ]
  },
  {
   "cell_type": "code",
   "execution_count": 114,
   "id": "b8d9628f",
   "metadata": {},
   "outputs": [
    {
     "data": {
      "text/plain": [
       "<seaborn.axisgrid.FacetGrid at 0x166ba3d0>"
      ]
     },
     "execution_count": 114,
     "metadata": {},
     "output_type": "execute_result"
    },
    {
     "data": {
      "image/png": "[encoded data removed]",
      "text/plain": [
       "<Figure size 360x360 with 1 Axes>"
      ]
     },
     "metadata": {},
     "output_type": "display_data"
    }
   ],
   "source": [
    "sns.relplot(x = 'Additional_Info', y = 'Price', data=x)"
   ]
  },
  {
   "cell_type": "code",
   "execution_count": 115,
   "id": "67bb35d6",
   "metadata": {},
   "outputs": [
    {
     "data": {
      "text/plain": [
       "Month_of_Journey  Month_of_Journey\n",
       "1                 1                    75\n",
       "3                 3                   261\n",
       "4                 4                     2\n",
       "5                 5                   292\n",
       "6                 6                   341\n",
       "9                 9                   160\n",
       "12                12                   65\n",
       "Name: Month_of_Journey, dtype: int64"
      ]
     },
     "execution_count": 115,
     "metadata": {},
     "output_type": "execute_result"
    }
   ],
   "source": [
    "x.groupby(['Month_of_Journey'])['Month_of_Journey'].value_counts()"
   ]
  },
  {
   "cell_type": "markdown",
   "id": "8d25a797",
   "metadata": {},
   "source": [
    "# Go Air Flight"
   ]
  },
  {
   "cell_type": "code",
   "execution_count": 116,
   "id": "680b0e37",
   "metadata": {},
   "outputs": [],
   "source": [
    "y = df.iloc[np.where(df['Airline']=='GoAir')]"
   ]
  },
  {
   "cell_type": "code",
   "execution_count": 117,
   "id": "acfcbe61",
   "metadata": {},
   "outputs": [
    {
     "data": {
      "text/html": [
       "<div>\n",
       "<style scoped>\n",
       "    .dataframe tbody tr th:only-of-type {\n",
       "        vertical-align: middle;\n",
       "    }\n",
       "\n",
       "    .dataframe tbody tr th {\n",
       "        vertical-align: top;\n",
       "    }\n",
       "\n",
       "    .dataframe thead th {\n",
       "        text-align: right;\n",
       "    }\n",
       "</style>\n",
       "<table border=\"1\" class=\"dataframe\">\n",
       "  <thead>\n",
       "    <tr style=\"text-align: right;\">\n",
       "      <th></th>\n",
       "      <th>Airline</th>\n",
       "      <th>Source</th>\n",
       "      <th>Route</th>\n",
       "      <th>Destination</th>\n",
       "      <th>Dep_Time</th>\n",
       "      <th>Arrival_Time</th>\n",
       "      <th>Duration</th>\n",
       "      <th>Total_Stops</th>\n",
       "      <th>Additional_Info</th>\n",
       "      <th>Price</th>\n",
       "      <th>Day_of_Journey</th>\n",
       "      <th>Month_of_Journey</th>\n",
       "    </tr>\n",
       "  </thead>\n",
       "  <tbody>\n",
       "    <tr>\n",
       "      <th>20</th>\n",
       "      <td>GoAir</td>\n",
       "      <td>Delhi</td>\n",
       "      <td>DEL → BOM → COK</td>\n",
       "      <td>Cochin</td>\n",
       "      <td>2022-04-29 14:10:00</td>\n",
       "      <td>2022-04-29 19:20:00</td>\n",
       "      <td>5h 10m</td>\n",
       "      <td>1 stop</td>\n",
       "      <td>No Info</td>\n",
       "      <td>19495</td>\n",
       "      <td>3</td>\n",
       "      <td>6</td>\n",
       "    </tr>\n",
       "    <tr>\n",
       "      <th>27</th>\n",
       "      <td>GoAir</td>\n",
       "      <td>Delhi</td>\n",
       "      <td>DEL → BOM → COK</td>\n",
       "      <td>Cochin</td>\n",
       "      <td>2022-04-29 07:00:00</td>\n",
       "      <td>2022-04-29 12:55:00</td>\n",
       "      <td>5h 55m</td>\n",
       "      <td>1 stop</td>\n",
       "      <td>No Info</td>\n",
       "      <td>7682</td>\n",
       "      <td>15</td>\n",
       "      <td>5</td>\n",
       "    </tr>\n",
       "    <tr>\n",
       "      <th>76</th>\n",
       "      <td>GoAir</td>\n",
       "      <td>Banglore</td>\n",
       "      <td>BLR → DEL</td>\n",
       "      <td>Delhi</td>\n",
       "      <td>2022-04-29 11:40:00</td>\n",
       "      <td>2022-04-29 14:30:00</td>\n",
       "      <td>2h 50m</td>\n",
       "      <td>non-stop</td>\n",
       "      <td>No Info</td>\n",
       "      <td>3898</td>\n",
       "      <td>4</td>\n",
       "      <td>3</td>\n",
       "    </tr>\n",
       "    <tr>\n",
       "      <th>114</th>\n",
       "      <td>GoAir</td>\n",
       "      <td>Delhi</td>\n",
       "      <td>DEL → BOM → COK</td>\n",
       "      <td>Cochin</td>\n",
       "      <td>2022-04-29 07:00:00</td>\n",
       "      <td>2022-04-29 12:55:00</td>\n",
       "      <td>5h 55m</td>\n",
       "      <td>1 stop</td>\n",
       "      <td>No Info</td>\n",
       "      <td>5281</td>\n",
       "      <td>27</td>\n",
       "      <td>6</td>\n",
       "    </tr>\n",
       "    <tr>\n",
       "      <th>141</th>\n",
       "      <td>GoAir</td>\n",
       "      <td>Kolkata</td>\n",
       "      <td>CCU → BOM → BLR</td>\n",
       "      <td>Banglore</td>\n",
       "      <td>2022-04-29 23:30:00</td>\n",
       "      <td>2022-06-07 07:45:00</td>\n",
       "      <td>8h 15m</td>\n",
       "      <td>1 stop</td>\n",
       "      <td>No Info</td>\n",
       "      <td>6686</td>\n",
       "      <td>6</td>\n",
       "      <td>6</td>\n",
       "    </tr>\n",
       "    <tr>\n",
       "      <th>...</th>\n",
       "      <td>...</td>\n",
       "      <td>...</td>\n",
       "      <td>...</td>\n",
       "      <td>...</td>\n",
       "      <td>...</td>\n",
       "      <td>...</td>\n",
       "      <td>...</td>\n",
       "      <td>...</td>\n",
       "      <td>...</td>\n",
       "      <td>...</td>\n",
       "      <td>...</td>\n",
       "      <td>...</td>\n",
       "    </tr>\n",
       "    <tr>\n",
       "      <th>10440</th>\n",
       "      <td>GoAir</td>\n",
       "      <td>Banglore</td>\n",
       "      <td>BLR → DEL</td>\n",
       "      <td>Delhi</td>\n",
       "      <td>2022-04-29 20:55:00</td>\n",
       "      <td>2022-04-29 23:50:00</td>\n",
       "      <td>2h 55m</td>\n",
       "      <td>non-stop</td>\n",
       "      <td>No Info</td>\n",
       "      <td>5706</td>\n",
       "      <td>24</td>\n",
       "      <td>3</td>\n",
       "    </tr>\n",
       "    <tr>\n",
       "      <th>10510</th>\n",
       "      <td>GoAir</td>\n",
       "      <td>Banglore</td>\n",
       "      <td>BLR → DEL</td>\n",
       "      <td>Delhi</td>\n",
       "      <td>2022-04-29 11:40:00</td>\n",
       "      <td>2022-04-29 14:35:00</td>\n",
       "      <td>2h 55m</td>\n",
       "      <td>non-stop</td>\n",
       "      <td>No Info</td>\n",
       "      <td>6113</td>\n",
       "      <td>15</td>\n",
       "      <td>3</td>\n",
       "    </tr>\n",
       "    <tr>\n",
       "      <th>10517</th>\n",
       "      <td>GoAir</td>\n",
       "      <td>Banglore</td>\n",
       "      <td>BLR → DEL</td>\n",
       "      <td>Delhi</td>\n",
       "      <td>2022-04-29 11:40:00</td>\n",
       "      <td>2022-04-29 14:30:00</td>\n",
       "      <td>2h 50m</td>\n",
       "      <td>non-stop</td>\n",
       "      <td>No Info</td>\n",
       "      <td>3398</td>\n",
       "      <td>21</td>\n",
       "      <td>6</td>\n",
       "    </tr>\n",
       "    <tr>\n",
       "      <th>10524</th>\n",
       "      <td>GoAir</td>\n",
       "      <td>Delhi</td>\n",
       "      <td>DEL → AMD → COK</td>\n",
       "      <td>Cochin</td>\n",
       "      <td>2022-04-29 06:00:00</td>\n",
       "      <td>2022-04-29 13:20:00</td>\n",
       "      <td>7h 20m</td>\n",
       "      <td>1 stop</td>\n",
       "      <td>No Info</td>\n",
       "      <td>8422</td>\n",
       "      <td>3</td>\n",
       "      <td>9</td>\n",
       "    </tr>\n",
       "    <tr>\n",
       "      <th>10626</th>\n",
       "      <td>GoAir</td>\n",
       "      <td>Banglore</td>\n",
       "      <td>BLR → DEL</td>\n",
       "      <td>Delhi</td>\n",
       "      <td>2022-04-29 11:40:00</td>\n",
       "      <td>2022-04-29 14:35:00</td>\n",
       "      <td>2h 55m</td>\n",
       "      <td>non-stop</td>\n",
       "      <td>No Info</td>\n",
       "      <td>4340</td>\n",
       "      <td>24</td>\n",
       "      <td>3</td>\n",
       "    </tr>\n",
       "  </tbody>\n",
       "</table>\n",
       "<p>194 rows × 12 columns</p>\n",
       "</div>"
      ],
      "text/plain": [
       "      Airline    Source            Route Destination            Dep_Time  \\\n",
       "20      GoAir     Delhi  DEL → BOM → COK      Cochin 2022-04-29 14:10:00   \n",
       "27      GoAir     Delhi  DEL → BOM → COK      Cochin 2022-04-29 07:00:00   \n",
       "76      GoAir  Banglore        BLR → DEL       Delhi 2022-04-29 11:40:00   \n",
       "114     GoAir     Delhi  DEL → BOM → COK      Cochin 2022-04-29 07:00:00   \n",
       "141     GoAir   Kolkata  CCU → BOM → BLR    Banglore 2022-04-29 23:30:00   \n",
       "...       ...       ...              ...         ...                 ...   \n",
       "10440   GoAir  Banglore        BLR → DEL       Delhi 2022-04-29 20:55:00   \n",
       "10510   GoAir  Banglore        BLR → DEL       Delhi 2022-04-29 11:40:00   \n",
       "10517   GoAir  Banglore        BLR → DEL       Delhi 2022-04-29 11:40:00   \n",
       "10524   GoAir     Delhi  DEL → AMD → COK      Cochin 2022-04-29 06:00:00   \n",
       "10626   GoAir  Banglore        BLR → DEL       Delhi 2022-04-29 11:40:00   \n",
       "\n",
       "             Arrival_Time Duration Total_Stops Additional_Info  Price  \\\n",
       "20    2022-04-29 19:20:00   5h 10m      1 stop         No Info  19495   \n",
       "27    2022-04-29 12:55:00   5h 55m      1 stop         No Info   7682   \n",
       "76    2022-04-29 14:30:00   2h 50m    non-stop         No Info   3898   \n",
       "114   2022-04-29 12:55:00   5h 55m      1 stop         No Info   5281   \n",
       "141   2022-06-07 07:45:00   8h 15m      1 stop         No Info   6686   \n",
       "...                   ...      ...         ...             ...    ...   \n",
       "10440 2022-04-29 23:50:00   2h 55m    non-stop         No Info   5706   \n",
       "10510 2022-04-29 14:35:00   2h 55m    non-stop         No Info   6113   \n",
       "10517 2022-04-29 14:30:00   2h 50m    non-stop         No Info   3398   \n",
       "10524 2022-04-29 13:20:00   7h 20m      1 stop         No Info   8422   \n",
       "10626 2022-04-29 14:35:00   2h 55m    non-stop         No Info   4340   \n",
       "\n",
       "       Day_of_Journey  Month_of_Journey  \n",
       "20                  3                 6  \n",
       "27                 15                 5  \n",
       "76                  4                 3  \n",
       "114                27                 6  \n",
       "141                 6                 6  \n",
       "...               ...               ...  \n",
       "10440              24                 3  \n",
       "10510              15                 3  \n",
       "10517              21                 6  \n",
       "10524               3                 9  \n",
       "10626              24                 3  \n",
       "\n",
       "[194 rows x 12 columns]"
      ]
     },
     "execution_count": 117,
     "metadata": {},
     "output_type": "execute_result"
    }
   ],
   "source": [
    "y"
   ]
  },
  {
   "cell_type": "code",
   "execution_count": 118,
   "id": "b6cada54",
   "metadata": {},
   "outputs": [
    {
     "data": {
      "text/plain": [
       "Source    Destination\n",
       "Banglore  Delhi          93\n",
       "Delhi     Cochin         76\n",
       "Kolkata   Banglore       25\n",
       "Name: Destination, dtype: int64"
      ]
     },
     "execution_count": 118,
     "metadata": {},
     "output_type": "execute_result"
    }
   ],
   "source": [
    "y.groupby(['Source'])['Destination'].value_counts()"
   ]
  },
  {
   "cell_type": "code",
   "execution_count": 119,
   "id": "f1bb8eff",
   "metadata": {},
   "outputs": [
    {
     "data": {
      "text/plain": [
       "1 stop      102\n",
       "non-stop     92\n",
       "Name: Total_Stops, dtype: int64"
      ]
     },
     "execution_count": 119,
     "metadata": {},
     "output_type": "execute_result"
    }
   ],
   "source": [
    "y['Total_Stops'].value_counts()"
   ]
  },
  {
   "cell_type": "code",
   "execution_count": 120,
   "id": "65b38307",
   "metadata": {},
   "outputs": [
    {
     "data": {
      "text/plain": [
       "<AxesSubplot:xlabel='Total_Stops', ylabel='Count'>"
      ]
     },
     "execution_count": 120,
     "metadata": {},
     "output_type": "execute_result"
    },
    {
     "data": {
      "image/png": "[encoded data removed]",
      "text/plain": [
       "<Figure size 432x288 with 1 Axes>"
      ]
     },
     "metadata": {},
     "output_type": "display_data"
    }
   ],
   "source": [
    "sns.histplot(y['Total_Stops'])"
   ]
  },
  {
   "cell_type": "code",
   "execution_count": 121,
   "id": "e169d228",
   "metadata": {},
   "outputs": [
    {
     "data": {
      "text/plain": [
       "No Info    194\n",
       "Name: Additional_Info, dtype: int64"
      ]
     },
     "execution_count": 121,
     "metadata": {},
     "output_type": "execute_result"
    }
   ],
   "source": [
    "y['Additional_Info'].value_counts()"
   ]
  },
  {
   "cell_type": "code",
   "execution_count": 122,
   "id": "8ae9552d",
   "metadata": {},
   "outputs": [
    {
     "data": {
      "text/plain": [
       "max    22794\n",
       "min     3398\n",
       "Name: Price, dtype: int64"
      ]
     },
     "execution_count": 122,
     "metadata": {},
     "output_type": "execute_result"
    }
   ],
   "source": [
    "y['Price'].agg([max,min])"
   ]
  },
  {
   "cell_type": "code",
   "execution_count": 123,
   "id": "a12a4db7",
   "metadata": {},
   "outputs": [
    {
     "data": {
      "text/plain": [
       "<seaborn.axisgrid.FacetGrid at 0x18c15d00>"
      ]
     },
     "execution_count": 123,
     "metadata": {},
     "output_type": "execute_result"
    },
    {
     "data": {
      "image/png": "[encoded data removed]",
      "text/plain": [
       "<Figure size 360x360 with 1 Axes>"
      ]
     },
     "metadata": {},
     "output_type": "display_data"
    }
   ],
   "source": [
    "sns.relplot(x = 'Additional_Info', y = 'Price', data = y)"
   ]
  },
  {
   "cell_type": "code",
   "execution_count": 124,
   "id": "db5f1f52",
   "metadata": {},
   "outputs": [
    {
     "data": {
      "text/plain": [
       "Month_of_Journey  Month_of_Journey\n",
       "1                 1                   21\n",
       "3                 3                   43\n",
       "4                 4                   22\n",
       "5                 5                   28\n",
       "6                 6                   45\n",
       "9                 9                   23\n",
       "12                12                  12\n",
       "Name: Month_of_Journey, dtype: int64"
      ]
     },
     "execution_count": 124,
     "metadata": {},
     "output_type": "execute_result"
    }
   ],
   "source": [
    "y.groupby(['Month_of_Journey'])['Month_of_Journey'].value_counts()"
   ]
  },
  {
   "cell_type": "markdown",
   "id": "f56c7660",
   "metadata": {},
   "source": [
    "# Vistara Flight"
   ]
  },
  {
   "cell_type": "code",
   "execution_count": 125,
   "id": "56fe26dd",
   "metadata": {},
   "outputs": [],
   "source": [
    "v = df.iloc[np.where(df['Airline']=='Vistara')]"
   ]
  },
  {
   "cell_type": "code",
   "execution_count": 126,
   "id": "4fd955d3",
   "metadata": {},
   "outputs": [
    {
     "data": {
      "text/html": [
       "<div>\n",
       "<style scoped>\n",
       "    .dataframe tbody tr th:only-of-type {\n",
       "        vertical-align: middle;\n",
       "    }\n",
       "\n",
       "    .dataframe tbody tr th {\n",
       "        vertical-align: top;\n",
       "    }\n",
       "\n",
       "    .dataframe thead th {\n",
       "        text-align: right;\n",
       "    }\n",
       "</style>\n",
       "<table border=\"1\" class=\"dataframe\">\n",
       "  <thead>\n",
       "    <tr style=\"text-align: right;\">\n",
       "      <th></th>\n",
       "      <th>Airline</th>\n",
       "      <th>Source</th>\n",
       "      <th>Route</th>\n",
       "      <th>Destination</th>\n",
       "      <th>Dep_Time</th>\n",
       "      <th>Arrival_Time</th>\n",
       "      <th>Duration</th>\n",
       "      <th>Total_Stops</th>\n",
       "      <th>Additional_Info</th>\n",
       "      <th>Price</th>\n",
       "      <th>Day_of_Journey</th>\n",
       "      <th>Month_of_Journey</th>\n",
       "    </tr>\n",
       "  </thead>\n",
       "  <tbody>\n",
       "    <tr>\n",
       "      <th>28</th>\n",
       "      <td>Vistara</td>\n",
       "      <td>Banglore</td>\n",
       "      <td>BLR → DEL</td>\n",
       "      <td>Delhi</td>\n",
       "      <td>2022-04-29 09:45:00</td>\n",
       "      <td>2022-04-29 12:35:00</td>\n",
       "      <td>2h 50m</td>\n",
       "      <td>non-stop</td>\n",
       "      <td>No Info</td>\n",
       "      <td>4668</td>\n",
       "      <td>18</td>\n",
       "      <td>6</td>\n",
       "    </tr>\n",
       "    <tr>\n",
       "      <th>29</th>\n",
       "      <td>Vistara</td>\n",
       "      <td>Chennai</td>\n",
       "      <td>MAA → CCU</td>\n",
       "      <td>Kolkata</td>\n",
       "      <td>2022-04-29 07:05:00</td>\n",
       "      <td>2022-04-29 09:20:00</td>\n",
       "      <td>2h 15m</td>\n",
       "      <td>non-stop</td>\n",
       "      <td>No Info</td>\n",
       "      <td>3687</td>\n",
       "      <td>15</td>\n",
       "      <td>6</td>\n",
       "    </tr>\n",
       "    <tr>\n",
       "      <th>30</th>\n",
       "      <td>Vistara</td>\n",
       "      <td>Chennai</td>\n",
       "      <td>MAA → CCU</td>\n",
       "      <td>Kolkata</td>\n",
       "      <td>2022-04-29 07:05:00</td>\n",
       "      <td>2022-04-29 09:20:00</td>\n",
       "      <td>2h 15m</td>\n",
       "      <td>non-stop</td>\n",
       "      <td>No Info</td>\n",
       "      <td>3687</td>\n",
       "      <td>18</td>\n",
       "      <td>6</td>\n",
       "    </tr>\n",
       "    <tr>\n",
       "      <th>57</th>\n",
       "      <td>Vistara</td>\n",
       "      <td>Chennai</td>\n",
       "      <td>MAA → CCU</td>\n",
       "      <td>Kolkata</td>\n",
       "      <td>2022-04-29 07:05:00</td>\n",
       "      <td>2022-04-29 09:20:00</td>\n",
       "      <td>2h 15m</td>\n",
       "      <td>non-stop</td>\n",
       "      <td>No Info</td>\n",
       "      <td>7414</td>\n",
       "      <td>3</td>\n",
       "      <td>6</td>\n",
       "    </tr>\n",
       "    <tr>\n",
       "      <th>59</th>\n",
       "      <td>Vistara</td>\n",
       "      <td>Mumbai</td>\n",
       "      <td>BOM → DEL → HYD</td>\n",
       "      <td>Hyderabad</td>\n",
       "      <td>2022-04-29 15:40:00</td>\n",
       "      <td>2022-03-07 16:45:00</td>\n",
       "      <td>25h 5m</td>\n",
       "      <td>1 stop</td>\n",
       "      <td>No Info</td>\n",
       "      <td>12395</td>\n",
       "      <td>3</td>\n",
       "      <td>6</td>\n",
       "    </tr>\n",
       "    <tr>\n",
       "      <th>...</th>\n",
       "      <td>...</td>\n",
       "      <td>...</td>\n",
       "      <td>...</td>\n",
       "      <td>...</td>\n",
       "      <td>...</td>\n",
       "      <td>...</td>\n",
       "      <td>...</td>\n",
       "      <td>...</td>\n",
       "      <td>...</td>\n",
       "      <td>...</td>\n",
       "      <td>...</td>\n",
       "      <td>...</td>\n",
       "    </tr>\n",
       "    <tr>\n",
       "      <th>10624</th>\n",
       "      <td>Vistara</td>\n",
       "      <td>Kolkata</td>\n",
       "      <td>CCU → DEL → BLR</td>\n",
       "      <td>Banglore</td>\n",
       "      <td>2022-04-29 20:20:00</td>\n",
       "      <td>2022-06-07 22:40:00</td>\n",
       "      <td>26h 20m</td>\n",
       "      <td>1 stop</td>\n",
       "      <td>No Info</td>\n",
       "      <td>8662</td>\n",
       "      <td>6</td>\n",
       "      <td>6</td>\n",
       "    </tr>\n",
       "    <tr>\n",
       "      <th>10656</th>\n",
       "      <td>Vistara</td>\n",
       "      <td>Banglore</td>\n",
       "      <td>BLR → DEL</td>\n",
       "      <td>Delhi</td>\n",
       "      <td>2022-04-29 07:00:00</td>\n",
       "      <td>2022-04-29 09:40:00</td>\n",
       "      <td>2h 40m</td>\n",
       "      <td>non-stop</td>\n",
       "      <td>No Info</td>\n",
       "      <td>5613</td>\n",
       "      <td>4</td>\n",
       "      <td>6</td>\n",
       "    </tr>\n",
       "    <tr>\n",
       "      <th>10659</th>\n",
       "      <td>Vistara</td>\n",
       "      <td>Banglore</td>\n",
       "      <td>BLR → DEL</td>\n",
       "      <td>Delhi</td>\n",
       "      <td>2022-04-29 21:00:00</td>\n",
       "      <td>2022-04-29 23:50:00</td>\n",
       "      <td>2h 50m</td>\n",
       "      <td>non-stop</td>\n",
       "      <td>No Info</td>\n",
       "      <td>4668</td>\n",
       "      <td>5</td>\n",
       "      <td>1</td>\n",
       "    </tr>\n",
       "    <tr>\n",
       "      <th>10660</th>\n",
       "      <td>Vistara</td>\n",
       "      <td>Banglore</td>\n",
       "      <td>BLR → DEL</td>\n",
       "      <td>Delhi</td>\n",
       "      <td>2022-04-29 21:10:00</td>\n",
       "      <td>2022-03-19 00:05:00</td>\n",
       "      <td>2h 55m</td>\n",
       "      <td>non-stop</td>\n",
       "      <td>No Info</td>\n",
       "      <td>4878</td>\n",
       "      <td>21</td>\n",
       "      <td>3</td>\n",
       "    </tr>\n",
       "    <tr>\n",
       "      <th>10681</th>\n",
       "      <td>Vistara</td>\n",
       "      <td>Banglore</td>\n",
       "      <td>BLR → DEL</td>\n",
       "      <td>Delhi</td>\n",
       "      <td>2022-04-29 11:30:00</td>\n",
       "      <td>2022-04-29 14:10:00</td>\n",
       "      <td>2h 40m</td>\n",
       "      <td>non-stop</td>\n",
       "      <td>No Info</td>\n",
       "      <td>12648</td>\n",
       "      <td>3</td>\n",
       "      <td>1</td>\n",
       "    </tr>\n",
       "  </tbody>\n",
       "</table>\n",
       "<p>479 rows × 12 columns</p>\n",
       "</div>"
      ],
      "text/plain": [
       "       Airline    Source            Route Destination            Dep_Time  \\\n",
       "28     Vistara  Banglore        BLR → DEL       Delhi 2022-04-29 09:45:00   \n",
       "29     Vistara   Chennai        MAA → CCU     Kolkata 2022-04-29 07:05:00   \n",
       "30     Vistara   Chennai        MAA → CCU     Kolkata 2022-04-29 07:05:00   \n",
       "57     Vistara   Chennai        MAA → CCU     Kolkata 2022-04-29 07:05:00   \n",
       "59     Vistara    Mumbai  BOM → DEL → HYD   Hyderabad 2022-04-29 15:40:00   \n",
       "...        ...       ...              ...         ...                 ...   \n",
       "10624  Vistara   Kolkata  CCU → DEL → BLR    Banglore 2022-04-29 20:20:00   \n",
       "10656  Vistara  Banglore        BLR → DEL       Delhi 2022-04-29 07:00:00   \n",
       "10659  Vistara  Banglore        BLR → DEL       Delhi 2022-04-29 21:00:00   \n",
       "10660  Vistara  Banglore        BLR → DEL       Delhi 2022-04-29 21:10:00   \n",
       "10681  Vistara  Banglore        BLR → DEL       Delhi 2022-04-29 11:30:00   \n",
       "\n",
       "             Arrival_Time Duration Total_Stops Additional_Info  Price  \\\n",
       "28    2022-04-29 12:35:00   2h 50m    non-stop         No Info   4668   \n",
       "29    2022-04-29 09:20:00   2h 15m    non-stop         No Info   3687   \n",
       "30    2022-04-29 09:20:00   2h 15m    non-stop         No Info   3687   \n",
       "57    2022-04-29 09:20:00   2h 15m    non-stop         No Info   7414   \n",
       "59    2022-03-07 16:45:00   25h 5m      1 stop         No Info  12395   \n",
       "...                   ...      ...         ...             ...    ...   \n",
       "10624 2022-06-07 22:40:00  26h 20m      1 stop         No Info   8662   \n",
       "10656 2022-04-29 09:40:00   2h 40m    non-stop         No Info   5613   \n",
       "10659 2022-04-29 23:50:00   2h 50m    non-stop         No Info   4668   \n",
       "10660 2022-03-19 00:05:00   2h 55m    non-stop         No Info   4878   \n",
       "10681 2022-04-29 14:10:00   2h 40m    non-stop         No Info  12648   \n",
       "\n",
       "       Day_of_Journey  Month_of_Journey  \n",
       "28                 18                 6  \n",
       "29                 15                 6  \n",
       "30                 18                 6  \n",
       "57                  3                 6  \n",
       "59                  3                 6  \n",
       "...               ...               ...  \n",
       "10624               6                 6  \n",
       "10656               4                 6  \n",
       "10659               5                 1  \n",
       "10660              21                 3  \n",
       "10681               3                 1  \n",
       "\n",
       "[479 rows x 12 columns]"
      ]
     },
     "execution_count": 126,
     "metadata": {},
     "output_type": "execute_result"
    }
   ],
   "source": [
    "v"
   ]
  },
  {
   "cell_type": "code",
   "execution_count": 127,
   "id": "813b8ec5",
   "metadata": {},
   "outputs": [
    {
     "data": {
      "text/plain": [
       "Source    Destination\n",
       "Banglore  Delhi          185\n",
       "Chennai   Kolkata         43\n",
       "Delhi     Cochin          45\n",
       "Kolkata   Banglore       183\n",
       "Mumbai    Hyderabad       23\n",
       "Name: Destination, dtype: int64"
      ]
     },
     "execution_count": 127,
     "metadata": {},
     "output_type": "execute_result"
    }
   ],
   "source": [
    "v.groupby(['Source'])['Destination'].value_counts()"
   ]
  },
  {
   "cell_type": "code",
   "execution_count": 128,
   "id": "1ab971c9",
   "metadata": {},
   "outputs": [
    {
     "data": {
      "text/plain": [
       "non-stop    264\n",
       "1 stop      215\n",
       "Name: Total_Stops, dtype: int64"
      ]
     },
     "execution_count": 128,
     "metadata": {},
     "output_type": "execute_result"
    }
   ],
   "source": [
    "v['Total_Stops'].value_counts()"
   ]
  },
  {
   "cell_type": "code",
   "execution_count": 129,
   "id": "3bd761df",
   "metadata": {},
   "outputs": [
    {
     "data": {
      "text/plain": [
       "<AxesSubplot:xlabel='Total_Stops', ylabel='Count'>"
      ]
     },
     "execution_count": 129,
     "metadata": {},
     "output_type": "execute_result"
    },
    {
     "data": {
      "image/png": "[encoded data removed]",
      "text/plain": [
       "<Figure size 432x288 with 1 Axes>"
      ]
     },
     "metadata": {},
     "output_type": "display_data"
    }
   ],
   "source": [
    "sns.histplot(v['Total_Stops'])"
   ]
  },
  {
   "cell_type": "code",
   "execution_count": 130,
   "id": "5cbfe465",
   "metadata": {},
   "outputs": [
    {
     "data": {
      "text/plain": [
       "No Info    479\n",
       "Name: Additional_Info, dtype: int64"
      ]
     },
     "execution_count": 130,
     "metadata": {},
     "output_type": "execute_result"
    }
   ],
   "source": [
    "v['Additional_Info'].value_counts()"
   ]
  },
  {
   "cell_type": "code",
   "execution_count": 131,
   "id": "0031efb9",
   "metadata": {},
   "outputs": [
    {
     "data": {
      "text/plain": [
       "max    21730\n",
       "min     3687\n",
       "Name: Price, dtype: int64"
      ]
     },
     "execution_count": 131,
     "metadata": {},
     "output_type": "execute_result"
    }
   ],
   "source": [
    "v['Price'].agg([max,min])"
   ]
  },
  {
   "cell_type": "code",
   "execution_count": 132,
   "id": "d11fba65",
   "metadata": {},
   "outputs": [
    {
     "data": {
      "text/plain": [
       "<seaborn.axisgrid.FacetGrid at 0x1657dcd0>"
      ]
     },
     "execution_count": 132,
     "metadata": {},
     "output_type": "execute_result"
    },
    {
     "data": {
      "image/png": "[encoded data removed]",
      "text/plain": [
       "<Figure size 360x360 with 1 Axes>"
      ]
     },
     "metadata": {},
     "output_type": "display_data"
    }
   ],
   "source": [
    "sns.relplot(x = 'Additional_Info', y = 'Price', data=v)"
   ]
  },
  {
   "cell_type": "code",
   "execution_count": 133,
   "id": "fb5f582b",
   "metadata": {},
   "outputs": [
    {
     "data": {
      "text/plain": [
       "Month_of_Journey  Month_of_Journey\n",
       "1                 1                    59\n",
       "3                 3                    84\n",
       "4                 4                    31\n",
       "5                 5                    90\n",
       "6                 6                   102\n",
       "9                 9                    61\n",
       "12                12                   52\n",
       "Name: Month_of_Journey, dtype: int64"
      ]
     },
     "execution_count": 133,
     "metadata": {},
     "output_type": "execute_result"
    }
   ],
   "source": [
    "v.groupby(['Month_of_Journey'])['Month_of_Journey'].value_counts()"
   ]
  },
  {
   "cell_type": "markdown",
   "id": "a4dc97ca",
   "metadata": {},
   "source": [
    "# Air Asia Flight"
   ]
  },
  {
   "cell_type": "code",
   "execution_count": 134,
   "id": "e056d09d",
   "metadata": {},
   "outputs": [],
   "source": [
    "z = df.iloc[np.where(df['Airline']=='Air Asia')]"
   ]
  },
  {
   "cell_type": "code",
   "execution_count": 135,
   "id": "dbed66ee",
   "metadata": {},
   "outputs": [
    {
     "data": {
      "text/html": [
       "<div>\n",
       "<style scoped>\n",
       "    .dataframe tbody tr th:only-of-type {\n",
       "        vertical-align: middle;\n",
       "    }\n",
       "\n",
       "    .dataframe tbody tr th {\n",
       "        vertical-align: top;\n",
       "    }\n",
       "\n",
       "    .dataframe thead th {\n",
       "        text-align: right;\n",
       "    }\n",
       "</style>\n",
       "<table border=\"1\" class=\"dataframe\">\n",
       "  <thead>\n",
       "    <tr style=\"text-align: right;\">\n",
       "      <th></th>\n",
       "      <th>Airline</th>\n",
       "      <th>Source</th>\n",
       "      <th>Route</th>\n",
       "      <th>Destination</th>\n",
       "      <th>Dep_Time</th>\n",
       "      <th>Arrival_Time</th>\n",
       "      <th>Duration</th>\n",
       "      <th>Total_Stops</th>\n",
       "      <th>Additional_Info</th>\n",
       "      <th>Price</th>\n",
       "      <th>Day_of_Journey</th>\n",
       "      <th>Month_of_Journey</th>\n",
       "    </tr>\n",
       "  </thead>\n",
       "  <tbody>\n",
       "    <tr>\n",
       "      <th>43</th>\n",
       "      <td>Air Asia</td>\n",
       "      <td>Banglore</td>\n",
       "      <td>BLR → DEL</td>\n",
       "      <td>Delhi</td>\n",
       "      <td>2022-04-29 11:10:00</td>\n",
       "      <td>2022-04-29 13:55:00</td>\n",
       "      <td>2h 45m</td>\n",
       "      <td>non-stop</td>\n",
       "      <td>No Info</td>\n",
       "      <td>3383</td>\n",
       "      <td>5</td>\n",
       "      <td>6</td>\n",
       "    </tr>\n",
       "    <tr>\n",
       "      <th>54</th>\n",
       "      <td>Air Asia</td>\n",
       "      <td>Banglore</td>\n",
       "      <td>BLR → DEL</td>\n",
       "      <td>Delhi</td>\n",
       "      <td>2022-04-29 23:55:00</td>\n",
       "      <td>2022-04-04 02:45:00</td>\n",
       "      <td>2h 50m</td>\n",
       "      <td>non-stop</td>\n",
       "      <td>No Info</td>\n",
       "      <td>4483</td>\n",
       "      <td>4</td>\n",
       "      <td>3</td>\n",
       "    </tr>\n",
       "    <tr>\n",
       "      <th>189</th>\n",
       "      <td>Air Asia</td>\n",
       "      <td>Banglore</td>\n",
       "      <td>BLR → DEL</td>\n",
       "      <td>Delhi</td>\n",
       "      <td>2022-04-29 11:10:00</td>\n",
       "      <td>2022-04-29 13:55:00</td>\n",
       "      <td>2h 45m</td>\n",
       "      <td>non-stop</td>\n",
       "      <td>No Info</td>\n",
       "      <td>3383</td>\n",
       "      <td>6</td>\n",
       "      <td>12</td>\n",
       "    </tr>\n",
       "    <tr>\n",
       "      <th>235</th>\n",
       "      <td>Air Asia</td>\n",
       "      <td>Kolkata</td>\n",
       "      <td>CCU → BLR</td>\n",
       "      <td>Banglore</td>\n",
       "      <td>2022-04-29 10:20:00</td>\n",
       "      <td>2022-04-29 12:55:00</td>\n",
       "      <td>2h 35m</td>\n",
       "      <td>non-stop</td>\n",
       "      <td>No Info</td>\n",
       "      <td>4409</td>\n",
       "      <td>5</td>\n",
       "      <td>1</td>\n",
       "    </tr>\n",
       "    <tr>\n",
       "      <th>302</th>\n",
       "      <td>Air Asia</td>\n",
       "      <td>Kolkata</td>\n",
       "      <td>CCU → BLR</td>\n",
       "      <td>Banglore</td>\n",
       "      <td>2022-04-29 10:20:00</td>\n",
       "      <td>2022-04-29 12:55:00</td>\n",
       "      <td>2h 35m</td>\n",
       "      <td>non-stop</td>\n",
       "      <td>No Info</td>\n",
       "      <td>5216</td>\n",
       "      <td>5</td>\n",
       "      <td>12</td>\n",
       "    </tr>\n",
       "    <tr>\n",
       "      <th>...</th>\n",
       "      <td>...</td>\n",
       "      <td>...</td>\n",
       "      <td>...</td>\n",
       "      <td>...</td>\n",
       "      <td>...</td>\n",
       "      <td>...</td>\n",
       "      <td>...</td>\n",
       "      <td>...</td>\n",
       "      <td>...</td>\n",
       "      <td>...</td>\n",
       "      <td>...</td>\n",
       "      <td>...</td>\n",
       "    </tr>\n",
       "    <tr>\n",
       "      <th>10425</th>\n",
       "      <td>Air Asia</td>\n",
       "      <td>Kolkata</td>\n",
       "      <td>CCU → BLR</td>\n",
       "      <td>Banglore</td>\n",
       "      <td>2022-04-29 19:55:00</td>\n",
       "      <td>2022-04-29 22:25:00</td>\n",
       "      <td>2h 30m</td>\n",
       "      <td>non-stop</td>\n",
       "      <td>No Info</td>\n",
       "      <td>4409</td>\n",
       "      <td>4</td>\n",
       "      <td>12</td>\n",
       "    </tr>\n",
       "    <tr>\n",
       "      <th>10504</th>\n",
       "      <td>Air Asia</td>\n",
       "      <td>Delhi</td>\n",
       "      <td>DEL → BLR → COK</td>\n",
       "      <td>Cochin</td>\n",
       "      <td>2022-04-29 07:55:00</td>\n",
       "      <td>2022-04-29 22:25:00</td>\n",
       "      <td>14h 30m</td>\n",
       "      <td>1 stop</td>\n",
       "      <td>No Info</td>\n",
       "      <td>6152</td>\n",
       "      <td>6</td>\n",
       "      <td>12</td>\n",
       "    </tr>\n",
       "    <tr>\n",
       "      <th>10550</th>\n",
       "      <td>Air Asia</td>\n",
       "      <td>Kolkata</td>\n",
       "      <td>CCU → BLR</td>\n",
       "      <td>Banglore</td>\n",
       "      <td>2022-04-29 19:35:00</td>\n",
       "      <td>2022-04-29 22:05:00</td>\n",
       "      <td>2h 30m</td>\n",
       "      <td>non-stop</td>\n",
       "      <td>No Info</td>\n",
       "      <td>4384</td>\n",
       "      <td>3</td>\n",
       "      <td>12</td>\n",
       "    </tr>\n",
       "    <tr>\n",
       "      <th>10590</th>\n",
       "      <td>Air Asia</td>\n",
       "      <td>Banglore</td>\n",
       "      <td>BLR → DEL</td>\n",
       "      <td>Delhi</td>\n",
       "      <td>2022-04-29 23:25:00</td>\n",
       "      <td>2022-03-22 02:10:00</td>\n",
       "      <td>2h 45m</td>\n",
       "      <td>non-stop</td>\n",
       "      <td>No Info</td>\n",
       "      <td>3383</td>\n",
       "      <td>24</td>\n",
       "      <td>3</td>\n",
       "    </tr>\n",
       "    <tr>\n",
       "      <th>10678</th>\n",
       "      <td>Air Asia</td>\n",
       "      <td>Kolkata</td>\n",
       "      <td>CCU → BLR</td>\n",
       "      <td>Banglore</td>\n",
       "      <td>2022-04-29 19:55:00</td>\n",
       "      <td>2022-04-29 22:25:00</td>\n",
       "      <td>2h 30m</td>\n",
       "      <td>non-stop</td>\n",
       "      <td>No Info</td>\n",
       "      <td>4107</td>\n",
       "      <td>4</td>\n",
       "      <td>9</td>\n",
       "    </tr>\n",
       "  </tbody>\n",
       "</table>\n",
       "<p>319 rows × 12 columns</p>\n",
       "</div>"
      ],
      "text/plain": [
       "        Airline    Source            Route Destination            Dep_Time  \\\n",
       "43     Air Asia  Banglore        BLR → DEL       Delhi 2022-04-29 11:10:00   \n",
       "54     Air Asia  Banglore        BLR → DEL       Delhi 2022-04-29 23:55:00   \n",
       "189    Air Asia  Banglore        BLR → DEL       Delhi 2022-04-29 11:10:00   \n",
       "235    Air Asia   Kolkata        CCU → BLR    Banglore 2022-04-29 10:20:00   \n",
       "302    Air Asia   Kolkata        CCU → BLR    Banglore 2022-04-29 10:20:00   \n",
       "...         ...       ...              ...         ...                 ...   \n",
       "10425  Air Asia   Kolkata        CCU → BLR    Banglore 2022-04-29 19:55:00   \n",
       "10504  Air Asia     Delhi  DEL → BLR → COK      Cochin 2022-04-29 07:55:00   \n",
       "10550  Air Asia   Kolkata        CCU → BLR    Banglore 2022-04-29 19:35:00   \n",
       "10590  Air Asia  Banglore        BLR → DEL       Delhi 2022-04-29 23:25:00   \n",
       "10678  Air Asia   Kolkata        CCU → BLR    Banglore 2022-04-29 19:55:00   \n",
       "\n",
       "             Arrival_Time Duration Total_Stops Additional_Info  Price  \\\n",
       "43    2022-04-29 13:55:00   2h 45m    non-stop         No Info   3383   \n",
       "54    2022-04-04 02:45:00   2h 50m    non-stop         No Info   4483   \n",
       "189   2022-04-29 13:55:00   2h 45m    non-stop         No Info   3383   \n",
       "235   2022-04-29 12:55:00   2h 35m    non-stop         No Info   4409   \n",
       "302   2022-04-29 12:55:00   2h 35m    non-stop         No Info   5216   \n",
       "...                   ...      ...         ...             ...    ...   \n",
       "10425 2022-04-29 22:25:00   2h 30m    non-stop         No Info   4409   \n",
       "10504 2022-04-29 22:25:00  14h 30m      1 stop         No Info   6152   \n",
       "10550 2022-04-29 22:05:00   2h 30m    non-stop         No Info   4384   \n",
       "10590 2022-03-22 02:10:00   2h 45m    non-stop         No Info   3383   \n",
       "10678 2022-04-29 22:25:00   2h 30m    non-stop         No Info   4107   \n",
       "\n",
       "       Day_of_Journey  Month_of_Journey  \n",
       "43                  5                 6  \n",
       "54                  4                 3  \n",
       "189                 6                12  \n",
       "235                 5                 1  \n",
       "302                 5                12  \n",
       "...               ...               ...  \n",
       "10425               4                12  \n",
       "10504               6                12  \n",
       "10550               3                12  \n",
       "10590              24                 3  \n",
       "10678               4                 9  \n",
       "\n",
       "[319 rows x 12 columns]"
      ]
     },
     "execution_count": 135,
     "metadata": {},
     "output_type": "execute_result"
    }
   ],
   "source": [
    "z"
   ]
  },
  {
   "cell_type": "code",
   "execution_count": 136,
   "id": "219bb97f",
   "metadata": {},
   "outputs": [
    {
     "data": {
      "text/plain": [
       "Source    Destination\n",
       "Banglore  Delhi           89\n",
       "Delhi     Cochin          80\n",
       "Kolkata   Banglore       150\n",
       "Name: Destination, dtype: int64"
      ]
     },
     "execution_count": 136,
     "metadata": {},
     "output_type": "execute_result"
    }
   ],
   "source": [
    "z.groupby(['Source'])['Destination'].value_counts()"
   ]
  },
  {
   "cell_type": "code",
   "execution_count": 137,
   "id": "379ac4fd",
   "metadata": {},
   "outputs": [
    {
     "data": {
      "text/plain": [
       "non-stop    181\n",
       "1 stop      129\n",
       "2 stops       9\n",
       "Name: Total_Stops, dtype: int64"
      ]
     },
     "execution_count": 137,
     "metadata": {},
     "output_type": "execute_result"
    }
   ],
   "source": [
    "z['Total_Stops'].value_counts()"
   ]
  },
  {
   "cell_type": "code",
   "execution_count": 138,
   "id": "1dc4ecc7",
   "metadata": {},
   "outputs": [
    {
     "data": {
      "text/plain": [
       "<AxesSubplot:xlabel='Total_Stops', ylabel='Count'>"
      ]
     },
     "execution_count": 138,
     "metadata": {},
     "output_type": "execute_result"
    },
    {
     "data": {
      "image/png": "[encoded data removed]",
      "text/plain": [
       "<Figure size 432x288 with 1 Axes>"
      ]
     },
     "metadata": {},
     "output_type": "display_data"
    }
   ],
   "source": [
    "sns.histplot(z['Total_Stops'])"
   ]
  },
  {
   "cell_type": "code",
   "execution_count": 139,
   "id": "8fadf2d9",
   "metadata": {},
   "outputs": [
    {
     "data": {
      "text/plain": [
       "No Info           318\n",
       "Red-eye flight      1\n",
       "Name: Additional_Info, dtype: int64"
      ]
     },
     "execution_count": 139,
     "metadata": {},
     "output_type": "execute_result"
    }
   ],
   "source": [
    "z['Additional_Info'].value_counts()"
   ]
  },
  {
   "cell_type": "code",
   "execution_count": 140,
   "id": "bd44ed19",
   "metadata": {},
   "outputs": [
    {
     "data": {
      "text/plain": [
       "max    13774\n",
       "min     3383\n",
       "Name: Price, dtype: int64"
      ]
     },
     "execution_count": 140,
     "metadata": {},
     "output_type": "execute_result"
    }
   ],
   "source": [
    "z['Price'].agg([max,min])"
   ]
  },
  {
   "cell_type": "code",
   "execution_count": 141,
   "id": "af10b972",
   "metadata": {},
   "outputs": [
    {
     "data": {
      "text/plain": [
       "<seaborn.axisgrid.FacetGrid at 0x20c8db50>"
      ]
     },
     "execution_count": 141,
     "metadata": {},
     "output_type": "execute_result"
    },
    {
     "data": {
      "image/png": "[encoded data removed]",
      "text/plain": [
       "<Figure size 360x360 with 1 Axes>"
      ]
     },
     "metadata": {},
     "output_type": "display_data"
    }
   ],
   "source": [
    "sns.relplot(x = 'Additional_Info', y = 'Price', data = z)"
   ]
  },
  {
   "cell_type": "code",
   "execution_count": 142,
   "id": "7f1e7139",
   "metadata": {},
   "outputs": [
    {
     "data": {
      "text/plain": [
       "Month_of_Journey  Month_of_Journey\n",
       "1                 1                   28\n",
       "3                 3                   59\n",
       "4                 4                   32\n",
       "5                 5                   61\n",
       "6                 6                   69\n",
       "9                 9                   41\n",
       "12                12                  29\n",
       "Name: Month_of_Journey, dtype: int64"
      ]
     },
     "execution_count": 142,
     "metadata": {},
     "output_type": "execute_result"
    }
   ],
   "source": [
    "z.groupby(['Month_of_Journey'])['Month_of_Journey'].value_counts()"
   ]
  },
  {
   "cell_type": "code",
   "execution_count": 143,
   "id": "cc06a0ee",
   "metadata": {},
   "outputs": [
    {
     "data": {
      "text/plain": [
       "array(['IndiGo', 'Air India', 'Jet Airways', 'SpiceJet',\n",
       "       'Multiple carriers', 'GoAir', 'Vistara', 'Air Asia',\n",
       "       'Vistara Premium economy', 'Jet Airways Business',\n",
       "       'Multiple carriers Premium economy', 'Trujet'], dtype=object)"
      ]
     },
     "execution_count": 143,
     "metadata": {},
     "output_type": "execute_result"
    }
   ],
   "source": [
    " df['Airline'].unique()"
   ]
  },
  {
   "cell_type": "markdown",
   "id": "811180f2",
   "metadata": {},
   "source": [
    "# Vistara Premium Economy Flight"
   ]
  },
  {
   "cell_type": "code",
   "execution_count": 144,
   "id": "a4a32264",
   "metadata": {},
   "outputs": [],
   "source": [
    "f = df.iloc[np.where(df['Airline']=='Vistara Premium economy')]"
   ]
  },
  {
   "cell_type": "code",
   "execution_count": 145,
   "id": "eb90a53c",
   "metadata": {},
   "outputs": [
    {
     "data": {
      "text/html": [
       "<div>\n",
       "<style scoped>\n",
       "    .dataframe tbody tr th:only-of-type {\n",
       "        vertical-align: middle;\n",
       "    }\n",
       "\n",
       "    .dataframe tbody tr th {\n",
       "        vertical-align: top;\n",
       "    }\n",
       "\n",
       "    .dataframe thead th {\n",
       "        text-align: right;\n",
       "    }\n",
       "</style>\n",
       "<table border=\"1\" class=\"dataframe\">\n",
       "  <thead>\n",
       "    <tr style=\"text-align: right;\">\n",
       "      <th></th>\n",
       "      <th>Airline</th>\n",
       "      <th>Source</th>\n",
       "      <th>Route</th>\n",
       "      <th>Destination</th>\n",
       "      <th>Dep_Time</th>\n",
       "      <th>Arrival_Time</th>\n",
       "      <th>Duration</th>\n",
       "      <th>Total_Stops</th>\n",
       "      <th>Additional_Info</th>\n",
       "      <th>Price</th>\n",
       "      <th>Day_of_Journey</th>\n",
       "      <th>Month_of_Journey</th>\n",
       "    </tr>\n",
       "  </thead>\n",
       "  <tbody>\n",
       "    <tr>\n",
       "      <th>426</th>\n",
       "      <td>Vistara Premium economy</td>\n",
       "      <td>Banglore</td>\n",
       "      <td>BLR → DEL</td>\n",
       "      <td>Delhi</td>\n",
       "      <td>2022-04-29 16:00:00</td>\n",
       "      <td>2022-04-29 18:35:00</td>\n",
       "      <td>2h 35m</td>\n",
       "      <td>non-stop</td>\n",
       "      <td>No Info</td>\n",
       "      <td>11793</td>\n",
       "      <td>3</td>\n",
       "      <td>3</td>\n",
       "    </tr>\n",
       "    <tr>\n",
       "      <th>7657</th>\n",
       "      <td>Vistara Premium economy</td>\n",
       "      <td>Chennai</td>\n",
       "      <td>MAA → CCU</td>\n",
       "      <td>Kolkata</td>\n",
       "      <td>2022-04-29 07:05:00</td>\n",
       "      <td>2022-04-29 09:20:00</td>\n",
       "      <td>2h 15m</td>\n",
       "      <td>non-stop</td>\n",
       "      <td>No Info</td>\n",
       "      <td>9125</td>\n",
       "      <td>3</td>\n",
       "      <td>1</td>\n",
       "    </tr>\n",
       "    <tr>\n",
       "      <th>8615</th>\n",
       "      <td>Vistara Premium economy</td>\n",
       "      <td>Banglore</td>\n",
       "      <td>BLR → DEL</td>\n",
       "      <td>Delhi</td>\n",
       "      <td>2022-04-29 11:30:00</td>\n",
       "      <td>2022-04-29 14:20:00</td>\n",
       "      <td>2h 50m</td>\n",
       "      <td>non-stop</td>\n",
       "      <td>No Info</td>\n",
       "      <td>5969</td>\n",
       "      <td>4</td>\n",
       "      <td>6</td>\n",
       "    </tr>\n",
       "  </tbody>\n",
       "</table>\n",
       "</div>"
      ],
      "text/plain": [
       "                      Airline    Source      Route Destination  \\\n",
       "426   Vistara Premium economy  Banglore  BLR → DEL       Delhi   \n",
       "7657  Vistara Premium economy   Chennai  MAA → CCU     Kolkata   \n",
       "8615  Vistara Premium economy  Banglore  BLR → DEL       Delhi   \n",
       "\n",
       "                Dep_Time        Arrival_Time Duration Total_Stops  \\\n",
       "426  2022-04-29 16:00:00 2022-04-29 18:35:00   2h 35m    non-stop   \n",
       "7657 2022-04-29 07:05:00 2022-04-29 09:20:00   2h 15m    non-stop   \n",
       "8615 2022-04-29 11:30:00 2022-04-29 14:20:00   2h 50m    non-stop   \n",
       "\n",
       "     Additional_Info  Price  Day_of_Journey  Month_of_Journey  \n",
       "426          No Info  11793               3                 3  \n",
       "7657         No Info   9125               3                 1  \n",
       "8615         No Info   5969               4                 6  "
      ]
     },
     "execution_count": 145,
     "metadata": {},
     "output_type": "execute_result"
    }
   ],
   "source": [
    "f"
   ]
  },
  {
   "cell_type": "code",
   "execution_count": 146,
   "id": "285147a1",
   "metadata": {},
   "outputs": [
    {
     "data": {
      "text/plain": [
       "Source    Destination\n",
       "Banglore  Delhi          2\n",
       "Chennai   Kolkata        1\n",
       "Name: Destination, dtype: int64"
      ]
     },
     "execution_count": 146,
     "metadata": {},
     "output_type": "execute_result"
    }
   ],
   "source": [
    "f.groupby(['Source'])['Destination'].value_counts()"
   ]
  },
  {
   "cell_type": "code",
   "execution_count": 147,
   "id": "3f756893",
   "metadata": {},
   "outputs": [
    {
     "data": {
      "text/plain": [
       "non-stop    3\n",
       "Name: Total_Stops, dtype: int64"
      ]
     },
     "execution_count": 147,
     "metadata": {},
     "output_type": "execute_result"
    }
   ],
   "source": [
    "f['Total_Stops'].value_counts()"
   ]
  },
  {
   "cell_type": "code",
   "execution_count": 148,
   "id": "52cfc437",
   "metadata": {},
   "outputs": [
    {
     "data": {
      "text/plain": [
       "No Info    3\n",
       "Name: Additional_Info, dtype: int64"
      ]
     },
     "execution_count": 148,
     "metadata": {},
     "output_type": "execute_result"
    }
   ],
   "source": [
    "f['Additional_Info'].value_counts()"
   ]
  },
  {
   "cell_type": "code",
   "execution_count": 149,
   "id": "cac3ef40",
   "metadata": {},
   "outputs": [
    {
     "data": {
      "text/plain": [
       "max    11793\n",
       "min     5969\n",
       "Name: Price, dtype: int64"
      ]
     },
     "execution_count": 149,
     "metadata": {},
     "output_type": "execute_result"
    }
   ],
   "source": [
    "f['Price'].agg([max,min])"
   ]
  },
  {
   "cell_type": "code",
   "execution_count": 150,
   "id": "71e46f56",
   "metadata": {},
   "outputs": [
    {
     "data": {
      "text/plain": [
       "<seaborn.axisgrid.FacetGrid at 0x20ad9760>"
      ]
     },
     "execution_count": 150,
     "metadata": {},
     "output_type": "execute_result"
    },
    {
     "data": {
      "image/png": "[encoded data removed]",
      "text/plain": [
       "<Figure size 360x360 with 1 Axes>"
      ]
     },
     "metadata": {},
     "output_type": "display_data"
    }
   ],
   "source": [
    "sns.relplot(x = 'Additional_Info', y = 'Price', data=f)"
   ]
  },
  {
   "cell_type": "code",
   "execution_count": 151,
   "id": "c5a95dcd",
   "metadata": {},
   "outputs": [
    {
     "data": {
      "text/plain": [
       "Month_of_Journey  Month_of_Journey\n",
       "1                 1                   1\n",
       "3                 3                   1\n",
       "6                 6                   1\n",
       "Name: Month_of_Journey, dtype: int64"
      ]
     },
     "execution_count": 151,
     "metadata": {},
     "output_type": "execute_result"
    }
   ],
   "source": [
    "f.groupby([\"Month_of_Journey\"])['Month_of_Journey'].value_counts()"
   ]
  },
  {
   "cell_type": "code",
   "execution_count": 152,
   "id": "a6764c44",
   "metadata": {},
   "outputs": [
    {
     "data": {
      "text/plain": [
       "array(['IndiGo', 'Air India', 'Jet Airways', 'SpiceJet',\n",
       "       'Multiple carriers', 'GoAir', 'Vistara', 'Air Asia',\n",
       "       'Vistara Premium economy', 'Jet Airways Business',\n",
       "       'Multiple carriers Premium economy', 'Trujet'], dtype=object)"
      ]
     },
     "execution_count": 152,
     "metadata": {},
     "output_type": "execute_result"
    }
   ],
   "source": [
    "df['Airline'].unique()"
   ]
  },
  {
   "cell_type": "markdown",
   "id": "20825ffa",
   "metadata": {},
   "source": [
    "# Jet Airways Business Flight"
   ]
  },
  {
   "cell_type": "code",
   "execution_count": 153,
   "id": "7fa920d7",
   "metadata": {},
   "outputs": [],
   "source": [
    "j = df.iloc[np.where(df['Airline']=='Jet Airways Business')]"
   ]
  },
  {
   "cell_type": "code",
   "execution_count": 154,
   "id": "38323deb",
   "metadata": {},
   "outputs": [
    {
     "data": {
      "text/html": [
       "<div>\n",
       "<style scoped>\n",
       "    .dataframe tbody tr th:only-of-type {\n",
       "        vertical-align: middle;\n",
       "    }\n",
       "\n",
       "    .dataframe tbody tr th {\n",
       "        vertical-align: top;\n",
       "    }\n",
       "\n",
       "    .dataframe thead th {\n",
       "        text-align: right;\n",
       "    }\n",
       "</style>\n",
       "<table border=\"1\" class=\"dataframe\">\n",
       "  <thead>\n",
       "    <tr style=\"text-align: right;\">\n",
       "      <th></th>\n",
       "      <th>Airline</th>\n",
       "      <th>Source</th>\n",
       "      <th>Route</th>\n",
       "      <th>Destination</th>\n",
       "      <th>Dep_Time</th>\n",
       "      <th>Arrival_Time</th>\n",
       "      <th>Duration</th>\n",
       "      <th>Total_Stops</th>\n",
       "      <th>Additional_Info</th>\n",
       "      <th>Price</th>\n",
       "      <th>Day_of_Journey</th>\n",
       "      <th>Month_of_Journey</th>\n",
       "    </tr>\n",
       "  </thead>\n",
       "  <tbody>\n",
       "    <tr>\n",
       "      <th>657</th>\n",
       "      <td>Jet Airways Business</td>\n",
       "      <td>Banglore</td>\n",
       "      <td>BLR → BOM → DEL</td>\n",
       "      <td>Delhi</td>\n",
       "      <td>2022-04-29 05:45:00</td>\n",
       "      <td>2022-04-29 10:45:00</td>\n",
       "      <td>5h</td>\n",
       "      <td>1 stop</td>\n",
       "      <td>No Info</td>\n",
       "      <td>52229</td>\n",
       "      <td>3</td>\n",
       "      <td>1</td>\n",
       "    </tr>\n",
       "    <tr>\n",
       "      <th>2924</th>\n",
       "      <td>Jet Airways Business</td>\n",
       "      <td>Banglore</td>\n",
       "      <td>BLR → BOM → DEL</td>\n",
       "      <td>Delhi</td>\n",
       "      <td>2022-04-29 05:45:00</td>\n",
       "      <td>2022-04-29 11:25:00</td>\n",
       "      <td>5h 40m</td>\n",
       "      <td>1 stop</td>\n",
       "      <td>Business class</td>\n",
       "      <td>79512</td>\n",
       "      <td>3</td>\n",
       "      <td>1</td>\n",
       "    </tr>\n",
       "    <tr>\n",
       "      <th>5372</th>\n",
       "      <td>Jet Airways Business</td>\n",
       "      <td>Banglore</td>\n",
       "      <td>BLR → BOM → DEL</td>\n",
       "      <td>Delhi</td>\n",
       "      <td>2022-04-29 05:45:00</td>\n",
       "      <td>2022-04-29 12:25:00</td>\n",
       "      <td>6h 40m</td>\n",
       "      <td>1 stop</td>\n",
       "      <td>Business class</td>\n",
       "      <td>62427</td>\n",
       "      <td>3</td>\n",
       "      <td>1</td>\n",
       "    </tr>\n",
       "    <tr>\n",
       "      <th>7351</th>\n",
       "      <td>Jet Airways Business</td>\n",
       "      <td>Delhi</td>\n",
       "      <td>DEL → ATQ → BOM → COK</td>\n",
       "      <td>Cochin</td>\n",
       "      <td>2022-04-29 20:05:00</td>\n",
       "      <td>2022-03-04 04:25:00</td>\n",
       "      <td>8h 20m</td>\n",
       "      <td>2 stops</td>\n",
       "      <td>No Info</td>\n",
       "      <td>46490</td>\n",
       "      <td>3</td>\n",
       "      <td>3</td>\n",
       "    </tr>\n",
       "    <tr>\n",
       "      <th>9715</th>\n",
       "      <td>Jet Airways Business</td>\n",
       "      <td>Delhi</td>\n",
       "      <td>DEL → ATQ → BOM → COK</td>\n",
       "      <td>Cochin</td>\n",
       "      <td>2022-04-29 20:05:00</td>\n",
       "      <td>2022-03-07 04:25:00</td>\n",
       "      <td>8h 20m</td>\n",
       "      <td>2 stops</td>\n",
       "      <td>No Info</td>\n",
       "      <td>52285</td>\n",
       "      <td>3</td>\n",
       "      <td>6</td>\n",
       "    </tr>\n",
       "    <tr>\n",
       "      <th>10364</th>\n",
       "      <td>Jet Airways Business</td>\n",
       "      <td>Banglore</td>\n",
       "      <td>BLR → MAA → DEL</td>\n",
       "      <td>Delhi</td>\n",
       "      <td>2022-04-29 09:45:00</td>\n",
       "      <td>2022-04-29 14:25:00</td>\n",
       "      <td>4h 40m</td>\n",
       "      <td>1 stop</td>\n",
       "      <td>Business class</td>\n",
       "      <td>57209</td>\n",
       "      <td>3</td>\n",
       "      <td>1</td>\n",
       "    </tr>\n",
       "  </tbody>\n",
       "</table>\n",
       "</div>"
      ],
      "text/plain": [
       "                    Airline    Source                  Route Destination  \\\n",
       "657    Jet Airways Business  Banglore        BLR → BOM → DEL       Delhi   \n",
       "2924   Jet Airways Business  Banglore        BLR → BOM → DEL       Delhi   \n",
       "5372   Jet Airways Business  Banglore        BLR → BOM → DEL       Delhi   \n",
       "7351   Jet Airways Business     Delhi  DEL → ATQ → BOM → COK      Cochin   \n",
       "9715   Jet Airways Business     Delhi  DEL → ATQ → BOM → COK      Cochin   \n",
       "10364  Jet Airways Business  Banglore        BLR → MAA → DEL       Delhi   \n",
       "\n",
       "                 Dep_Time        Arrival_Time Duration Total_Stops  \\\n",
       "657   2022-04-29 05:45:00 2022-04-29 10:45:00       5h      1 stop   \n",
       "2924  2022-04-29 05:45:00 2022-04-29 11:25:00   5h 40m      1 stop   \n",
       "5372  2022-04-29 05:45:00 2022-04-29 12:25:00   6h 40m      1 stop   \n",
       "7351  2022-04-29 20:05:00 2022-03-04 04:25:00   8h 20m     2 stops   \n",
       "9715  2022-04-29 20:05:00 2022-03-07 04:25:00   8h 20m     2 stops   \n",
       "10364 2022-04-29 09:45:00 2022-04-29 14:25:00   4h 40m      1 stop   \n",
       "\n",
       "      Additional_Info  Price  Day_of_Journey  Month_of_Journey  \n",
       "657           No Info  52229               3                 1  \n",
       "2924   Business class  79512               3                 1  \n",
       "5372   Business class  62427               3                 1  \n",
       "7351          No Info  46490               3                 3  \n",
       "9715          No Info  52285               3                 6  \n",
       "10364  Business class  57209               3                 1  "
      ]
     },
     "execution_count": 154,
     "metadata": {},
     "output_type": "execute_result"
    }
   ],
   "source": [
    "j"
   ]
  },
  {
   "cell_type": "code",
   "execution_count": 155,
   "id": "170fd7b9",
   "metadata": {},
   "outputs": [
    {
     "data": {
      "text/plain": [
       "Source    Destination\n",
       "Banglore  Delhi          4\n",
       "Delhi     Cochin         2\n",
       "Name: Destination, dtype: int64"
      ]
     },
     "execution_count": 155,
     "metadata": {},
     "output_type": "execute_result"
    }
   ],
   "source": [
    "j.groupby(['Source'])['Destination'].value_counts()"
   ]
  },
  {
   "cell_type": "code",
   "execution_count": 156,
   "id": "49f714aa",
   "metadata": {},
   "outputs": [
    {
     "data": {
      "text/plain": [
       "1 stop     4\n",
       "2 stops    2\n",
       "Name: Total_Stops, dtype: int64"
      ]
     },
     "execution_count": 156,
     "metadata": {},
     "output_type": "execute_result"
    }
   ],
   "source": [
    "j['Total_Stops'].value_counts()"
   ]
  },
  {
   "cell_type": "code",
   "execution_count": 157,
   "id": "13630e4c",
   "metadata": {},
   "outputs": [
    {
     "data": {
      "text/plain": [
       "<AxesSubplot:xlabel='Total_Stops', ylabel='Count'>"
      ]
     },
     "execution_count": 157,
     "metadata": {},
     "output_type": "execute_result"
    },
    {
     "data": {
      "image/png": "[encoded data removed]",
      "text/plain": [
       "<Figure size 432x288 with 1 Axes>"
      ]
     },
     "metadata": {},
     "output_type": "display_data"
    }
   ],
   "source": [
    "sns.histplot(j['Total_Stops'])"
   ]
  },
  {
   "cell_type": "code",
   "execution_count": 158,
   "id": "85090ff1",
   "metadata": {},
   "outputs": [
    {
     "data": {
      "text/plain": [
       "No Info           3\n",
       "Business class    3\n",
       "Name: Additional_Info, dtype: int64"
      ]
     },
     "execution_count": 158,
     "metadata": {},
     "output_type": "execute_result"
    }
   ],
   "source": [
    "j['Additional_Info'].value_counts()"
   ]
  },
  {
   "cell_type": "code",
   "execution_count": 159,
   "id": "655a2844",
   "metadata": {},
   "outputs": [
    {
     "data": {
      "text/plain": [
       "max    79512\n",
       "min    46490\n",
       "Name: Price, dtype: int64"
      ]
     },
     "execution_count": 159,
     "metadata": {},
     "output_type": "execute_result"
    }
   ],
   "source": [
    "j['Price'].agg([max,min])"
   ]
  },
  {
   "cell_type": "code",
   "execution_count": 160,
   "id": "d70bb66c",
   "metadata": {},
   "outputs": [
    {
     "data": {
      "text/plain": [
       "<AxesSubplot:xlabel='Additional_Info', ylabel='Price'>"
      ]
     },
     "execution_count": 160,
     "metadata": {},
     "output_type": "execute_result"
    },
    {
     "data": {
      "image/png": "[encoded data removed]",
      "text/plain": [
       "<Figure size 432x288 with 1 Axes>"
      ]
     },
     "metadata": {},
     "output_type": "display_data"
    }
   ],
   "source": [
    "sns.lineplot(x = 'Additional_Info', y = 'Price', data = j)"
   ]
  },
  {
   "cell_type": "code",
   "execution_count": 161,
   "id": "3f6fbcb0",
   "metadata": {},
   "outputs": [
    {
     "data": {
      "text/plain": [
       "Month_of_Journey  Month_of_Journey\n",
       "1                 1                   4\n",
       "3                 3                   1\n",
       "6                 6                   1\n",
       "Name: Month_of_Journey, dtype: int64"
      ]
     },
     "execution_count": 161,
     "metadata": {},
     "output_type": "execute_result"
    }
   ],
   "source": [
    "j.groupby(['Month_of_Journey'])['Month_of_Journey'].value_counts()"
   ]
  },
  {
   "cell_type": "markdown",
   "id": "f1ec6b5a",
   "metadata": {},
   "source": [
    "# Multiple carriers Premium economy Flight"
   ]
  },
  {
   "cell_type": "code",
   "execution_count": 162,
   "id": "1d463728",
   "metadata": {},
   "outputs": [],
   "source": [
    "m = df.iloc[np.where(df['Airline']=='Multiple carriers Premium economy')]"
   ]
  },
  {
   "cell_type": "code",
   "execution_count": 163,
   "id": "f248dbb5",
   "metadata": {},
   "outputs": [
    {
     "data": {
      "text/html": [
       "<div>\n",
       "<style scoped>\n",
       "    .dataframe tbody tr th:only-of-type {\n",
       "        vertical-align: middle;\n",
       "    }\n",
       "\n",
       "    .dataframe tbody tr th {\n",
       "        vertical-align: top;\n",
       "    }\n",
       "\n",
       "    .dataframe thead th {\n",
       "        text-align: right;\n",
       "    }\n",
       "</style>\n",
       "<table border=\"1\" class=\"dataframe\">\n",
       "  <thead>\n",
       "    <tr style=\"text-align: right;\">\n",
       "      <th></th>\n",
       "      <th>Airline</th>\n",
       "      <th>Source</th>\n",
       "      <th>Route</th>\n",
       "      <th>Destination</th>\n",
       "      <th>Dep_Time</th>\n",
       "      <th>Arrival_Time</th>\n",
       "      <th>Duration</th>\n",
       "      <th>Total_Stops</th>\n",
       "      <th>Additional_Info</th>\n",
       "      <th>Price</th>\n",
       "      <th>Day_of_Journey</th>\n",
       "      <th>Month_of_Journey</th>\n",
       "    </tr>\n",
       "  </thead>\n",
       "  <tbody>\n",
       "    <tr>\n",
       "      <th>717</th>\n",
       "      <td>Multiple carriers Premium economy</td>\n",
       "      <td>Delhi</td>\n",
       "      <td>DEL → BOM → COK</td>\n",
       "      <td>Cochin</td>\n",
       "      <td>2022-04-29 07:30:00</td>\n",
       "      <td>2022-04-29 19:15:00</td>\n",
       "      <td>11h 45m</td>\n",
       "      <td>1 stop</td>\n",
       "      <td>No Info</td>\n",
       "      <td>10161</td>\n",
       "      <td>21</td>\n",
       "      <td>3</td>\n",
       "    </tr>\n",
       "    <tr>\n",
       "      <th>1799</th>\n",
       "      <td>Multiple carriers Premium economy</td>\n",
       "      <td>Delhi</td>\n",
       "      <td>DEL → BOM → COK</td>\n",
       "      <td>Cochin</td>\n",
       "      <td>2022-04-29 07:30:00</td>\n",
       "      <td>2022-04-29 21:00:00</td>\n",
       "      <td>13h 30m</td>\n",
       "      <td>1 stop</td>\n",
       "      <td>No Info</td>\n",
       "      <td>9845</td>\n",
       "      <td>21</td>\n",
       "      <td>3</td>\n",
       "    </tr>\n",
       "    <tr>\n",
       "      <th>4627</th>\n",
       "      <td>Multiple carriers Premium economy</td>\n",
       "      <td>Delhi</td>\n",
       "      <td>DEL → BOM → COK</td>\n",
       "      <td>Cochin</td>\n",
       "      <td>2022-04-29 08:55:00</td>\n",
       "      <td>2022-04-29 19:15:00</td>\n",
       "      <td>10h 20m</td>\n",
       "      <td>1 stop</td>\n",
       "      <td>No Info</td>\n",
       "      <td>10161</td>\n",
       "      <td>21</td>\n",
       "      <td>3</td>\n",
       "    </tr>\n",
       "    <tr>\n",
       "      <th>4718</th>\n",
       "      <td>Multiple carriers Premium economy</td>\n",
       "      <td>Delhi</td>\n",
       "      <td>DEL → BOM → COK</td>\n",
       "      <td>Cochin</td>\n",
       "      <td>2022-04-29 06:00:00</td>\n",
       "      <td>2022-04-29 21:00:00</td>\n",
       "      <td>15h</td>\n",
       "      <td>1 stop</td>\n",
       "      <td>No Info</td>\n",
       "      <td>9845</td>\n",
       "      <td>21</td>\n",
       "      <td>3</td>\n",
       "    </tr>\n",
       "    <tr>\n",
       "      <th>5090</th>\n",
       "      <td>Multiple carriers Premium economy</td>\n",
       "      <td>Delhi</td>\n",
       "      <td>DEL → BOM → COK</td>\n",
       "      <td>Cochin</td>\n",
       "      <td>2022-04-29 06:00:00</td>\n",
       "      <td>2022-04-29 13:20:00</td>\n",
       "      <td>7h 20m</td>\n",
       "      <td>1 stop</td>\n",
       "      <td>No Info</td>\n",
       "      <td>11269</td>\n",
       "      <td>21</td>\n",
       "      <td>3</td>\n",
       "    </tr>\n",
       "    <tr>\n",
       "      <th>5489</th>\n",
       "      <td>Multiple carriers Premium economy</td>\n",
       "      <td>Delhi</td>\n",
       "      <td>DEL → BOM → COK</td>\n",
       "      <td>Cochin</td>\n",
       "      <td>2022-04-29 06:00:00</td>\n",
       "      <td>2022-04-29 15:30:00</td>\n",
       "      <td>9h 30m</td>\n",
       "      <td>1 stop</td>\n",
       "      <td>No Info</td>\n",
       "      <td>11269</td>\n",
       "      <td>21</td>\n",
       "      <td>3</td>\n",
       "    </tr>\n",
       "    <tr>\n",
       "      <th>5673</th>\n",
       "      <td>Multiple carriers Premium economy</td>\n",
       "      <td>Delhi</td>\n",
       "      <td>DEL → BOM → COK</td>\n",
       "      <td>Cochin</td>\n",
       "      <td>2022-04-29 06:00:00</td>\n",
       "      <td>2022-04-29 18:50:00</td>\n",
       "      <td>12h 50m</td>\n",
       "      <td>1 stop</td>\n",
       "      <td>No Info</td>\n",
       "      <td>14629</td>\n",
       "      <td>21</td>\n",
       "      <td>3</td>\n",
       "    </tr>\n",
       "    <tr>\n",
       "      <th>5836</th>\n",
       "      <td>Multiple carriers Premium economy</td>\n",
       "      <td>Delhi</td>\n",
       "      <td>DEL → BOM → COK</td>\n",
       "      <td>Cochin</td>\n",
       "      <td>2022-04-29 07:30:00</td>\n",
       "      <td>2022-04-29 18:50:00</td>\n",
       "      <td>11h 20m</td>\n",
       "      <td>1 stop</td>\n",
       "      <td>No Info</td>\n",
       "      <td>14629</td>\n",
       "      <td>21</td>\n",
       "      <td>3</td>\n",
       "    </tr>\n",
       "    <tr>\n",
       "      <th>6470</th>\n",
       "      <td>Multiple carriers Premium economy</td>\n",
       "      <td>Delhi</td>\n",
       "      <td>DEL → BOM → COK</td>\n",
       "      <td>Cochin</td>\n",
       "      <td>2022-04-29 08:55:00</td>\n",
       "      <td>2022-04-29 21:00:00</td>\n",
       "      <td>12h 5m</td>\n",
       "      <td>1 stop</td>\n",
       "      <td>No Info</td>\n",
       "      <td>9845</td>\n",
       "      <td>21</td>\n",
       "      <td>3</td>\n",
       "    </tr>\n",
       "    <tr>\n",
       "      <th>6591</th>\n",
       "      <td>Multiple carriers Premium economy</td>\n",
       "      <td>Delhi</td>\n",
       "      <td>DEL → BOM → COK</td>\n",
       "      <td>Cochin</td>\n",
       "      <td>2022-04-29 08:55:00</td>\n",
       "      <td>2022-04-29 15:30:00</td>\n",
       "      <td>6h 35m</td>\n",
       "      <td>1 stop</td>\n",
       "      <td>No Info</td>\n",
       "      <td>11269</td>\n",
       "      <td>21</td>\n",
       "      <td>3</td>\n",
       "    </tr>\n",
       "    <tr>\n",
       "      <th>6601</th>\n",
       "      <td>Multiple carriers Premium economy</td>\n",
       "      <td>Delhi</td>\n",
       "      <td>DEL → BOM → COK</td>\n",
       "      <td>Cochin</td>\n",
       "      <td>2022-04-29 06:00:00</td>\n",
       "      <td>2022-04-29 12:35:00</td>\n",
       "      <td>6h 35m</td>\n",
       "      <td>1 stop</td>\n",
       "      <td>No Info</td>\n",
       "      <td>13369</td>\n",
       "      <td>21</td>\n",
       "      <td>3</td>\n",
       "    </tr>\n",
       "    <tr>\n",
       "      <th>9249</th>\n",
       "      <td>Multiple carriers Premium economy</td>\n",
       "      <td>Delhi</td>\n",
       "      <td>DEL → BOM → COK</td>\n",
       "      <td>Cochin</td>\n",
       "      <td>2022-04-29 19:00:00</td>\n",
       "      <td>2022-03-22 01:35:00</td>\n",
       "      <td>6h 35m</td>\n",
       "      <td>1 stop</td>\n",
       "      <td>No Info</td>\n",
       "      <td>10885</td>\n",
       "      <td>21</td>\n",
       "      <td>3</td>\n",
       "    </tr>\n",
       "    <tr>\n",
       "      <th>9253</th>\n",
       "      <td>Multiple carriers Premium economy</td>\n",
       "      <td>Delhi</td>\n",
       "      <td>DEL → BOM → COK</td>\n",
       "      <td>Cochin</td>\n",
       "      <td>2022-04-29 07:30:00</td>\n",
       "      <td>2022-04-29 15:30:00</td>\n",
       "      <td>8h</td>\n",
       "      <td>1 stop</td>\n",
       "      <td>No Info</td>\n",
       "      <td>11269</td>\n",
       "      <td>21</td>\n",
       "      <td>3</td>\n",
       "    </tr>\n",
       "  </tbody>\n",
       "</table>\n",
       "</div>"
      ],
      "text/plain": [
       "                                Airline Source            Route Destination  \\\n",
       "717   Multiple carriers Premium economy  Delhi  DEL → BOM → COK      Cochin   \n",
       "1799  Multiple carriers Premium economy  Delhi  DEL → BOM → COK      Cochin   \n",
       "4627  Multiple carriers Premium economy  Delhi  DEL → BOM → COK      Cochin   \n",
       "4718  Multiple carriers Premium economy  Delhi  DEL → BOM → COK      Cochin   \n",
       "5090  Multiple carriers Premium economy  Delhi  DEL → BOM → COK      Cochin   \n",
       "5489  Multiple carriers Premium economy  Delhi  DEL → BOM → COK      Cochin   \n",
       "5673  Multiple carriers Premium economy  Delhi  DEL → BOM → COK      Cochin   \n",
       "5836  Multiple carriers Premium economy  Delhi  DEL → BOM → COK      Cochin   \n",
       "6470  Multiple carriers Premium economy  Delhi  DEL → BOM → COK      Cochin   \n",
       "6591  Multiple carriers Premium economy  Delhi  DEL → BOM → COK      Cochin   \n",
       "6601  Multiple carriers Premium economy  Delhi  DEL → BOM → COK      Cochin   \n",
       "9249  Multiple carriers Premium economy  Delhi  DEL → BOM → COK      Cochin   \n",
       "9253  Multiple carriers Premium economy  Delhi  DEL → BOM → COK      Cochin   \n",
       "\n",
       "                Dep_Time        Arrival_Time Duration Total_Stops  \\\n",
       "717  2022-04-29 07:30:00 2022-04-29 19:15:00  11h 45m      1 stop   \n",
       "1799 2022-04-29 07:30:00 2022-04-29 21:00:00  13h 30m      1 stop   \n",
       "4627 2022-04-29 08:55:00 2022-04-29 19:15:00  10h 20m      1 stop   \n",
       "4718 2022-04-29 06:00:00 2022-04-29 21:00:00      15h      1 stop   \n",
       "5090 2022-04-29 06:00:00 2022-04-29 13:20:00   7h 20m      1 stop   \n",
       "5489 2022-04-29 06:00:00 2022-04-29 15:30:00   9h 30m      1 stop   \n",
       "5673 2022-04-29 06:00:00 2022-04-29 18:50:00  12h 50m      1 stop   \n",
       "5836 2022-04-29 07:30:00 2022-04-29 18:50:00  11h 20m      1 stop   \n",
       "6470 2022-04-29 08:55:00 2022-04-29 21:00:00   12h 5m      1 stop   \n",
       "6591 2022-04-29 08:55:00 2022-04-29 15:30:00   6h 35m      1 stop   \n",
       "6601 2022-04-29 06:00:00 2022-04-29 12:35:00   6h 35m      1 stop   \n",
       "9249 2022-04-29 19:00:00 2022-03-22 01:35:00   6h 35m      1 stop   \n",
       "9253 2022-04-29 07:30:00 2022-04-29 15:30:00       8h      1 stop   \n",
       "\n",
       "     Additional_Info  Price  Day_of_Journey  Month_of_Journey  \n",
       "717          No Info  10161              21                 3  \n",
       "1799         No Info   9845              21                 3  \n",
       "4627         No Info  10161              21                 3  \n",
       "4718         No Info   9845              21                 3  \n",
       "5090         No Info  11269              21                 3  \n",
       "5489         No Info  11269              21                 3  \n",
       "5673         No Info  14629              21                 3  \n",
       "5836         No Info  14629              21                 3  \n",
       "6470         No Info   9845              21                 3  \n",
       "6591         No Info  11269              21                 3  \n",
       "6601         No Info  13369              21                 3  \n",
       "9249         No Info  10885              21                 3  \n",
       "9253         No Info  11269              21                 3  "
      ]
     },
     "execution_count": 163,
     "metadata": {},
     "output_type": "execute_result"
    }
   ],
   "source": [
    "m"
   ]
  },
  {
   "cell_type": "code",
   "execution_count": 164,
   "id": "b117c201",
   "metadata": {},
   "outputs": [
    {
     "data": {
      "text/plain": [
       "Source  Destination\n",
       "Delhi   Cochin         13\n",
       "Name: Destination, dtype: int64"
      ]
     },
     "execution_count": 164,
     "metadata": {},
     "output_type": "execute_result"
    }
   ],
   "source": [
    "m.groupby(['Source'])['Destination'].value_counts()"
   ]
  },
  {
   "cell_type": "code",
   "execution_count": 165,
   "id": "a611016e",
   "metadata": {},
   "outputs": [
    {
     "data": {
      "text/plain": [
       "1 stop    13\n",
       "Name: Total_Stops, dtype: int64"
      ]
     },
     "execution_count": 165,
     "metadata": {},
     "output_type": "execute_result"
    }
   ],
   "source": [
    "m['Total_Stops'].value_counts()"
   ]
  },
  {
   "cell_type": "code",
   "execution_count": 166,
   "id": "8a4d087f",
   "metadata": {},
   "outputs": [
    {
     "data": {
      "text/plain": [
       "No Info    13\n",
       "Name: Additional_Info, dtype: int64"
      ]
     },
     "execution_count": 166,
     "metadata": {},
     "output_type": "execute_result"
    }
   ],
   "source": [
    "m['Additional_Info'].value_counts()"
   ]
  },
  {
   "cell_type": "code",
   "execution_count": 167,
   "id": "68d89be2",
   "metadata": {},
   "outputs": [
    {
     "data": {
      "text/plain": [
       "max    14629\n",
       "min     9845\n",
       "Name: Price, dtype: int64"
      ]
     },
     "execution_count": 167,
     "metadata": {},
     "output_type": "execute_result"
    }
   ],
   "source": [
    "m['Price'].agg([max,min])"
   ]
  },
  {
   "cell_type": "code",
   "execution_count": 168,
   "id": "e433056c",
   "metadata": {},
   "outputs": [
    {
     "data": {
      "text/plain": [
       "<seaborn.axisgrid.FacetGrid at 0x20dddcd0>"
      ]
     },
     "execution_count": 168,
     "metadata": {},
     "output_type": "execute_result"
    },
    {
     "data": {
      "image/png": "[encoded data removed]",
      "text/plain": [
       "<Figure size 360x360 with 1 Axes>"
      ]
     },
     "metadata": {},
     "output_type": "display_data"
    }
   ],
   "source": [
    "sns.relplot(x = 'Additional_Info', y = 'Price', data = m)"
   ]
  },
  {
   "cell_type": "code",
   "execution_count": 169,
   "id": "58cc8d69",
   "metadata": {},
   "outputs": [
    {
     "data": {
      "text/plain": [
       "Month_of_Journey  Month_of_Journey\n",
       "3                 3                   13\n",
       "Name: Month_of_Journey, dtype: int64"
      ]
     },
     "execution_count": 169,
     "metadata": {},
     "output_type": "execute_result"
    }
   ],
   "source": [
    "m.groupby(['Month_of_Journey'])['Month_of_Journey'].value_counts()"
   ]
  },
  {
   "cell_type": "markdown",
   "id": "50d0ac45",
   "metadata": {},
   "source": [
    "# Trujet Flight"
   ]
  },
  {
   "cell_type": "code",
   "execution_count": 170,
   "id": "35c7e82c",
   "metadata": {},
   "outputs": [
    {
     "data": {
      "text/html": [
       "<div>\n",
       "<style scoped>\n",
       "    .dataframe tbody tr th:only-of-type {\n",
       "        vertical-align: middle;\n",
       "    }\n",
       "\n",
       "    .dataframe tbody tr th {\n",
       "        vertical-align: top;\n",
       "    }\n",
       "\n",
       "    .dataframe thead th {\n",
       "        text-align: right;\n",
       "    }\n",
       "</style>\n",
       "<table border=\"1\" class=\"dataframe\">\n",
       "  <thead>\n",
       "    <tr style=\"text-align: right;\">\n",
       "      <th></th>\n",
       "      <th>Airline</th>\n",
       "      <th>Source</th>\n",
       "      <th>Route</th>\n",
       "      <th>Destination</th>\n",
       "      <th>Dep_Time</th>\n",
       "      <th>Arrival_Time</th>\n",
       "      <th>Duration</th>\n",
       "      <th>Total_Stops</th>\n",
       "      <th>Additional_Info</th>\n",
       "      <th>Price</th>\n",
       "      <th>Day_of_Journey</th>\n",
       "      <th>Month_of_Journey</th>\n",
       "    </tr>\n",
       "  </thead>\n",
       "  <tbody>\n",
       "    <tr>\n",
       "      <th>2878</th>\n",
       "      <td>Trujet</td>\n",
       "      <td>Mumbai</td>\n",
       "      <td>BOM → NDC → HYD</td>\n",
       "      <td>Hyderabad</td>\n",
       "      <td>2022-04-29 13:05:00</td>\n",
       "      <td>2022-04-29 16:20:00</td>\n",
       "      <td>3h 15m</td>\n",
       "      <td>1 stop</td>\n",
       "      <td>No Info</td>\n",
       "      <td>4140</td>\n",
       "      <td>3</td>\n",
       "      <td>6</td>\n",
       "    </tr>\n",
       "  </tbody>\n",
       "</table>\n",
       "</div>"
      ],
      "text/plain": [
       "     Airline  Source            Route Destination            Dep_Time  \\\n",
       "2878  Trujet  Mumbai  BOM → NDC → HYD   Hyderabad 2022-04-29 13:05:00   \n",
       "\n",
       "            Arrival_Time Duration Total_Stops Additional_Info  Price  \\\n",
       "2878 2022-04-29 16:20:00   3h 15m      1 stop         No Info   4140   \n",
       "\n",
       "      Day_of_Journey  Month_of_Journey  \n",
       "2878               3                 6  "
      ]
     },
     "execution_count": 170,
     "metadata": {},
     "output_type": "execute_result"
    }
   ],
   "source": [
    "df.iloc[np.where(df['Airline']=='Trujet')]"
   ]
  },
  {
   "cell_type": "code",
   "execution_count": null,
   "id": "d2b08377",
   "metadata": {},
   "outputs": [],
   "source": []
  }
 ],
 "metadata": {
  "kernelspec": {
   "display_name": "Python 3",
   "language": "python",
   "name": "python3"
  },
  "language_info": {
   "codemirror_mode": {
    "name": "ipython",
    "version": 3
   },
   "file_extension": ".py",
   "mimetype": "text/x-python",
   "name": "python",
   "nbconvert_exporter": "python",
   "pygments_lexer": "ipython3",
   "version": "3.8.8"
  }
 },
 "nbformat": 4,
 "nbformat_minor": 5
}
